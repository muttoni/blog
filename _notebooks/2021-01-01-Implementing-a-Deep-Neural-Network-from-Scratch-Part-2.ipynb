{
  "nbformat": 4,
  "nbformat_minor": 0,
  "metadata": {
    "colab": {
      "name": "2021-01-01-Implementing-a-Deep-Neural-Network-from-Scratch-Part-2.ipynb",
      "provenance": [],
      "collapsed_sections": []
    },
    "kernelspec": {
      "name": "python3",
      "display_name": "Python 3"
    },
    "accelerator": "GPU"
  },
  "cells": [
    {
      "source": [
        "# Implementing a Deep Neural Network from Scratch - Part 2\n",
        "> In this series we build a Neural Network from the ground up, covering basic concepts along the way. In Part 2 we add a better loss function and transform our Linear Classifier into a real Deep Neural Network.\n",
        "\n",
        "- toc: true\n",
        "- badges: false\n",
        "- comments: true\n",
        "- categories: [machine-learning]\n",
        "- image: images/nn-from-scratch-part-2.png\n",
        "- sticky_rank: 2\n",
        "- keywords: machine learning, ml, deep neural network, neural network, convolutional neural network, beginner concepts, fastai, fast.ai, pytorch, cross-entropy loss"
      ],
      "cell_type": "markdown",
      "metadata": {}
    },
    {
      "cell_type": "code",
      "metadata": {
        "id": "SXzEGY2xrly7"
      },
      "source": [
        "#hide\n",
        "!pip install -Uq fastbook\n",
        "from fastbook import *"
      ],
      "execution_count": 78,
      "outputs": []
    },
    {
      "cell_type": "markdown",
      "metadata": {
        "id": "g9zzkgKSnGXB"
      },
      "source": [
        "## Introduction\n",
        "\n",
        ">Note: This post is the second post of a two-part series. If you landed on this page directly, I recommend following the whole journey and start by reading [Part 1](https://muttoni.github.io/blog/machine-learning/2020/12/28/Implementing-a-Deep-Neural-Network-from-Scratch-Part-1.html) first.\n",
        "\n",
        "\n",
        "This is Part 2 of our \"Implementing a Deep Neural Network from Scratch\" series. In this part we will improve on our Linear classifier started in [Part 1](https://muttoni.github.io/blog/machine-learning/2020/12/28/Implementing-a-Deep-Neural-Network-from-Scratch-Part-1.html) and turn our Linear Model into a fully-functioning Deep Neural Network! \n",
        "\n",
        "As a reminder, our goal is to create a Neural Network that can distinguish all 10 handwritten digits (using the industry standard [MNIST](http://yann.lecun.com/exdb/mnist/) dataset). This is also known as a Multi-Label Classifier (a traditional Classifier only has two labels, such as cat or dog, hotdog or not hotdog, etc). In Part 1 we were able to train a simple linear regressor achieving roughly 80% accuracy after 50 epochs. We'll see in this part how to make it even more powerful with just a simple tweaks, as well as turn it into a Deep Neural Network.\n"
      ]
    },
    {
      "cell_type": "markdown",
      "metadata": {
        "id": "-ObvXMp1DmJi"
      },
      "source": [
        "\n",
        "##Getting Started\n",
        "\n",
        "Below is a recap of all the preparatory steps to setup our data pipeline. In order: we download the data, generate a list of file paths, create training and validation tensor stacks from the file paths, convert those tensors from rank-2 (2D matrix) tensors (i.e. size: 28, 28) to rank-1 (1D vector) tensors (i.e. size: 784). "
      ]
    },
    {
      "cell_type": "code",
      "metadata": {
        "id": "yvUq2zzr0yrm"
      },
      "source": [
        "#collapse\n",
        "\n",
        "# Requirements\n",
        "!pip install -Uq fastbook\n",
        "from fastbook import *\n",
        "\n",
        "# Download the data\n",
        "path = untar_data(URLs.MNIST)\n",
        "\n",
        "# Import the paths of our training and testing images\n",
        "training = { f'{num}' : (path/f'training/{num}').ls().sorted() for num in range(10) }\n",
        "testing = { f'{num}' : (path/f'testing/{num}').ls().sorted() for num in range(10) }\n",
        "\n",
        "# Prepare training tensor stacks\n",
        "training_tensors = [\n",
        "      torch.stack([\n",
        "            tensor(Image.open(digit)).float()/255 for digit in training[f'{num}']\n",
        "          ]) for num in range(10)\n",
        "      ]\n",
        "\n",
        "validation_tensors = [\n",
        "      torch.stack([\n",
        "            tensor(Image.open(digit)).float()/255 for digit in testing[f'{num}']\n",
        "          ]) for num in range(10)\n",
        "      ]\n",
        "\n",
        "\n",
        "# Convert our 2D image tensors (28, 28) into 1D vectors\n",
        "train_x = torch.cat(training_tensors).view(-1, 28*28)\n",
        "valid_x = torch.cat(validation_tensors).view(-1, 28*28)\n"
      ],
      "execution_count": 79,
      "outputs": []
    },
    {
      "cell_type": "markdown",
      "metadata": {
        "id": "kclrXz0ZMxO0"
      },
      "source": [
        "\n",
        "Before generating our labels, we'll make a change in our labeling structure so as to be more efficient in space complexity as well as be more elegant and extendable for any number of labels in the future."
      ]
    },
    {
      "cell_type": "markdown",
      "metadata": {
        "id": "g89ALvl1CkeM"
      },
      "source": [
        "## Improving our Label Structure\n",
        "\n",
        "Our labels in Part 1 were represented by a vector of size 10 with a '1' flag indicating the correct digit at the corresponding index, and '0' everywhere else. In our loss function, we then compared whether the max index of our predictions was equivalent to the index in our target labels where the index was '1'. Here's a quick example of how our old labels worked:\n",
        "\n",
        "A target label $y$ for the digit '3':\n",
        "```\n",
        "[0, 0, 0, 1, 0, 0, 0, 0, 0, 0]\n",
        "          ^ a '1' flagging the correct digit at its index (3)\n",
        "```\n",
        "\n",
        "An example prediction from our model:\n",
        "```\n",
        "[2.0e-3, 1.3e-7, 4.0e-8, 9.9e-1, 2.0e-5, 1.6e-4, 4.4e-9, 7.0e-9, 1.3e-6, 2.1e-4, 4.0e-7]\n",
        "                         ^ index of max value corresponds to the y label index, \n",
        "                           indicating a correct prediction.\n",
        "```"
      ]
    },
    {
      "cell_type": "markdown",
      "metadata": {
        "id": "ITUqlC8MEF28"
      },
      "source": [
        "There is, however, a much more efficient way of representing our labels. Can you guess what it is? If you guessed assigning a value to each of our digits (e.g. an integer corresponding to that digit) and just have that be our $y$ target label, then you guessed right! But in our loss function, how can we match/compare a prediction vector of 10 values to a target label, if the label contains only an integer (e.g. \"3\").\n",
        "\n",
        "To answer this question we need to go back to our beloved **Softmax**. \n",
        "\n",
        "$\\text{Softmax}(x_i) = \\frac{e^{x_i}}{\\sum_j{e^{x_j}}}$\n",
        "\n",
        "This is a great time to read [Part 1](https://muttoni.github.io/blog/machine-learning/2020/12/28/Implementing-a-Deep-Neural-Network-from-Scratch-Part-1.html) if you haven't already done so. Here's a quick reminder of how our Softmax works in three steps:\n",
        "1. Given a list of values, we calculate the exponential for each value, that is: $e^{n}$. Where $n$ is our value and $e$ is Euler's number, a [special number in Mathematics](https://en.wikipedia.org/wiki/Eulers_number), and at the heart of the exponential function.\n",
        "2. We sum the exponential values (the Sigma symbol $\\sum$ means _sum_).\n",
        "3. Take each value in Step 1. and divide it by the sum obtained in Step 2. \n",
        "\n",
        "The pecularity of Softmax is that when we softmax a list of values, since they are all divided by their sum, **all the values sum to 1**. This is incredibly useful as it means we only really need 1 value from the list, i.e. in our case the prediction corresponding to the correct label, as the rest of the values are just 1 - that value. If that value increases (i.e. the probability of our correct digit prediction increases), it also means that every other value in the prediction vector is consequently decreasing. This is why Softmax is a critical part of any multi-label classifier where only 1 label out of a group is correct (e.g. model of car), as it helps \"hone in\" on a single value, and work around that.\n",
        "\n",
        "Practically, this means we can simplify our label structure and go from a vector of flags to a single integer representing the index of our possible labels. In the case of our MNIST dataset, the labels and indexes match, and will both go from 0 to 10. This means that if our $y$ variable is '0', our digit is '0', and we should look at the prediction value of our output vector at index '0'. The same goes for every other number. In cases were our $y$ is not a digit, we would still assign an integer to each possible label and proceed in exactly the same manner. "
      ]
    },
    {
      "cell_type": "code",
      "metadata": {
        "id": "3riRXRayC9uV"
      },
      "source": [
        "# Generate our labels based on the digit each image represents\n",
        "train_y = torch.from_numpy(np.concatenate([[i]*len(training[f'{i}']) for i in range(10)]))\n",
        "valid_y = torch.from_numpy(np.concatenate([[i]*len(testing[f'{i}']) for i in range(10)]))"
      ],
      "execution_count": 80,
      "outputs": []
    },
    {
      "cell_type": "markdown",
      "metadata": {
        "id": "3L4E-eGKLISZ"
      },
      "source": [
        "In our loss and accuracy functions, we'll also need to update the way we compare results. All it takes is a little code change (our loss function will change a little bit in the next section, for now just focus on the updated labeling mechanism)."
      ]
    },
    {
      "cell_type": "code",
      "metadata": {
        "id": "HsdfXJD3LjeL"
      },
      "source": [
        "def loss_function(self, predictions, targets): \n",
        "\n",
        "  # softmax the vectors, each containing 10 probabilities\n",
        "  sm_preds = self.softmax(predictions) \n",
        "  \n",
        "  # generate a range equal to length of prediction batch\n",
        "  idx = range(len(predictions))\n",
        "\n",
        "  # from each vector, only pick the correct prediction \n",
        "  results = sm_preds[idx, targets]\n",
        "\n",
        "  ...\n"
      ],
      "execution_count": null,
      "outputs": []
    },
    {
      "cell_type": "markdown",
      "metadata": {
        "id": "r8LsqOFdM5_u"
      },
      "source": [
        " This nifty accessing technique, coupled with Softmax's characteristic of summing to one, means that with only need a single value from our predictions, not the whole vector, to calculate the prediction loss, as every other value in our prediction vector is completely co-dependent and therefore irrelevant."
      ]
    },
    {
      "cell_type": "markdown",
      "metadata": {
        "id": "c6yVI5APIFey"
      },
      "source": [
        "We can now load our dataset and dataloaders as we did in Part 1:"
      ]
    },
    {
      "cell_type": "code",
      "metadata": {
        "id": "r1N-V34PCVoM"
      },
      "source": [
        "\n",
        "# Create datasets to feed into the dataloaders\n",
        "dset = list(zip(train_x, train_y))\n",
        "dset_valid = list(zip(valid_x, valid_y))\n",
        "\n",
        "# Setup our dataloders\n",
        "dl = DataLoader(dset, batch_size=256, shuffle=True)\n",
        "valid_dl = DataLoader(dset_valid, batch_size=256, shuffle=True)"
      ],
      "execution_count": 81,
      "outputs": []
    },
    {
      "cell_type": "markdown",
      "metadata": {
        "id": "JN1Gzo2LPtrM"
      },
      "source": [
        "## Softmax Needs a Friend"
      ]
    },
    {
      "cell_type": "markdown",
      "metadata": {
        "id": "F2eue2YB3yb4"
      },
      "source": [
        "Before we can proceed to improve and generalize our MNIST model from Part 1, we need to continue talking about Softmax. Yes, I know, by now you probably think I have a secret fetish for Softmax, and you're probably right. But Softmax needs a little TLC in order to function orders of magnitude better.\n",
        "\n",
        "What the hell am I going on about? Well, Softmax is based on the exponential function $e^x$, which means that as our $x$ value increases, the exponential values increase...exponentially. The consequence of this is that a parameter that is slightly larger than the rest, when softmax'd, will tend to be exaggerated, squishing the rest. Here is an example (toggle to code block to see the softmax implementation):\n"
      ]
    },
    {
      "cell_type": "code",
      "metadata": {
        "id": "SZxqbpp7SMz4"
      },
      "source": [
        "#collapse\n",
        "# Quick softmax implementation, expecting a list of values (rank-1 tensor)\n",
        "def softmax(v):\n",
        "  \"\"\"\n",
        "  Given an input vector v, returns an output vector containing\n",
        "  the softmax values for each element in the vector\n",
        "  \"\"\"\n",
        "  exp_v = torch.exp(v.float())\n",
        "  exp_sum = exp_v.sum()\n",
        "  return exp_v / exp_sum"
      ],
      "execution_count": 4,
      "outputs": []
    },
    {
      "cell_type": "code",
      "metadata": {
        "colab": {
          "base_uri": "https://localhost:8080/"
        },
        "id": "alpyl-sY7SAv",
        "outputId": "3e95d05d-a0d0-4f98-c64a-c95abca8eaae"
      },
      "source": [
        "# An softmax example with a list of values [1,2,4]\n",
        "softmax(tensor([1,2,4]))"
      ],
      "execution_count": 5,
      "outputs": [
        {
          "output_type": "execute_result",
          "data": {
            "text/plain": [
              "tensor([0.0420, 0.1142, 0.8438])"
            ]
          },
          "metadata": {
            "tags": []
          },
          "execution_count": 5
        }
      ]
    },
    {
      "cell_type": "markdown",
      "metadata": {
        "id": "kWmJVfB6KUqE"
      },
      "source": [
        "Notice how in the example above, the '4', when softmax'd, takes a larger-than-proportional share of the probability. As the difference gets larger, this becomes even more evident. This is great when making final predictions as we want the highest probability to shine through, but not when we want a nice stable loss function to help the model improve. As soon as a parameter is slightly larger than the rest, it will be hard for the others to compete and \"catch up\". We'll see how we can convert our naive loss function into an industry standard one, by _softening_ Softmax (ironic, isn't it?). We'll then compare performance and you'll see how a very small change will help get us better and more stable training accuracy in just a few epochs!"
      ]
    },
    {
      "cell_type": "markdown",
      "metadata": {
        "id": "AW4rUvpNNaVg"
      },
      "source": [
        "### Log: a Softmax's Best Friend"
      ]
    },
    {
      "cell_type": "markdown",
      "metadata": {
        "id": "KL7R7jpmNbKB"
      },
      "source": [
        "I've never liked logs, unless they are made of wood. But it seems logs (aka logarithms) are a crucial part of everyday life, as they help represent exponential values in linear form. I won't dive too deep into logarithms, as there are plenty of resources that will do a better job at explaining them. Feel free to look them up for a couple minutes before continuing this post just so you have a quick primer.\n",
        "\n",
        "Since Softmax stems from the exponential function ($e^x$), by taking the log of the softmax'd values we are able to represent numers that are distanced exponentially in a more linear way. This is what I mean by \"softening\" Softmax, as rather than dealing with the raw values we are dealing with their exponents in base e. This helps stretch the values that were otherwise confined between 0 and 1, to a much larger range...what is the largest range imaginable? Infinity! Actually, for softmax it's 0 to -Infinity to be precise, and we'll see why in just a second."
      ]
    },
    {
      "cell_type": "code",
      "metadata": {
        "colab": {
          "base_uri": "https://localhost:8080/",
          "height": 287
        },
        "id": "jxb3aGdePA5W",
        "outputId": "7490225d-7097-45bb-8d51-a4ecb48d1803"
      },
      "source": [
        "#hide_input\n",
        "plot_function(torch.log, min=0, max=1, title=\"$Log_e(x)$ for $x$ values from 0 to 1\")"
      ],
      "execution_count": 15,
      "outputs": [
        {
          "output_type": "display_data",
          "data": {
            "image/png": "[encoded data removed]",
            "text/plain": [
              "<Figure size 432x288 with 1 Axes>"
            ]
          },
          "metadata": {
            "tags": [],
            "needs_background": "light"
          }
        }
      ]
    },
    {
      "cell_type": "markdown",
      "metadata": {
        "id": "sO17RC5aPn7y"
      },
      "source": [
        ">Tip: Our log function, in the context of Softmax, is always in base $e$, as our values are raised to the power of $e$. In Mathematics, logarithms involving $e$ (i.e. in _base_ $e$) are often referred to as $ln$. \n",
        "\n",
        "\n",
        "Our log function output (y-axis) can be intuitively thought of as: _\"to the power of what must we raise $e$ in order to get $x$_. This is why log is not defined for $x < 0$ (remember: $e$ is positive, roughly equal to 2.718, so an exponent will never be able to change the sign of a positive number).\n",
        "\n",
        "From the log plot above, we can see that $log_e(x)$ outputs values from -Infinity as $x$ approaches 0, and approaches 0 when $x$ approaches 1. Consequently, our Softmax values (that cumulatively sum to 1, and therefore always between 0 and 1) will **always be negative**. Let's take a look at our previous example with `[1,2,4]`, softmax them again and then take the log. Notice how the results are negative, and the relative ratios between them have softened."
      ]
    },
    {
      "cell_type": "code",
      "metadata": {
        "colab": {
          "base_uri": "https://localhost:8080/"
        },
        "id": "NZtvVvVAOugK",
        "outputId": "7db4c2a7-ddfc-4801-ae82-57a51ae257aa"
      },
      "source": [
        "torch.log(softmax(tensor([1,2,4])))"
      ],
      "execution_count": 7,
      "outputs": [
        {
          "output_type": "execute_result",
          "data": {
            "text/plain": [
              "tensor([-3.1698, -2.1698, -0.1698])"
            ]
          },
          "metadata": {
            "tags": []
          },
          "execution_count": 7
        }
      ]
    },
    {
      "cell_type": "markdown",
      "metadata": {
        "id": "AgaFLCpMS7A9"
      },
      "source": [
        "We can multiply very value by -1 so as to deal with positive numbers, without changing the fact that the highest original number (4) is now the closest to 0...that is...closest to our minimum.\n",
        "\n",
        "So we now have a function that squeezes original parameters into co-dependent probabilties (via softmax), then stretches them into a broader logarithmic range (via log) to help linearize the rate of growth, and _at the same time_ making it so that higher values turn into something that can be _minimized_ (approach zero). Now doesn't that sound perfect for a loss function? \n"
      ]
    },
    {
      "cell_type": "markdown",
      "metadata": {
        "id": "IIp9F1wIK7tM"
      },
      "source": [
        "## Cross-Entropy Loss\n",
        "\n",
        "What we've just seen above is a very popular loss function used in classification called **Cross-Entropy Loss**. It allows us to leverage the useful characteristics of softmax while retaining a relatively linear curve for parameter values so as to facilitate training. We'll see that by making this small change in our previous model, our training will be much more effective. \n",
        "\n",
        "For reference, here is our **old** code (feel free to toggle it)."
      ]
    },
    {
      "cell_type": "code",
      "metadata": {
        "id": "6W-2vq-oVGAE"
      },
      "source": [
        "#collapse\n",
        "class MNISTLinearClassifier:\n",
        "  def __init__(self, train_dl, valid_dl, epochs, lr, verbose):\n",
        "    self.lr = lr\n",
        "    self.train_dl = train_dl\n",
        "    self.valid_dl = valid_dl\n",
        "    self.epochs = epochs\n",
        "    self.weights, self.bias = self._init_params()\n",
        "    self.softmax = nn.Softmax(dim=-1)\n",
        "    self.accuracy_scores = []\n",
        "    self.verbose = verbose\n",
        "\n",
        "  def train(self):\n",
        "    for i in range(self.epochs):\n",
        "      for xb, yb in self.train_dl:\n",
        "        self._calc_grad(xb, yb)\n",
        "        for p in [self.weights, self.bias]:\n",
        "            p.data -= p.grad*self.lr\n",
        "            p.grad.zero_()\n",
        "\n",
        "      self._validate_epoch(i)\n",
        "\n",
        "  def predict(self, image_tensor):\n",
        "    probabilities = self.softmax(self._linear_eq(image_tensor))\n",
        "    _, prediction = probabilities.max(-1)\n",
        "    # Return digit and vector of probabilities\n",
        "    return prediction, probabilities\n",
        "\n",
        "  def _calc_grad(self, xb, yb):\n",
        "    preds = self._linear_eq(xb)\n",
        "    loss = self._loss_function(preds, yb)\n",
        "    loss.mean().backward()\n",
        "\n",
        "  def _batch_accuracy(self, xb, yb):\n",
        "    predictions = self.softmax(xb) \n",
        "    _, max_indices = xb.max(-1) # get the index of max value along 2nd dimension\n",
        "    _, tag_indices = yb.max(-1) # get index of flag in our label tensors\n",
        "    corrects = max_indices == tag_indices # check whether they match\n",
        "    return corrects.float().mean() # calculate mean\n",
        "\n",
        "  def _validate_epoch(self, i):\n",
        "    accs = [self._batch_accuracy(self._linear_eq(xb), yb) for xb,yb in self.valid_dl]\n",
        "    score = round(torch.stack(accs).mean().item(), 4)\n",
        "    self.accuracy_scores.append(score)\n",
        "    self._print(f'Epoch #{i}', score)\n",
        "\n",
        "  def _linear_eq(self, x):\n",
        "    return x@self.weights + self.bias\n",
        "\n",
        "  def _loss_function(self, predictions, targets):\n",
        "    predictions = self.softmax(predictions)\n",
        "    return torch.where(targets==1, 1-predictions, predictions).mean(-1)\n",
        "\n",
        "  def _print(self, *args):\n",
        "    if self.verbose:\n",
        "      print(*args)\n",
        "\n",
        "  # Linear regression using SGD\n",
        "  def _init_params(*args):\n",
        "    return (torch.randn(28*28, 10)).requires_grad_(), (torch.randn(10)).requires_grad_()"
      ],
      "execution_count": null,
      "outputs": []
    },
    {
      "cell_type": "markdown",
      "metadata": {
        "id": "baiXLLXsVFXB"
      },
      "source": [
        "Below is our **new**, updated code. We'll leverage the new label structure and implement a new loss function by performing all the steps discussed in the previous section: log our softmax values, and turn them positive. Everything else is pretty much identical (aside from our `_batch_accuracy` function that needed updating due our new labeling structure too). Feel free to diff it into diffchecker to see what changed."
      ]
    },
    {
      "cell_type": "code",
      "metadata": {
        "id": "138ZPLQx_ulm"
      },
      "source": [
        "#collapse_show\n",
        "class MNISTLinearClassifier:\n",
        "  def __init__(self, train_dl, valid_dl, epochs, lr, verbose):\n",
        "    self.lr = lr\n",
        "    self.train_dl = train_dl\n",
        "    self.valid_dl = valid_dl\n",
        "    self.epochs = epochs\n",
        "    self.weights, self.bias = self._init_params()\n",
        "    self.softmax = nn.Softmax(dim=-1)\n",
        "    self.accuracy_scores = []\n",
        "    self.verbose = verbose\n",
        "\n",
        "  def train(self):\n",
        "    for i in range(self.epochs):\n",
        "      for xb, yb in self.train_dl:\n",
        "        self._calc_grad(xb, yb)\n",
        "        for p in [self.weights, self.bias]:\n",
        "            p.data -= p.grad*self.lr\n",
        "            p.grad.zero_()\n",
        "\n",
        "      self._validate_epoch(i)\n",
        "\n",
        "  def predict(self, image_tensor):\n",
        "    probabilities = self.softmax(self._linear_eq(image_tensor))\n",
        "    _, prediction = probabilities.max(-1)\n",
        "    return prediction, probabilities\n",
        "\n",
        "  def _calc_grad(self, xb, yb):\n",
        "    preds = self._linear_eq(xb)\n",
        "    loss = self._loss_function(preds, yb)\n",
        "    loss.backward()\n",
        "\n",
        "  def _batch_accuracy(self, xb, yb):\n",
        "    predictions = self.softmax(xb)\n",
        "    _, max_indices = xb.max(-1)\n",
        "    corrects = max_indices == yb\n",
        "    return corrects.float().mean()\n",
        "\n",
        "  def _validate_epoch(self, i):\n",
        "    accs = [self._batch_accuracy(self._linear_eq(xb), yb) for xb,yb in self.valid_dl]\n",
        "    score = round(torch.stack(accs).mean().item(), 4)\n",
        "    self.accuracy_scores.append(score)\n",
        "    self._print(f'Epoch #{i}', score)\n",
        "\n",
        "  def _linear_eq(self, x):\n",
        "    return x@self.weights + self.bias\n",
        "\n",
        "  def _loss_function(self, predictions, targets): # Cross-Entropy Loss\n",
        "    log_sm_preds = torch.log(self.softmax(predictions))\n",
        "    idx = range(len(predictions))\n",
        "    loss = -log_sm_preds[idx, targets]\n",
        "    return loss.mean()\n",
        "\n",
        "  def _print(self, *args):\n",
        "    if self.verbose:\n",
        "      print(*args)\n",
        "\n",
        "  def _init_params(*args):\n",
        "    return (torch.randn(28*28, 10)).requires_grad_(), (torch.randn(10)).requires_grad_()"
      ],
      "execution_count": 24,
      "outputs": []
    },
    {
      "cell_type": "markdown",
      "metadata": {
        "id": "7gYcFHYNWLof"
      },
      "source": [
        "Now remember our old model took 50 epochs (on a good run) to reach 80% accuracy. If we try our new model now, it will consistently beat 80% accuracy within the first epoch! That's a considerable improvement thanks to a \"log\" and a negative sign. Goes to show how critical a proper loss function is in training a model effectively."
      ]
    },
    {
      "cell_type": "code",
      "metadata": {
        "id": "F95c2dVaDOmi"
      },
      "source": [
        "model = MNISTLinearClassifier(dl, valid_dl, 5, 0.5, True)"
      ],
      "execution_count": 27,
      "outputs": []
    },
    {
      "cell_type": "code",
      "metadata": {
        "colab": {
          "base_uri": "https://localhost:8080/"
        },
        "id": "M-VnG3xNDWBx",
        "outputId": "b34019d3-57d3-424e-82ad-dec14dfdd0ac"
      },
      "source": [
        "model.train()"
      ],
      "execution_count": 28,
      "outputs": [
        {
          "output_type": "stream",
          "text": [
            "Epoch #0 0.8151\n",
            "Epoch #1 0.8507\n",
            "Epoch #2 0.8656\n",
            "Epoch #3 0.8777\n",
            "Epoch #4 0.8789\n"
          ],
          "name": "stdout"
        }
      ]
    },
    {
      "cell_type": "markdown",
      "metadata": {
        "id": "U71DRMWAXU_f"
      },
      "source": [
        "It already beat our original model within the first epoch (81.5% accuracy vs 80% after 50 epochs) and reached ~88% accuracy within 5 epochs. That's awesome! We could try experimenting with various batch sizes and learning rates to see how accurate we can get our model within an arbitrary number of epochs, but this is beyond the scope of this post. Let's clean up our code further and turn it into a general Linear Classifier."
      ]
    },
    {
      "cell_type": "markdown",
      "metadata": {
        "id": "x_GB56zgJvF0"
      },
      "source": [
        "##Generalizing our Linear Model\n",
        "\n"
      ]
    },
    {
      "cell_type": "markdown",
      "metadata": {
        "id": "Pe6sfOeZXpCq"
      },
      "source": [
        "Up until now, we wanted to build a MNIST classifier. Before we move on and \"deepen\" our neural network, let's clean up our code, modularize it and turn it into a general Linear Classifier that can be applied to any dataset, with any number of labels.\n",
        "\n",
        "**Linear Model**\n",
        "\n",
        "We'll start by generalizing our Linear equation into a standalone \"LinearModel\". It will simply initialize a tensor with a desired number of input and output parameters (weights and biases) with random values. The `model` method will carry out the actual linear equation, and the `parameters` method will return the weights and biases."
      ]
    },
    {
      "cell_type": "code",
      "metadata": {
        "id": "FMYHyLoCHRzz"
      },
      "source": [
        "# General purpose Linear Model\n",
        "class LinearModel:\n",
        "  def __init__(self, inputs, outputs):\n",
        "    self.input_size = inputs\n",
        "    self.output_size = outputs\n",
        "    self.weights, self.bias = self._init_params()\n",
        "\n",
        "  def parameters(self):\n",
        "    return self.weights, self.bias\n",
        "\n",
        "  def model(self, x):\n",
        "    return x@self.weights + self.bias\n",
        "\n",
        "  def _init_params(self):\n",
        "    weights = (torch.randn(self.input_size, self.output_size)).requires_grad_()\n",
        "    bias = (torch.randn(self.output_size)).requires_grad_()\n",
        "    return weights, bias\n"
      ],
      "execution_count": 11,
      "outputs": []
    },
    {
      "cell_type": "markdown",
      "metadata": {
        "id": "iYNA1DdEYZlu"
      },
      "source": [
        "**Optimizer**\n",
        "\n",
        "We'll then proceed to strip out our optimizer. Our optimizer will have a `step` method that will carry out the update for each parameter based on its gradient and an arbitrary learning rate `lr` (e.g. 0.01)."
      ]
    },
    {
      "cell_type": "code",
      "metadata": {
        "id": "LwoRgv3Ly5dH"
      },
      "source": [
        "class SGD_Optimizer:\n",
        "  def __init__(self, parameters, lr):\n",
        "    self.parameters = list(parameters)\n",
        "    self.lr = lr \n",
        "  \n",
        "  def step(self):\n",
        "    for p in self.parameters: p.data -= p.grad.data * self.lr\n",
        "    for p in self.parameters: p.grad = None\n",
        "    "
      ],
      "execution_count": 32,
      "outputs": []
    },
    {
      "cell_type": "markdown",
      "metadata": {
        "id": "qu_sojfHZCWh"
      },
      "source": [
        "Now let's rewrite our Classifier to use these two newly created classes, and run it again on the MNIST dataset to check that it works:"
      ]
    },
    {
      "cell_type": "code",
      "metadata": {
        "id": "dQxjkbhAL4AB"
      },
      "source": [
        "#collapse_show\n",
        "class LinearClassifier:\n",
        "  def __init__(self, input_shape, output_shape, train_dl, valid_dl, epochs, lr, optimizer, softmax, verbose):\n",
        "    self.lr = lr\n",
        "    self.train_dl = train_dl\n",
        "    self.valid_dl = valid_dl\n",
        "    self.epochs = epochs\n",
        "    self.linear = LinearModel(input_shape, output_shape)\n",
        "    self.optimizer = optimizer(self.linear.parameters(), self.lr)\n",
        "    self.activation = nn.Softmax(dim=-1)\n",
        "    self.accuracy_scores = []\n",
        "    self.verbose = verbose\n",
        "\n",
        "  def train(self):\n",
        "    for i in range(self.epochs):\n",
        "      for xb, yb in self.train_dl:\n",
        "        self._calc_grad(xb, yb)\n",
        "        self.optimizer.step()\n",
        "\n",
        "      self._validate_epoch(i)\n",
        "\n",
        "  def predict(self, image_tensor):\n",
        "    probabilities = self.activation(self.linear.model(image_tensor))\n",
        "    _, prediction = probabilities.max(-1)\n",
        "    return prediction, probabilities\n",
        "\n",
        "  def _calc_grad(self, xb, yb):\n",
        "    preds = self.linear.model(xb)\n",
        "    loss = self._loss_function(preds, yb)\n",
        "    loss.backward()\n",
        "\n",
        "  def _batch_accuracy(self, xb, yb):\n",
        "    predictions = self.activation(xb)\n",
        "    _, x_label = xb.max(-1)\n",
        "    corrects = x_label == yb\n",
        "    return corrects.float().mean()\n",
        "\n",
        "  def _validate_epoch(self, i):\n",
        "    accs = [self._batch_accuracy(self.linear.model(xb), yb) for xb,yb in self.valid_dl]\n",
        "    score = round(torch.stack(accs).mean().item(), 4)\n",
        "    self.accuracy_scores.append(score)\n",
        "    self._print(f'Epoch #{i}', score)\n",
        "\n",
        "  def _loss_function(self, predictions, targets):\n",
        "    log_sm_preds = torch.log(self.activation(predictions))\n",
        "    idx = range(len(predictions))\n",
        "    results = -log_sm_preds[idx, targets]\n",
        "    return results.mean()\n",
        "\n",
        "  def _print(self, *args):\n",
        "    if self.verbose:\n",
        "      print(*args)\n"
      ],
      "execution_count": 43,
      "outputs": []
    },
    {
      "cell_type": "code",
      "metadata": {
        "id": "4lScmqC65xZ2"
      },
      "source": [
        "train_dl = DataLoader(dset, batch_size=128, shuffle=True)\n",
        "valid_dl = DataLoader(dset_valid, batch_size=128, shuffle=True)\n",
        "\n",
        "classifier = LinearClassifier(\n",
        "    input_shape=28*28, \n",
        "    output_shape=10, \n",
        "    train_dl=train_dl, \n",
        "    valid_dl=valid_dl, \n",
        "    epochs=5, \n",
        "    lr=0.1, \n",
        "    optimizer=SGD_Optimizer,\n",
        "    softmax=True,\n",
        "    verbose=True)"
      ],
      "execution_count": 44,
      "outputs": []
    },
    {
      "cell_type": "code",
      "metadata": {
        "colab": {
          "base_uri": "https://localhost:8080/"
        },
        "id": "yVvbpOVU6-SL",
        "outputId": "d263cfe3-c8a1-4a20-8539-ba4643d45d6d"
      },
      "source": [
        "classifier.train()"
      ],
      "execution_count": 45,
      "outputs": [
        {
          "output_type": "stream",
          "text": [
            "Epoch #0 0.7352\n",
            "Epoch #1 0.8014\n",
            "Epoch #2 0.8286\n",
            "Epoch #3 0.8457\n",
            "Epoch #4 0.8532\n"
          ],
          "name": "stdout"
        }
      ]
    },
    {
      "cell_type": "markdown",
      "metadata": {
        "id": "JdPPwLJ8p1we"
      },
      "source": [
        "Like before, we could try experimenting with various batch sizes and learning rates -- here I used a `batch_size` of 128 and a learning rate `lr` of 0.1. The advantage of smaller batch sizes is that it allows the model to have more chances to perform gradient descent on the parameters before finishing an epoch, but the gradients may be less representative of the total dataset as they are based on fewer samples. The learning rate is also a critical aspect to experiment with as it determines how much of a step is done at every optimization run. If the learning rate is too big, we risk overshooting the minimum loss and potentially never reaching it, if the learning rate is too low, we won't make significant progress in training. Keep in mind you don't always need to guess, as some libraries offer a way to test different learning rates (e.g. fast.ai offers a [learning rate finder](https://fastai1.fast.ai/callbacks.lr_finder.html) in it's Learner class.)\n"
      ]
    },
    {
      "cell_type": "markdown",
      "metadata": {
        "id": "A4xjJ5qEv_wP"
      },
      "source": [
        "## Activating our Network!\n",
        "\n",
        "As mentioned at the conclusion of Part 1, what we've done up to now is create a linear classifier with a self-correcting capability through Stochastic Gradient Descent..._not_ a deep neural network. That is, because a neural network is non-linear, and it is composed of multiple layers. How do we break the linearity and add layers?\n",
        "\n",
        "Is it by adding one or more linear models after the first one? Yes! These are called layers (and any intermediate layers before our output layer are called \"hidden layers\"). But adding more layers is not enough. If we were to add another linear model right after our first one, the weights and biases would still end up being...linear... as any sequence of linear equations can be summarized as a single linear equation with a set of parameters representing the average of the various layers. We need something more inbetween each linear classifier that breaks beyond the sad confines of a linear world: an **activation function**.\n",
        "\n",
        "\n",
        " "
      ]
    },
    {
      "cell_type": "markdown",
      "metadata": {
        "id": "fr61G9m626Go"
      },
      "source": [
        "Before we tackle the activation function, let's recap what **activations** are. Activations are the calculated outputs from our linear equation(s). This means that in our Linear Model above, by creating 10 parameters for each pixel (remember our input weights are of shape (28\\*28, 10), our linear equation will output 10 _activations_ per image. Since our Linear Classifier was comprised of only 1 layer of parameters, our 10 activations also correspond to the 10 desired _outputs_ of our model, i.e. when softmax'd each of the 10 items in the activation vector represent the probabilities for each digit [0-9] in our classification task. As we'll see in just a moment, the activations don't necessarily need to equal to our outputs, as there can be several _layers_ of linear models in a deep neural network (hence the name: \"deep\"). \n",
        "\n",
        "So one layer can output an arbitrary number of features (in practice the activations of that layer) and then feed those features into a second layer as inputs, that will output another set of features for the next layer, and so on, until the last layer where the activations correspond to our final output.\n",
        "\n",
        "However, as we said earlier, if we were to add another linear model right after our first one, the weights and biases would still end up being...linear... as any sequence of linear equations can be summarized as a single linear equation with a set of parameters representing the average of the various layers. So how can we add more than 1 linear layers and break the inherent linearity? That's where the **activation function** comes into play.\n",
        "\n",
        "### The Activation Function\n",
        "\n",
        "The activation function acts as a filter through which input parameters are transformed from one layer to the next, so as to break the linear relationship. Any function that is not a linear equation technically acts as an non-linearity (e.g. a log function, an exponential function, etc). You can see a collection of activation functions [here](https://en.wikipedia.org/wiki/Activation_function). \n",
        "\n",
        "Among those, one function that works really well, is as simple as can be: the Rectifier function (also known as **Rectified Linear Unit**, or **ReLU**).\n",
        "\n",
        "$f(x) = max(x, 0)$\n",
        "\n",
        "That's it! The ReLU will simply replace any _negative_ input values with 0 (or you can read it as: _rectify_ any negative values _to_ 0). Other input values remain completely unchanged. In code, this is as simple as:"
      ]
    },
    {
      "cell_type": "code",
      "metadata": {
        "colab": {
          "base_uri": "https://localhost:8080/",
          "height": 285
        },
        "id": "NTTwnkPN57Nw",
        "outputId": "6277892f-6d93-4631-cff4-3638078eeb1f"
      },
      "source": [
        "def ReLU(x):\n",
        "  return x.max(tensor(0.))\n",
        "\n",
        "plot_function(ReLU, title=\"The ReLU Function\")"
      ],
      "execution_count": 53,
      "outputs": [
        {
          "output_type": "display_data",
          "data": {
            "image/png": "[encoded data removed]",
            "text/plain": [
              "<Figure size 432x288 with 1 Axes>"
            ]
          },
          "metadata": {
            "tags": [],
            "needs_background": "light"
          }
        }
      ]
    },
    {
      "cell_type": "markdown",
      "metadata": {
        "id": "l1MAYIzL6jPP"
      },
      "source": [
        "This simple transformation is enough to break linearity! Feel free to read more about the [ReLU function](https://en.wikipedia.org/wiki/Rectifier_\\(neural_networks\\)), but for our purposes this is all we need to continue.\n",
        "\n",
        "\n",
        "\n"
      ]
    },
    {
      "cell_type": "markdown",
      "metadata": {
        "id": "cykmB-MczUOW"
      },
      "source": [
        "## Implementing a Deep Neural Network\n",
        "\n",
        "\n"
      ]
    },
    {
      "source": [
        "![](images/neural_network.png \"A Neural Network, source: Wikipedia\")"
      ],
      "cell_type": "markdown",
      "metadata": {
        "id": "J-V6CYYP8l2e"
      }
    },
    {
      "source": [
        "Equipped with our handy ReLU, we are ready to transform our Linear Model into a **real** Neural Network and allow for more than one linear layer! Now remember, a Neural Network is comprised of multiple linear layers (2 being the minimum not counting the activation function: one layer for the inputs, the activation, and the second layer for the outputs). Any number of layers can be added inbetween and are called **hidden layers**. There can be as many layers as we want, although the deeper the network, the more sophisticated it will be, meaning it will take longer to train, and the increased number of parameters can absorb a lot more peculiarities from each training image potentially over-fitting the data and not performing as well in validation, testing and production. We'll touch more on this further on in the post."
      ],
      "cell_type": "markdown",
      "metadata": {
        "id": "-Dg_qwN-9uV4"
      }
    },
    {
      "cell_type": "markdown",
      "metadata": {
        "id": "9yJbhhSRAHG8"
      },
      "source": [
        "What we're going to be doing now, is effectively implement a very simple version of PyTorch's ``nn.Sequential``. In ``nn.Sequential``, we can specify $n$ layers and what activation function to use. The **activations** of any prior layer correspond to the **inputs** of the next layer. The last layer will always output the activations to be run through the **loss function**, exactly like in our LinearClassifier."
      ]
    },
    {
      "cell_type": "code",
      "metadata": {
        "id": "F858zJu7hYfo"
      },
      "source": [
        "\n",
        "# Example 1\n",
        "simple_net = nn.Sequential(\n",
        "    nn.Linear(28*28,30), # an input layer of 28*28 with 30 activations\n",
        "    nn.ReLU(),           # the ReLU activation\n",
        "    nn.Linear(30,10)     # another linear layer with 30 inputs and 10 activations\n",
        ")\n",
        "\n",
        "# Example 2\n",
        "deeper_net = nn.Sequential(\n",
        "    nn.Linear(28*28,100),# an input layer of 28*28 with 100 activations\n",
        "    nn.ReLU(),           # the ReLU activation\n",
        "    nn.Linear(100,30),   # a hidden layer of 100 inputs and 30 activations\n",
        "    nn.ReLU(),           # the ReLU activation\n",
        "    nn.Linear(30,10)     # another linear layer with 30 inputs and 10 activations\n",
        ")"
      ],
      "execution_count": 39,
      "outputs": []
    },
    {
      "cell_type": "markdown",
      "metadata": {
        "id": "ZPCEIVm50Rt3"
      },
      "source": [
        "So how can we replicate something similar to the above? The good news is that we don't need to change a whole lot from our original LinearClassifier, except to introduce the concept of **layers** to our Classifier, as well as add the ReLU function. Other parts of the code (`SGD_Optimizer` and `LinearModel`) can be re-used as is!\n",
        "\n",
        "### Layers\n"
      ]
    },
    {
      "cell_type": "markdown",
      "metadata": {
        "id": "Cl5RCX3mDidp"
      },
      "source": [
        "Taking inspiration from PyTorch's `nn.Sequential` mentioned above, we'll accept layers in a similar fashion, except we'll ReLU any input and hidden layers (everything but the last layer) automatically. That means we'll need to implement our DeepClassifier so as to be able to setup our model in the following way:"
      ]
    },
    {
      "cell_type": "markdown",
      "metadata": {
        "id": "AT5bzx6rDHTK"
      },
      "source": [
        "```python\n",
        "\n",
        "# Example 1 (note: we still need to implement DeepClassifier)\n",
        "simple_nn = DeepClassifier(\n",
        "  LinearModel(28*28, 20), # We'll ReLU automatically after Layer 1.\n",
        "  LinearModel(20, 10)     # LinearModel is the same one we used previously\n",
        ")\n",
        "\n",
        "# Example 2\n",
        "deeper_nn = DeepClassifier(\n",
        "  LinearModel(28*28, 40), # first layer, ReLU'd automatically\n",
        "  LinearModel(40, 20),    # hidden layer, also ReLU'd automatically \n",
        "  LinearModel(20, 10)     # output layer\n",
        ")\n",
        "```\n",
        "\n",
        "We'll begin by changing the name of our class from `LinearClassifier` to `DeepClassifier`. Finally! We'll also add a `self.layers` property in the `__init__` method that stores the incoming layers provided as a list of arguments when we setup the model. I'd also like to start logging/saving training loss to compare against our validation accuracy stored in `self.accuracy_scores` (remember it saves results from the `_validate_epoch` function that runs our weights against the validation data after each epoch). To do this we'll also add a `self.training_loss` list to save to.\n",
        "\n"
      ]
    },
    {
      "cell_type": "code",
      "metadata": {
        "id": "Q4tHcNK1C0dy"
      },
      "source": [
        "def __init__(self, *layers):\n",
        "    self.accuracy_scores = []\n",
        "    self.training_losses = []\n",
        "    self.layers = layers # add a layers property"
      ],
      "execution_count": null,
      "outputs": []
    },
    {
      "cell_type": "markdown",
      "metadata": {
        "id": "pPo_Sc99LKKl"
      },
      "source": [
        "### Fit"
      ]
    },
    {
      "cell_type": "markdown",
      "metadata": {
        "id": "UYp_NIeBC8LX"
      },
      "source": [
        "We'll then change the terminology of our classifier so that instead of `train` we use `fit`. This is more consistent with other Deep Learning Libraries. In our `fit` method, we'll calculate how many layers `self.layers` has, and save the last layer's index (`self.last_layer_index`) so that we don't ReLU that layer later on. We'll also setup an optimizer for each layer that we can call `.step` from, using our previously defined `SGD_Optimizer` class. We'll also store the losses of each batch in an epoch to average out and compare against our validation accuracy."
      ]
    },
    {
      "cell_type": "code",
      "metadata": {
        "id": "XOUeVXbvC6Y5"
      },
      "source": [
        "  def fit(self, **kwargs):\n",
        "    self.train_dl = kwargs.get('train_dl')\n",
        "    self.valid_dl = kwargs.get('valid_dl')\n",
        "    self.epochs = kwargs.get('epochs', 5)\n",
        "    self.lr = kwargs.get('lr', 0.1)\n",
        "    self.verbose = kwargs.get('verbose', True)\n",
        "    self.optimizers = []\n",
        "    self.epoch_losses = [] # we'll average this after every epoch\n",
        "    self.last_layer_index = len(self.layers)-1 # save last layer's index.\n",
        "\n",
        "    for layer in self.layers:\n",
        "      # for each layer, create an Optimizer we can .step() later on\n",
        "      self.optimizers.append(SGD_Optimizer(layer.parameters(),self.lr))\n",
        "\n",
        "    # our usual training loop\n",
        "    for i in range(self.epochs):\n",
        "      for xb, yb in self.train_dl:\n",
        "        # notice we use _forward now\n",
        "        preds = self._forward(xb)\n",
        "        self._backward(preds, yb)\n",
        "  \n",
        "      self._validate_epoch(i)"
      ],
      "execution_count": null,
      "outputs": []
    },
    {
      "cell_type": "markdown",
      "metadata": {
        "id": "NzNax70wLQuG"
      },
      "source": [
        "### Forward & Backward"
      ]
    },
    {
      "cell_type": "markdown",
      "metadata": {
        "id": "SdqvfucTFkgC"
      },
      "source": [
        "We'll also introduce another structural change in the form of how our model operates. Rather than call `_calc_grad`, we'll instead group all of our linear calculations and activations in a `_forward` function, and all of our gradient calculations and optimizations in a `_backward` function. This makes more sense logically as we first calculate, then backtrack to get the gradients and update our parameters accordingly.\n",
        "\n",
        "The `_forward` step loops through each layer in `self.layers` and calls each `LinearModel`'s `model` method (i.e. the famous linear equation `xb@w + b`). As long as the layer is not the last layer (`if layer_idx != self.last_layer_index:`), it will also rectify the outputs before passing them on to the next layer. "
      ]
    },
    {
      "cell_type": "code",
      "metadata": {
        "id": "6bAYlnRoFjyt"
      },
      "source": [
        "  def _forward(self, xb):\n",
        "    res = xb\n",
        "    for layer_idx, layer in enumerate(self.layers):\n",
        "      if layer_idx != self.last_layer_index:\n",
        "        res = layer.model(res)\n",
        "        res = self._ReLU(res)\n",
        "      else:\n",
        "        res = layer.model(res)\n",
        "    return res"
      ],
      "execution_count": null,
      "outputs": []
    },
    {
      "cell_type": "markdown",
      "metadata": {
        "id": "dK-KVJ8YGIel"
      },
      "source": [
        "The ReLU function is identicaly to the one created above. Pretty simple right?"
      ]
    },
    {
      "cell_type": "code",
      "metadata": {
        "id": "82IOaFI9GML_"
      },
      "source": [
        "  def _ReLU(self, x):\n",
        "    return x.max(tensor(0.0))"
      ],
      "execution_count": null,
      "outputs": []
    },
    {
      "cell_type": "markdown",
      "metadata": {
        "id": "ytjNJuyJGRpV"
      },
      "source": [
        "Our backward step `_backward` entails running our final outputs through the loss function and then calling `.backward()` to calculate the gradients of each tensor automatically. We'll also take note of the loss output so we can average each epoch's average loss in our `_validate_epoch` function. We'll then loop through all of our optimizers in `self.optimizers` and `step()` them so as to update the parameters according to our learning rate."
      ]
    },
    {
      "cell_type": "code",
      "metadata": {
        "id": "7SDKvqzhGQJp"
      },
      "source": [
        "  def _backward(self, preds, yb):\n",
        "    loss = self._loss_function(preds, yb)\n",
        "    # keep track of each batch's loss in a list\n",
        "    self.epoch_losses.append(loss)\n",
        "    loss.backward()\n",
        "    for opt in self.optimizers: opt.step()"
      ],
      "execution_count": null,
      "outputs": []
    },
    {
      "cell_type": "markdown",
      "metadata": {
        "id": "gd5Uv430XQ7v"
      },
      "source": [
        "Our loss function also changes slightly, as we'll switch to using `torch.log_softmax` directly instead of torch.log followed by torch.softmax. This is because our previous implementation caused issues with gradients returning NaN across multiple layers. "
      ]
    },
    {
      "cell_type": "code",
      "metadata": {
        "id": "yz3R8jVXHOlj"
      },
      "source": [
        "  def _loss_function(self, predictions, targets):\n",
        "    # we use torch.log_softmax directly\n",
        "    log_sm_preds = torch.log_softmax(predictions, dim=1)\n",
        "    idx = range(len(predictions))\n",
        "    results = -log_sm_preds[idx, targets]\n",
        "    return results.mean()"
      ],
      "execution_count": null,
      "outputs": []
    },
    {
      "source": [
        "Finally, we can update our `_validate_epoch` function to condense the batch's losses into an average so we can compare each epoch's validation accuracy score vs the average training loss."
      ],
      "cell_type": "markdown",
      "metadata": {}
    },
    {
      "cell_type": "code",
      "execution_count": null,
      "metadata": {},
      "outputs": [],
      "source": [
        "  def _validate_epoch(self, i):\n",
        "    accs = [self._batch_accuracy(self._forward(xb), yb) for xb, yb in self.valid_dl]\n",
        "    score = round(torch.stack(accs).mean().item(), 4)\n",
        "    self.accuracy_scores.append(score)\n",
        "    \n",
        "    # stack all the saved losses from each batch and take the average\n",
        "    epoch_loss = round(torch.stack(self.epoch_losses).mean().item(), 4)\n",
        "    \n",
        "    # clear the array for the next epoch of batches\n",
        "    self.epoch_losses = []\n",
        "    \n",
        "    # append to the training_losses list\n",
        "    self.training_losses.append(epoch_loss)\n",
        "    self._print(f'Epoch #{i}', 'Loss:', epoch_loss, 'Accuracy:', score)"
      ]
    },
    {
      "cell_type": "markdown",
      "metadata": {
        "id": "sJDUsCtHHSHt"
      },
      "source": [
        "### Putting It All Together\n",
        "\n",
        "And here is our DeepClassifier in all its glory! "
      ]
    },
    {
      "cell_type": "code",
      "metadata": {
        "id": "lOjVl-QG91xy"
      },
      "source": [
        "#collapse_show\n",
        "class DeepClassifier:\n",
        "  \"\"\"\n",
        "  A multi-layer Neural Network using ReLU activations and SGD\n",
        "  params: layers to use (LinearModels)\n",
        "  methods: fit(train_dl, valid_dl, epochs, lr)\n",
        "  \"\"\"\n",
        "  def __init__(self, *layers):\n",
        "    self.accuracy_scores = []\n",
        "    self.training_losses = []\n",
        "    self.layers = layers\n",
        "\n",
        "  def fit(self, **kwargs):\n",
        "    self.train_dl = kwargs.get('train_dl')\n",
        "    self.valid_dl = kwargs.get('valid_dl')\n",
        "    self.epochs = kwargs.get('epochs', 5)\n",
        "    self.lr = kwargs.get('lr', 0.1)\n",
        "    self.verbose = kwargs.get('verbose', True)\n",
        "    self.optimizers = []\n",
        "    self.epoch_losses = []\n",
        "    self.last_layer_index = len(self.layers)-1\n",
        "\n",
        "    for layer in self.layers:\n",
        "      self.optimizers.append(SGD_Optimizer(layer.parameters(),self.lr))\n",
        "\n",
        "    for i in range(self.epochs):\n",
        "      for xb, yb in self.train_dl:\n",
        "        preds = self._forward(xb)\n",
        "        self._backward(preds, yb)\n",
        "  \n",
        "      self._validate_epoch(i)\n",
        "\n",
        "  def predict(self, image_tensor):\n",
        "    probabilities = self._forward(image_tensor).softmax(dim=1)\n",
        "    _, prediction = probabilities.max(-1)\n",
        "    return prediction, probabilities\n",
        "\n",
        "  def _forward(self, xb):\n",
        "    res = xb\n",
        "    for layer_idx, layer in enumerate(self.layers):\n",
        "      if layer_idx != self.last_layer_index:\n",
        "        res = layer.model(res)\n",
        "        res = self._ReLU(res)\n",
        "      else:\n",
        "        res = layer.model(res)\n",
        "    return res\n",
        "\n",
        "  def _backward(self, preds, yb):\n",
        "    loss = self._loss_function(preds, yb)\n",
        "    self.epoch_losses.append(loss)\n",
        "    loss.backward()\n",
        "    for opt in self.optimizers: opt.step()\n",
        "\n",
        "  def _batch_accuracy(self, xb, yb):\n",
        "    predictions = xb.softmax(dim=1)\n",
        "    _, max_indices = xb.max(-1)\n",
        "    corrects = max_indices == yb \n",
        "    return corrects.float().mean() \n",
        "\n",
        "  def _validate_epoch(self, i):\n",
        "    accs = [self._batch_accuracy(self._forward(xb), yb) for xb, yb in self.valid_dl]\n",
        "    score = round(torch.stack(accs).mean().item(), 4)\n",
        "    self.accuracy_scores.append(score)\n",
        "    epoch_loss = round(torch.stack(self.epoch_losses).mean().item(), 4)\n",
        "    self.epoch_losses = []\n",
        "    self.training_losses.append(epoch_loss)\n",
        "    self._print(f'Epoch #{i}', 'Loss:', epoch_loss, 'Accuracy:', score)\n",
        "\n",
        "  def _loss_function(self, predictions, targets):\n",
        "    log_sm_preds = torch.log_softmax(predictions, dim=1)\n",
        "    idx = range(len(predictions))\n",
        "    results = -log_sm_preds[idx, targets]\n",
        "    return results.mean()\n",
        "\n",
        "  def _ReLU(self, x):\n",
        "    return x.max(tensor(0.0))\n",
        "\n",
        "  def _print(self, *args):\n",
        "    if self.verbose:\n",
        "      print(*args)"
      ],
      "execution_count": 134,
      "outputs": []
    },
    {
      "cell_type": "markdown",
      "metadata": {
        "id": "weoMH54Jua3n"
      },
      "source": [
        "The full code is available in this gist: https://gist.github.com/muttoni/d5ce076fdc83b8f82b9971c5c8bf6b2d"
      ]
    },
    {
      "cell_type": "markdown",
      "metadata": {
        "id": "5bPq4Bg0HoWc"
      },
      "source": [
        "## Testing our Deep Classifier\n",
        "\n",
        "Now that we've implemented our DeepClassifier, let's test its performance. Before we do, it's important to discuss the topic of complexity (i.e. depth and breadth). The deeper (more layers) and broader (more activations) we make our network, the more parameters and complexity our model will be able to learn, with the risk of potentially over-fitting our training data. The number of layers and parameters in a network should always be proportional to the amount of data and its complexity. There is no rule to apply, you just need to experiment and see. There's plenty of discussions around this topic so feel free to browse the web for people's rules of thumbs.\n",
        "\n",
        "It's important to remember, that even the simplest (2 layer) neural network is able to theoretically approximate any function, and for most simple tasks is **more than enough**! You can try as an exercise to play around with layers and activation sizes to see how training is affected. Remember the accuracy scores outputed from all of the models created until now are always against **the validation data**, meaning that you may see accuracy decrease over time (a clear sign that the model is overfitting on the training data).\n",
        "\n",
        "Anyways, enough talk, let's see it in action!"
      ]
    },
    {
      "cell_type": "code",
      "metadata": {
        "id": "vEf-fLkbuJOi"
      },
      "source": [
        "train_dl = DataLoader(dset, batch_size=256, shuffle=True)\n",
        "valid_dl = DataLoader(dset_valid, batch_size=256, shuffle=True)\n",
        "\n",
        "my_nn = DeepClassifier(\n",
        "  LinearModel(28*28, 20),\n",
        "  LinearModel(20, 10)\n",
        ")"
      ],
      "execution_count": 166,
      "outputs": []
    },
    {
      "cell_type": "code",
      "metadata": {
        "colab": {
          "base_uri": "https://localhost:8080/"
        },
        "id": "DRoFx8wPb5-L",
        "outputId": "90dd5755-9209-44ca-ab27-a433f969d99e"
      },
      "source": [
        "#collapse_output\n",
        "my_nn.fit(\n",
        "    train_dl=train_dl, \n",
        "    valid_dl=valid_dl,\n",
        "    lr=0.1,\n",
        "    epochs=100\n",
        ")"
      ],
      "execution_count": 167,
      "outputs": [
        {
          "output_type": "stream",
          "text": [
            "Epoch #0 Loss: 2.9898 Accuracy: 0.5713\n",
            "Epoch #1 Loss: 1.2028 Accuracy: 0.6553\n",
            "Epoch #2 Loss: 1.0008 Accuracy: 0.6754\n",
            "Epoch #3 Loss: 0.8964 Accuracy: 0.7375\n",
            "Epoch #4 Loss: 0.8207 Accuracy: 0.7498\n",
            "Epoch #5 Loss: 0.756 Accuracy: 0.7441\n",
            "Epoch #6 Loss: 0.7119 Accuracy: 0.7968\n",
            "Epoch #7 Loss: 0.6837 Accuracy: 0.7902\n",
            "Epoch #8 Loss: 0.642 Accuracy: 0.8166\n",
            "Epoch #9 Loss: 0.6159 Accuracy: 0.7876\n",
            "Epoch #10 Loss: 0.588 Accuracy: 0.8122\n",
            "Epoch #11 Loss: 0.5736 Accuracy: 0.8244\n",
            "Epoch #12 Loss: 0.5501 Accuracy: 0.835\n",
            "Epoch #13 Loss: 0.5312 Accuracy: 0.8494\n",
            "Epoch #14 Loss: 0.5108 Accuracy: 0.847\n",
            "Epoch #15 Loss: 0.5047 Accuracy: 0.8305\n",
            "Epoch #16 Loss: 0.4969 Accuracy: 0.8367\n",
            "Epoch #17 Loss: 0.4766 Accuracy: 0.8019\n",
            "Epoch #18 Loss: 0.4663 Accuracy: 0.8555\n",
            "Epoch #19 Loss: 0.4654 Accuracy: 0.8535\n",
            "Epoch #20 Loss: 0.4491 Accuracy: 0.8722\n",
            "Epoch #21 Loss: 0.4398 Accuracy: 0.8579\n",
            "Epoch #22 Loss: 0.4373 Accuracy: 0.8768\n",
            "Epoch #23 Loss: 0.4362 Accuracy: 0.8375\n",
            "Epoch #24 Loss: 0.4235 Accuracy: 0.8765\n",
            "Epoch #25 Loss: 0.4211 Accuracy: 0.8749\n",
            "Epoch #26 Loss: 0.4167 Accuracy: 0.8379\n",
            "Epoch #27 Loss: 0.4098 Accuracy: 0.8618\n",
            "Epoch #28 Loss: 0.4002 Accuracy: 0.8837\n",
            "Epoch #29 Loss: 0.3974 Accuracy: 0.8702\n",
            "Epoch #30 Loss: 0.3911 Accuracy: 0.8827\n",
            "Epoch #31 Loss: 0.3914 Accuracy: 0.8854\n",
            "Epoch #32 Loss: 0.3893 Accuracy: 0.8752\n",
            "Epoch #33 Loss: 0.3807 Accuracy: 0.8861\n",
            "Epoch #34 Loss: 0.3773 Accuracy: 0.8909\n",
            "Epoch #35 Loss: 0.3733 Accuracy: 0.8909\n",
            "Epoch #36 Loss: 0.3733 Accuracy: 0.8849\n",
            "Epoch #37 Loss: 0.3669 Accuracy: 0.8615\n",
            "Epoch #38 Loss: 0.3641 Accuracy: 0.8708\n",
            "Epoch #39 Loss: 0.3621 Accuracy: 0.8679\n",
            "Epoch #40 Loss: 0.3572 Accuracy: 0.8912\n",
            "Epoch #41 Loss: 0.3553 Accuracy: 0.8609\n",
            "Epoch #42 Loss: 0.3526 Accuracy: 0.8836\n",
            "Epoch #43 Loss: 0.3485 Accuracy: 0.8936\n",
            "Epoch #44 Loss: 0.3473 Accuracy: 0.9019\n",
            "Epoch #45 Loss: 0.3433 Accuracy: 0.8969\n",
            "Epoch #46 Loss: 0.3404 Accuracy: 0.9049\n",
            "Epoch #47 Loss: 0.3385 Accuracy: 0.8957\n",
            "Epoch #48 Loss: 0.3361 Accuracy: 0.8951\n",
            "Epoch #49 Loss: 0.331 Accuracy: 0.8816\n",
            "Epoch #50 Loss: 0.3327 Accuracy: 0.8783\n",
            "Epoch #51 Loss: 0.334 Accuracy: 0.8942\n",
            "Epoch #52 Loss: 0.3297 Accuracy: 0.9052\n",
            "Epoch #53 Loss: 0.33 Accuracy: 0.9071\n",
            "Epoch #54 Loss: 0.3244 Accuracy: 0.905\n",
            "Epoch #55 Loss: 0.3213 Accuracy: 0.9092\n",
            "Epoch #56 Loss: 0.3224 Accuracy: 0.911\n",
            "Epoch #57 Loss: 0.319 Accuracy: 0.9026\n",
            "Epoch #58 Loss: 0.3161 Accuracy: 0.8915\n",
            "Epoch #59 Loss: 0.316 Accuracy: 0.9078\n",
            "Epoch #60 Loss: 0.3127 Accuracy: 0.9003\n",
            "Epoch #61 Loss: 0.3118 Accuracy: 0.9074\n",
            "Epoch #62 Loss: 0.3106 Accuracy: 0.8938\n",
            "Epoch #63 Loss: 0.3125 Accuracy: 0.9112\n",
            "Epoch #64 Loss: 0.3076 Accuracy: 0.9062\n",
            "Epoch #65 Loss: 0.307 Accuracy: 0.9005\n",
            "Epoch #66 Loss: 0.3056 Accuracy: 0.8538\n",
            "Epoch #67 Loss: 0.3034 Accuracy: 0.9003\n",
            "Epoch #68 Loss: 0.302 Accuracy: 0.8929\n",
            "Epoch #69 Loss: 0.2992 Accuracy: 0.9079\n",
            "Epoch #70 Loss: 0.2992 Accuracy: 0.9103\n",
            "Epoch #71 Loss: 0.2953 Accuracy: 0.9105\n",
            "Epoch #72 Loss: 0.2958 Accuracy: 0.914\n",
            "Epoch #73 Loss: 0.2951 Accuracy: 0.9104\n",
            "Epoch #74 Loss: 0.2921 Accuracy: 0.9086\n",
            "Epoch #75 Loss: 0.2933 Accuracy: 0.8952\n",
            "Epoch #76 Loss: 0.2889 Accuracy: 0.9094\n",
            "Epoch #77 Loss: 0.2878 Accuracy: 0.8972\n",
            "Epoch #78 Loss: 0.2882 Accuracy: 0.908\n",
            "Epoch #79 Loss: 0.2867 Accuracy: 0.9147\n",
            "Epoch #80 Loss: 0.2867 Accuracy: 0.9047\n",
            "Epoch #81 Loss: 0.2856 Accuracy: 0.9044\n",
            "Epoch #82 Loss: 0.2822 Accuracy: 0.9166\n",
            "Epoch #83 Loss: 0.2823 Accuracy: 0.9145\n",
            "Epoch #84 Loss: 0.2803 Accuracy: 0.9143\n",
            "Epoch #85 Loss: 0.2796 Accuracy: 0.9025\n",
            "Epoch #86 Loss: 0.2805 Accuracy: 0.9007\n",
            "Epoch #87 Loss: 0.2797 Accuracy: 0.9041\n",
            "Epoch #88 Loss: 0.2775 Accuracy: 0.9074\n",
            "Epoch #89 Loss: 0.2768 Accuracy: 0.9158\n",
            "Epoch #90 Loss: 0.2758 Accuracy: 0.9051\n",
            "Epoch #91 Loss: 0.2744 Accuracy: 0.9112\n",
            "Epoch #92 Loss: 0.2721 Accuracy: 0.9094\n",
            "Epoch #93 Loss: 0.2719 Accuracy: 0.8801\n",
            "Epoch #94 Loss: 0.2721 Accuracy: 0.9114\n",
            "Epoch #95 Loss: 0.2695 Accuracy: 0.9176\n",
            "Epoch #96 Loss: 0.2674 Accuracy: 0.9097\n",
            "Epoch #97 Loss: 0.2689 Accuracy: 0.9131\n",
            "Epoch #98 Loss: 0.2671 Accuracy: 0.9178\n",
            "Epoch #99 Loss: 0.2668 Accuracy: 0.9119\n"
          ],
          "name": "stdout"
        }
      ]
    },
    {
      "cell_type": "markdown",
      "metadata": {
        "id": "B4m5_z9wrYRp"
      },
      "source": [
        "91%! (toggle the output to see the various training losses and accuracy scores over each epoch). Let's also test our beloved sample '5' prediction."
      ]
    },
    {
      "cell_type": "code",
      "metadata": {
        "colab": {
          "base_uri": "https://localhost:8080/"
        },
        "id": "dxvS2-J3B1Gj",
        "outputId": "0e0560d7-1396-4510-86d4-ebda64d45675"
      },
      "source": [
        "val_5 = (tensor(Image.open(testing['5'][0])).float()/255).view(-1, 28*28)\n",
        "a = my_nn.predict(val_5)\n",
        "a"
      ],
      "execution_count": 170,
      "outputs": [
        {
          "output_type": "execute_result",
          "data": {
            "text/plain": [
              "(tensor([5]),\n",
              " tensor([[8.7256e-06, 6.7960e-08, 2.6373e-04, 1.8036e-02, 1.8940e-16, 9.4832e-01, 2.3715e-09, 6.1468e-06, 3.3328e-02, 4.1378e-05]], grad_fn=<SoftmaxBackward>))"
            ]
          },
          "metadata": {
            "tags": []
          },
          "execution_count": 170
        }
      ]
    },
    {
      "source": [
        "It gives us a confidence of 95% that the digit is 5. Nice! Now let's discuss our results in more detail. "
      ],
      "cell_type": "markdown",
      "metadata": {}
    },
    {
      "cell_type": "markdown",
      "metadata": {
        "id": "zS1KGkvbiDvb"
      },
      "source": [
        "### Analyzing Results \n",
        "\n",
        "Deep Neural Networks need to train longer as there are more parameters to tune. In our case, our 2-layer network after 100 epochs reached 91-92% accuracy with a learning rate of 0.1. Aside from the depth (layers) and breadth (parameters) of the model, learning rate also affects the number of epochs it takes as it \"weighs down\" the updating \"power\" of the optimizer so as to not overshoot the minimum loss.\n",
        "\n",
        "By looking at the results above, we see how the training loss is still has room for improvement (remember, we're trying to get that as close to 0 as possible). When training a model it's important to consider over-fitting vs model accuracy. If your validation accuracy and training loss are both moving in the direction you want, it means you still have room to train! It doesn't make sense to continue training if instead you see the validation accuracy degrading consistently as that would be a clear sign of over-fitting on the training data.\n",
        "\n",
        "To visualize all this better, let's create a quick function to visualize how our training loss and validation accuracy evolve over time (epochs).  "
      ]
    },
    {
      "cell_type": "code",
      "metadata": {
        "id": "z26skCHyRW3e"
      },
      "source": [
        "#collapse\n",
        "def plot_results(my_nn):\n",
        "  import matplotlib.pyplot as plt\n",
        "\n",
        "  x = range(len(my_nn.accuracy_scores))\n",
        "  y1 = my_nn.accuracy_scores\n",
        "  y2 = my_nn.training_losses\n",
        "\n",
        "  fig, ax1 = plt.subplots()\n",
        "\n",
        "  ax2 = ax1.twinx()\n",
        "  ax1.plot(x, y1, 'g-')\n",
        "  ax2.plot(x, y2, 'b-')\n",
        "\n",
        "  ax1.set_xlabel('Epochs')\n",
        "  ax1.set_ylabel('Validation Accuracy', color='g')\n",
        "  ax2.set_ylabel('Training Loss', color='b')\n",
        "  plt.title(f\"Results with lr={my_nn.lr}\")\n",
        "  plt.show()\n"
      ],
      "execution_count": 152,
      "outputs": []
    },
    {
      "cell_type": "code",
      "metadata": {
        "colab": {
          "base_uri": "https://localhost:8080/",
          "height": 302
        },
        "id": "0oD2B_iaioeJ",
        "outputId": "2a03ba71-3578-43f0-84ad-f3ae39723d00"
      },
      "source": [
        "plot_results(my_nn)"
      ],
      "execution_count": 168,
      "outputs": [
        {
          "output_type": "display_data",
          "data": {
            "image/png": "[encoded data removed]",
            "text/plain": [
              "<Figure size 432x288 with 2 Axes>"
            ]
          },
          "metadata": {
            "tags": [],
            "needs_background": "light"
          }
        }
      ]
    },
    {
      "cell_type": "markdown",
      "metadata": {
        "id": "b1QOprEGjxpL"
      },
      "source": [
        "The graph above shows how, over the course of 100 epochs, our training loss (in blue) and our validation accuracy (in green) have evolved. You'll see that our validation accuracy jumps around--that's because our model is only training on the training dataset, and our validation scores are measured on the validation dataset, so they don't get fed back into the model! This helps keep the model \"honest\", and gives us an idea of our our model will perform on unseen data.  As both our accuracy and loss are trending in the right direction, we could experiment extending the epoch count and tweaking the learning rate. \n",
        "\n",
        "###Learning Rates\n",
        "\n",
        "Below are the same graphs with different learning rates, showing how they affect the model's performance over 100 epochs. As you can see, the higher the learning rate, the faster the accuracy improves, but it causes more jitter as the optimizing steps can overshoot across the loss function. The trick here is to pick one proportional to the amount of epochs you want to train (lower for more epochs, smaller for less epochs). Modern libraries (eg fast.ai) have convenient learning rate finders to take the guess work out.\n",
        "\n",
        "Note that if you fit your model, and then try to fit it again, it will start from the previous weights, so you should probably pick a smaller learning rate the second time around as the \"big\" movements have already been done. "
      ]
    },
    {
      "source": [
        "![](images/2lyr-nn-results-trio.png)"
      ],
      "cell_type": "markdown",
      "metadata": {}
    },
    {
      "source": [
        "Notice how the lower the learning rate, the smoother the training, but slower the ramp up and accuracy."
      ],
      "cell_type": "markdown",
      "metadata": {}
    },
    {
      "cell_type": "markdown",
      "metadata": {
        "id": "yRCR3ED6f1sf"
      },
      "source": [
        "### Epochs\n",
        "\n",
        "Now let's experiment by using a somewhat large 0.5 learning rate and training for 2.5x more epochs (250 total)."
      ]
    },
    {
      "cell_type": "code",
      "metadata": {
        "colab": {
          "base_uri": "https://localhost:8080/"
        },
        "id": "_ORE0cj4gKB1",
        "outputId": "7801ddd6-c6a5-4aa5-b6b6-5dd8ba73bb16"
      },
      "source": [
        "#collapse_output\n",
        "my_nn = DeepClassifier(\n",
        "  LinearModel(28*28, 20),\n",
        "  LinearModel(20, 10)\n",
        ")\n",
        "\n",
        "my_nn.fit(\n",
        "    train_dl=train_dl, \n",
        "    valid_dl=valid_dl,\n",
        "    lr=0.5,\n",
        "    epochs=250\n",
        ")"
      ],
      "execution_count": 173,
      "outputs": [
        {
          "output_type": "stream",
          "text": [
            "Epoch #0 Loss: 1.7751 Accuracy: 0.6389\n",
            "Epoch #1 Loss: 0.9891 Accuracy: 0.6981\n",
            "Epoch #2 Loss: 0.7729 Accuracy: 0.7354\n",
            "Epoch #3 Loss: 0.6788 Accuracy: 0.7412\n",
            "Epoch #4 Loss: 0.613 Accuracy: 0.8305\n",
            "Epoch #5 Loss: 0.5669 Accuracy: 0.7853\n",
            "Epoch #6 Loss: 0.5323 Accuracy: 0.8262\n",
            "Epoch #7 Loss: 0.4896 Accuracy: 0.8599\n",
            "Epoch #8 Loss: 0.4714 Accuracy: 0.8681\n",
            "Epoch #9 Loss: 0.4435 Accuracy: 0.873\n",
            "Epoch #10 Loss: 0.4322 Accuracy: 0.8764\n",
            "Epoch #11 Loss: 0.4081 Accuracy: 0.8563\n",
            "Epoch #12 Loss: 0.3952 Accuracy: 0.8856\n",
            "Epoch #13 Loss: 0.3825 Accuracy: 0.8837\n",
            "Epoch #14 Loss: 0.3687 Accuracy: 0.8929\n",
            "Epoch #15 Loss: 0.3569 Accuracy: 0.8975\n",
            "Epoch #16 Loss: 0.344 Accuracy: 0.8987\n",
            "Epoch #17 Loss: 0.3389 Accuracy: 0.9014\n",
            "Epoch #18 Loss: 0.3296 Accuracy: 0.9057\n",
            "Epoch #19 Loss: 0.3199 Accuracy: 0.9066\n",
            "Epoch #20 Loss: 0.3178 Accuracy: 0.9041\n",
            "Epoch #21 Loss: 0.3072 Accuracy: 0.8971\n",
            "Epoch #22 Loss: 0.302 Accuracy: 0.899\n",
            "Epoch #23 Loss: 0.3025 Accuracy: 0.9099\n",
            "Epoch #24 Loss: 0.2941 Accuracy: 0.9134\n",
            "Epoch #25 Loss: 0.2913 Accuracy: 0.9169\n",
            "Epoch #26 Loss: 0.2833 Accuracy: 0.8979\n",
            "Epoch #27 Loss: 0.2781 Accuracy: 0.9188\n",
            "Epoch #28 Loss: 0.2759 Accuracy: 0.9042\n",
            "Epoch #29 Loss: 0.2744 Accuracy: 0.9164\n",
            "Epoch #30 Loss: 0.2717 Accuracy: 0.9194\n",
            "Epoch #31 Loss: 0.2653 Accuracy: 0.9067\n",
            "Epoch #32 Loss: 0.2633 Accuracy: 0.9209\n",
            "Epoch #33 Loss: 0.2592 Accuracy: 0.9164\n",
            "Epoch #34 Loss: 0.255 Accuracy: 0.9213\n",
            "Epoch #35 Loss: 0.255 Accuracy: 0.8712\n",
            "Epoch #36 Loss: 0.2509 Accuracy: 0.9276\n",
            "Epoch #37 Loss: 0.2467 Accuracy: 0.9143\n",
            "Epoch #38 Loss: 0.2446 Accuracy: 0.9174\n",
            "Epoch #39 Loss: 0.2424 Accuracy: 0.9229\n",
            "Epoch #40 Loss: 0.2427 Accuracy: 0.91\n",
            "Epoch #41 Loss: 0.2387 Accuracy: 0.9168\n",
            "Epoch #42 Loss: 0.2385 Accuracy: 0.9262\n",
            "Epoch #43 Loss: 0.233 Accuracy: 0.911\n",
            "Epoch #44 Loss: 0.2315 Accuracy: 0.9234\n",
            "Epoch #45 Loss: 0.2321 Accuracy: 0.9221\n",
            "Epoch #46 Loss: 0.228 Accuracy: 0.9074\n",
            "Epoch #47 Loss: 0.2272 Accuracy: 0.9271\n",
            "Epoch #48 Loss: 0.2257 Accuracy: 0.9249\n",
            "Epoch #49 Loss: 0.2232 Accuracy: 0.9246\n",
            "Epoch #50 Loss: 0.2239 Accuracy: 0.9265\n",
            "Epoch #51 Loss: 0.2205 Accuracy: 0.9291\n",
            "Epoch #52 Loss: 0.2181 Accuracy: 0.914\n",
            "Epoch #53 Loss: 0.2172 Accuracy: 0.9203\n",
            "Epoch #54 Loss: 0.2151 Accuracy: 0.9182\n",
            "Epoch #55 Loss: 0.2154 Accuracy: 0.9282\n",
            "Epoch #56 Loss: 0.215 Accuracy: 0.9323\n",
            "Epoch #57 Loss: 0.2115 Accuracy: 0.9291\n",
            "Epoch #58 Loss: 0.2086 Accuracy: 0.9319\n",
            "Epoch #59 Loss: 0.2092 Accuracy: 0.9187\n",
            "Epoch #60 Loss: 0.2074 Accuracy: 0.9312\n",
            "Epoch #61 Loss: 0.2067 Accuracy: 0.926\n",
            "Epoch #62 Loss: 0.2053 Accuracy: 0.936\n",
            "Epoch #63 Loss: 0.2039 Accuracy: 0.9301\n",
            "Epoch #64 Loss: 0.2027 Accuracy: 0.9297\n",
            "Epoch #65 Loss: 0.2007 Accuracy: 0.934\n",
            "Epoch #66 Loss: 0.1998 Accuracy: 0.9223\n",
            "Epoch #67 Loss: 0.2011 Accuracy: 0.9325\n",
            "Epoch #68 Loss: 0.1985 Accuracy: 0.8839\n",
            "Epoch #69 Loss: 0.199 Accuracy: 0.918\n",
            "Epoch #70 Loss: 0.1978 Accuracy: 0.9266\n",
            "Epoch #71 Loss: 0.1965 Accuracy: 0.9358\n",
            "Epoch #72 Loss: 0.1954 Accuracy: 0.9352\n",
            "Epoch #73 Loss: 0.1931 Accuracy: 0.9331\n",
            "Epoch #74 Loss: 0.1925 Accuracy: 0.9264\n",
            "Epoch #75 Loss: 0.1929 Accuracy: 0.9303\n",
            "Epoch #76 Loss: 0.1907 Accuracy: 0.9367\n",
            "Epoch #77 Loss: 0.1906 Accuracy: 0.9142\n",
            "Epoch #78 Loss: 0.1906 Accuracy: 0.9322\n",
            "Epoch #79 Loss: 0.1887 Accuracy: 0.9319\n",
            "Epoch #80 Loss: 0.187 Accuracy: 0.9371\n",
            "Epoch #81 Loss: 0.1875 Accuracy: 0.9312\n",
            "Epoch #82 Loss: 0.1848 Accuracy: 0.9226\n",
            "Epoch #83 Loss: 0.1835 Accuracy: 0.9337\n",
            "Epoch #84 Loss: 0.1837 Accuracy: 0.9375\n",
            "Epoch #85 Loss: 0.1836 Accuracy: 0.9378\n",
            "Epoch #86 Loss: 0.1829 Accuracy: 0.9172\n",
            "Epoch #87 Loss: 0.1828 Accuracy: 0.935\n",
            "Epoch #88 Loss: 0.1811 Accuracy: 0.93\n",
            "Epoch #89 Loss: 0.1806 Accuracy: 0.9255\n",
            "Epoch #90 Loss: 0.1786 Accuracy: 0.9409\n",
            "Epoch #91 Loss: 0.1798 Accuracy: 0.9369\n",
            "Epoch #92 Loss: 0.1777 Accuracy: 0.9365\n",
            "Epoch #93 Loss: 0.1774 Accuracy: 0.9386\n",
            "Epoch #94 Loss: 0.176 Accuracy: 0.9317\n",
            "Epoch #95 Loss: 0.1775 Accuracy: 0.939\n",
            "Epoch #96 Loss: 0.1745 Accuracy: 0.9374\n",
            "Epoch #97 Loss: 0.1752 Accuracy: 0.9396\n",
            "Epoch #98 Loss: 0.1733 Accuracy: 0.9371\n",
            "Epoch #99 Loss: 0.1734 Accuracy: 0.9242\n",
            "Epoch #100 Loss: 0.1725 Accuracy: 0.9359\n",
            "Epoch #101 Loss: 0.174 Accuracy: 0.9354\n",
            "Epoch #102 Loss: 0.1716 Accuracy: 0.8946\n",
            "Epoch #103 Loss: 0.1701 Accuracy: 0.9367\n",
            "Epoch #104 Loss: 0.1712 Accuracy: 0.9365\n",
            "Epoch #105 Loss: 0.1681 Accuracy: 0.9356\n",
            "Epoch #106 Loss: 0.1673 Accuracy: 0.9351\n",
            "Epoch #107 Loss: 0.1679 Accuracy: 0.9362\n",
            "Epoch #108 Loss: 0.1677 Accuracy: 0.9446\n",
            "Epoch #109 Loss: 0.1669 Accuracy: 0.9212\n",
            "Epoch #110 Loss: 0.166 Accuracy: 0.9394\n",
            "Epoch #111 Loss: 0.1648 Accuracy: 0.9427\n",
            "Epoch #112 Loss: 0.1647 Accuracy: 0.9346\n",
            "Epoch #113 Loss: 0.1641 Accuracy: 0.938\n",
            "Epoch #114 Loss: 0.1635 Accuracy: 0.9395\n",
            "Epoch #115 Loss: 0.1631 Accuracy: 0.9348\n",
            "Epoch #116 Loss: 0.1634 Accuracy: 0.94\n",
            "Epoch #117 Loss: 0.1619 Accuracy: 0.9359\n",
            "Epoch #118 Loss: 0.1617 Accuracy: 0.9387\n",
            "Epoch #119 Loss: 0.1615 Accuracy: 0.941\n",
            "Epoch #120 Loss: 0.1605 Accuracy: 0.9393\n",
            "Epoch #121 Loss: 0.1594 Accuracy: 0.9404\n",
            "Epoch #122 Loss: 0.1589 Accuracy: 0.9408\n",
            "Epoch #123 Loss: 0.1586 Accuracy: 0.9412\n",
            "Epoch #124 Loss: 0.1577 Accuracy: 0.9394\n",
            "Epoch #125 Loss: 0.1577 Accuracy: 0.937\n",
            "Epoch #126 Loss: 0.1582 Accuracy: 0.9396\n",
            "Epoch #127 Loss: 0.1568 Accuracy: 0.9353\n",
            "Epoch #128 Loss: 0.1571 Accuracy: 0.9432\n",
            "Epoch #129 Loss: 0.1561 Accuracy: 0.9309\n",
            "Epoch #130 Loss: 0.1553 Accuracy: 0.9401\n",
            "Epoch #131 Loss: 0.1557 Accuracy: 0.9359\n",
            "Epoch #132 Loss: 0.1532 Accuracy: 0.9406\n",
            "Epoch #133 Loss: 0.1532 Accuracy: 0.937\n",
            "Epoch #134 Loss: 0.1541 Accuracy: 0.9371\n",
            "Epoch #135 Loss: 0.1526 Accuracy: 0.9378\n",
            "Epoch #136 Loss: 0.1518 Accuracy: 0.9429\n",
            "Epoch #137 Loss: 0.152 Accuracy: 0.9403\n",
            "Epoch #138 Loss: 0.1517 Accuracy: 0.9401\n",
            "Epoch #139 Loss: 0.1507 Accuracy: 0.9383\n",
            "Epoch #140 Loss: 0.1511 Accuracy: 0.9437\n",
            "Epoch #141 Loss: 0.1498 Accuracy: 0.9434\n",
            "Epoch #142 Loss: 0.1498 Accuracy: 0.9444\n",
            "Epoch #143 Loss: 0.1502 Accuracy: 0.9408\n",
            "Epoch #144 Loss: 0.149 Accuracy: 0.9457\n",
            "Epoch #145 Loss: 0.1475 Accuracy: 0.9382\n",
            "Epoch #146 Loss: 0.1483 Accuracy: 0.9436\n",
            "Epoch #147 Loss: 0.1476 Accuracy: 0.9399\n",
            "Epoch #148 Loss: 0.1469 Accuracy: 0.9373\n",
            "Epoch #149 Loss: 0.1466 Accuracy: 0.9434\n",
            "Epoch #150 Loss: 0.1458 Accuracy: 0.9418\n",
            "Epoch #151 Loss: 0.1468 Accuracy: 0.941\n",
            "Epoch #152 Loss: 0.1457 Accuracy: 0.9421\n",
            "Epoch #153 Loss: 0.1459 Accuracy: 0.9434\n",
            "Epoch #154 Loss: 0.1457 Accuracy: 0.943\n",
            "Epoch #155 Loss: 0.1445 Accuracy: 0.944\n",
            "Epoch #156 Loss: 0.1438 Accuracy: 0.9339\n",
            "Epoch #157 Loss: 0.1442 Accuracy: 0.9331\n",
            "Epoch #158 Loss: 0.1432 Accuracy: 0.9449\n",
            "Epoch #159 Loss: 0.1437 Accuracy: 0.9409\n",
            "Epoch #160 Loss: 0.1429 Accuracy: 0.9454\n",
            "Epoch #161 Loss: 0.1426 Accuracy: 0.9386\n",
            "Epoch #162 Loss: 0.1423 Accuracy: 0.9441\n",
            "Epoch #163 Loss: 0.1415 Accuracy: 0.9434\n",
            "Epoch #164 Loss: 0.1409 Accuracy: 0.9437\n",
            "Epoch #165 Loss: 0.1414 Accuracy: 0.9368\n",
            "Epoch #166 Loss: 0.1413 Accuracy: 0.9432\n",
            "Epoch #167 Loss: 0.1405 Accuracy: 0.9458\n",
            "Epoch #168 Loss: 0.14 Accuracy: 0.9451\n",
            "Epoch #169 Loss: 0.1401 Accuracy: 0.9401\n",
            "Epoch #170 Loss: 0.1391 Accuracy: 0.946\n",
            "Epoch #171 Loss: 0.1391 Accuracy: 0.9427\n",
            "Epoch #172 Loss: 0.1385 Accuracy: 0.9467\n",
            "Epoch #173 Loss: 0.1383 Accuracy: 0.944\n",
            "Epoch #174 Loss: 0.138 Accuracy: 0.9447\n",
            "Epoch #175 Loss: 0.1378 Accuracy: 0.944\n",
            "Epoch #176 Loss: 0.1367 Accuracy: 0.9349\n",
            "Epoch #177 Loss: 0.1369 Accuracy: 0.943\n",
            "Epoch #178 Loss: 0.1375 Accuracy: 0.9405\n",
            "Epoch #179 Loss: 0.1365 Accuracy: 0.9472\n",
            "Epoch #180 Loss: 0.1364 Accuracy: 0.9111\n",
            "Epoch #181 Loss: 0.1372 Accuracy: 0.9347\n",
            "Epoch #182 Loss: 0.1349 Accuracy: 0.9419\n",
            "Epoch #183 Loss: 0.1344 Accuracy: 0.947\n",
            "Epoch #184 Loss: 0.1343 Accuracy: 0.9422\n",
            "Epoch #185 Loss: 0.1337 Accuracy: 0.9431\n",
            "Epoch #186 Loss: 0.1338 Accuracy: 0.9449\n",
            "Epoch #187 Loss: 0.1329 Accuracy: 0.9446\n",
            "Epoch #188 Loss: 0.1337 Accuracy: 0.9471\n",
            "Epoch #189 Loss: 0.1334 Accuracy: 0.9419\n",
            "Epoch #190 Loss: 0.1332 Accuracy: 0.945\n",
            "Epoch #191 Loss: 0.1331 Accuracy: 0.9424\n",
            "Epoch #192 Loss: 0.1324 Accuracy: 0.9388\n",
            "Epoch #193 Loss: 0.1319 Accuracy: 0.9441\n",
            "Epoch #194 Loss: 0.1322 Accuracy: 0.9436\n",
            "Epoch #195 Loss: 0.1315 Accuracy: 0.9414\n",
            "Epoch #196 Loss: 0.1313 Accuracy: 0.9418\n",
            "Epoch #197 Loss: 0.1309 Accuracy: 0.9415\n",
            "Epoch #198 Loss: 0.1308 Accuracy: 0.9414\n",
            "Epoch #199 Loss: 0.1304 Accuracy: 0.9364\n",
            "Epoch #200 Loss: 0.1299 Accuracy: 0.9451\n",
            "Epoch #201 Loss: 0.1282 Accuracy: 0.9452\n",
            "Epoch #202 Loss: 0.1289 Accuracy: 0.9432\n",
            "Epoch #203 Loss: 0.1285 Accuracy: 0.946\n",
            "Epoch #204 Loss: 0.1285 Accuracy: 0.9405\n",
            "Epoch #205 Loss: 0.1284 Accuracy: 0.9372\n",
            "Epoch #206 Loss: 0.1291 Accuracy: 0.9208\n",
            "Epoch #207 Loss: 0.1286 Accuracy: 0.9455\n",
            "Epoch #208 Loss: 0.1275 Accuracy: 0.946\n",
            "Epoch #209 Loss: 0.1274 Accuracy: 0.9418\n",
            "Epoch #210 Loss: 0.1262 Accuracy: 0.9455\n",
            "Epoch #211 Loss: 0.1276 Accuracy: 0.9294\n",
            "Epoch #212 Loss: 0.1265 Accuracy: 0.9461\n",
            "Epoch #213 Loss: 0.1262 Accuracy: 0.9446\n",
            "Epoch #214 Loss: 0.1262 Accuracy: 0.9404\n",
            "Epoch #215 Loss: 0.1264 Accuracy: 0.9455\n",
            "Epoch #216 Loss: 0.1255 Accuracy: 0.94\n",
            "Epoch #217 Loss: 0.1254 Accuracy: 0.9456\n",
            "Epoch #218 Loss: 0.1251 Accuracy: 0.9431\n",
            "Epoch #219 Loss: 0.125 Accuracy: 0.9403\n",
            "Epoch #220 Loss: 0.1251 Accuracy: 0.9384\n",
            "Epoch #221 Loss: 0.1238 Accuracy: 0.9441\n",
            "Epoch #222 Loss: 0.1246 Accuracy: 0.9445\n",
            "Epoch #223 Loss: 0.1244 Accuracy: 0.9426\n",
            "Epoch #224 Loss: 0.1243 Accuracy: 0.9451\n",
            "Epoch #225 Loss: 0.1228 Accuracy: 0.9445\n",
            "Epoch #226 Loss: 0.1238 Accuracy: 0.9471\n",
            "Epoch #227 Loss: 0.1229 Accuracy: 0.9419\n",
            "Epoch #228 Loss: 0.1226 Accuracy: 0.9423\n",
            "Epoch #229 Loss: 0.1217 Accuracy: 0.9407\n",
            "Epoch #230 Loss: 0.1216 Accuracy: 0.9418\n",
            "Epoch #231 Loss: 0.1222 Accuracy: 0.9415\n",
            "Epoch #232 Loss: 0.1211 Accuracy: 0.942\n",
            "Epoch #233 Loss: 0.1221 Accuracy: 0.937\n",
            "Epoch #234 Loss: 0.1217 Accuracy: 0.9425\n",
            "Epoch #235 Loss: 0.1208 Accuracy: 0.9453\n",
            "Epoch #236 Loss: 0.1208 Accuracy: 0.9472\n",
            "Epoch #237 Loss: 0.1204 Accuracy: 0.9354\n",
            "Epoch #238 Loss: 0.1201 Accuracy: 0.9421\n",
            "Epoch #239 Loss: 0.1191 Accuracy: 0.9463\n",
            "Epoch #240 Loss: 0.1196 Accuracy: 0.9423\n",
            "Epoch #241 Loss: 0.12 Accuracy: 0.9432\n",
            "Epoch #242 Loss: 0.1188 Accuracy: 0.9446\n",
            "Epoch #243 Loss: 0.1187 Accuracy: 0.9443\n",
            "Epoch #244 Loss: 0.1181 Accuracy: 0.9442\n",
            "Epoch #245 Loss: 0.1185 Accuracy: 0.9457\n",
            "Epoch #246 Loss: 0.118 Accuracy: 0.9451\n",
            "Epoch #247 Loss: 0.1175 Accuracy: 0.943\n",
            "Epoch #248 Loss: 0.1181 Accuracy: 0.9462\n",
            "Epoch #249 Loss: 0.117 Accuracy: 0.9393\n"
          ],
          "name": "stdout"
        }
      ]
    },
    {
      "cell_type": "code",
      "metadata": {
        "colab": {
          "base_uri": "https://localhost:8080/",
          "height": 302
        },
        "id": "EI3Aoxp8tdY3",
        "outputId": "b1e7013b-8da7-410b-8860-69fa48899a30"
      },
      "source": [
        "plot_results(my_nn)"
      ],
      "execution_count": 174,
      "outputs": [
        {
          "output_type": "display_data",
          "data": {
            "image/png": "[encoded data removed]",
            "text/plain": [
              "<Figure size 432x288 with 2 Axes>"
            ]
          },
          "metadata": {
            "tags": [],
            "needs_background": "light"
          }
        }
      ]
    },
    {
      "cell_type": "markdown",
      "metadata": {
        "id": "sKdO545FvLQi"
      },
      "source": [
        "While overall we achieved better accuracy (around 94%), we can start to see that after epoch ~175 the accuracy flattens out without significant improvement. This is a sign that now are model is just overfitting or that our learning rate is too coarse to fine-tune the model above ~94% accuracy. We'll see this issue a lot clearer if we plot the results again starting from epochs #100 onwards."
      ]
    },
    {
      "cell_type": "code",
      "metadata": {
        "colab": {
          "base_uri": "https://localhost:8080/",
          "height": 302
        },
        "id": "P4stx1Kotw1J",
        "outputId": "8da9e049-b652-44e0-9975-80ee1793c005"
      },
      "source": [
        "  #collapse_hide\n",
        "  import matplotlib.pyplot as plt\n",
        "\n",
        "  x = range(len(my_nn.accuracy_scores))\n",
        "  y1 = my_nn.accuracy_scores\n",
        "  y2 = my_nn.training_losses\n",
        "\n",
        "  fig, ax1 = plt.subplots()\n",
        "\n",
        "  ax2 = ax1.twinx()\n",
        "  ax1.plot(x[100:], y1[100:], 'g-')\n",
        "  ax2.plot(x[100:], y2[100:], 'b-')\n",
        "\n",
        "  ax1.set_xlabel('Epochs')\n",
        "  ax1.set_ylabel('Validation Accuracy', color='g')\n",
        "  ax2.set_ylabel('Training Loss', color='b')\n",
        "  plt.title(f\"Results with lr={my_nn.lr}, from epoch 100\")\n",
        "  plt.show()"
      ],
      "execution_count": 176,
      "outputs": [
        {
          "output_type": "display_data",
          "data": {
            "image/png": "[encoded data removed]",
            "text/plain": [
              "<Figure size 432x288 with 2 Axes>"
            ]
          },
          "metadata": {
            "tags": [],
            "needs_background": "light"
          }
        }
      ]
    },
    {
      "source": [
        "Lastly, let's also check what happens if we train with lower learning rates (0.005 and 0.01) and train for even longer (500 epochs). Given the large number of outputs I will omit the code snippets, but you get the hand of it by now!\n",
        "\n",
        "![](images/2lyr-nn-results-lr005.png \"lr=0.005, trained for 500 epochs\")\n",
        "\n",
        "In the case of `lr=0.005`, after 500 epochs final accuracy was around 88%, and the loss around 0.39 due to the low steps. The trends of both lines suggest it could do with more training. \n",
        "\n",
        "![](images/2lyr-nn-results-lr01l.png \"lr=0.01, trained for 500 epochs\")\n",
        "\n",
        "For `lr=0.01`, we were able to achieve better accuracy (91%) but the loss function still hadn't completely plateaued (roughly around 0.30). Let's try again with a larger learning rate of 0.1 (10x bigger!)\n",
        "\n",
        "![](images/2lyr-nn-results-lr10l.png \"lr=0.1, trained for 500 epochs\")\n",
        "\n",
        "With `lr=0.01` were able to reach 93% accuracy and get the loss down to 0.18! but as you can see, the larger the learning rate, the rougher our learning curve (in terms of accuracy). This is because our parameters jump around much more. Let's choose a learning curve inbetween 0.01 and 0.1 (i.e. 0.05) and train for 1000 epochs!\n",
        "\n",
        "![](images/2lyr-nn-results-lr05l.png \"lr=0.05, trained for 1000 epochs\")\n",
        "\n",
        "With `lr=0.05`, after 1000 epochs we ended up with around 94.5% accuracy. However we already reached 94.5% accuracy back in epochs 700-800. When you train for an arbitrary number of epochs it could be that depending on your chosen configuration reaches an optimal accuracy somewhere in the middle of the training. This is why many frameworks implement an option called early stopping rounds whereby you can instruct the model to stop training when accuracy hasn't improved after $n$ rounds. From the image above it seems like there isn't much more room to grow and that curves are flat after epochs 750 or so, but if we zoom in on our graph, while rickety, there's still a clear trend on both metrics. \n",
        "\n",
        "![](images/2lyr-nn-results-lr05lz.png \"lr=0.05, trained for 1000 epochs, showing epochs 600-1000\")"
      ],
      "cell_type": "markdown",
      "metadata": {}
    },
    {
      "cell_type": "markdown",
      "metadata": {
        "id": "bc8AXvHewwk5"
      },
      "source": [
        "Hopefully all these experiments show that machine learning is a craft of delicately balancing different constraints and making trade-offs, with only loose guidelines to guide our decision making! It is definitely not an exact science with strict, clear cut rules. There are so many parameters to take into consideration: batch sizes, learning rates, epochs, dataset size, layer count, parameter count. And that's not including other important decisions such as what type of loss function to use (spoiler alert, cross-entropy loss is only one of many!), what activation function to use, etc. This is is why machine learning is a field where there's plenty of room for experimentation and is full of unexplored territory."
      ]
    },
    {
      "cell_type": "markdown",
      "metadata": {
        "id": "zAscTM38wcF1"
      },
      "source": [
        "## Conclusions\n",
        "\n",
        "This marks the end of this series of building a Deep Neural Network from scratch. I realize these are two very long posts, but rather than split them up for the sake of splitting them up, I decided to condense everything into 2 parts so it's easier to keep track of links and follow along step by step. As linked above, the final `DeepClassifier` code is available [here](https://gist.github.com/muttoni/d5ce076fdc83b8f82b9971c5c8bf6b2d). Follow the steps in the series and experiment with all the possible parameter choices!\n",
        "\n",
        "I really hope you enjoyed the series and learned something along the way. If you want to reach out, feel free to find my email in the \"About\" page or leave a comment below. With that, I'll close and wish you all the best in your machine learning journey!\n",
        "\n",
        "### Aknowledgements \n",
        "\n",
        "This series could not have been possible without the incredible resource that the [fast.ai](http://course.fast.ai/) course is! I highly recommend you check it out as you will learn most of what's covered here and more! Most of what we covered in this series is part of Lessons 4 and 5 of the 2020 course. A big thank you to Jeremy and the fast.ai team for creating such a wonderful and inspiring course."
      ]
    }
  ]
}