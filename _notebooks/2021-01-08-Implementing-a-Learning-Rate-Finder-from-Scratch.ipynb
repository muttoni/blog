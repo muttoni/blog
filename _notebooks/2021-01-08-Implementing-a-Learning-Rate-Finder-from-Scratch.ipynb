{
  "nbformat": 4,
  "nbformat_minor": 0,
  "metadata": {
    "colab": {
      "name": "2021-01-04-Implementing-a-Learning-Rate-Finder-from-Scratch.ipynb",
      "provenance": [],
      "collapsed_sections": []
    },
    "kernelspec": {
      "name": "python3",
      "display_name": "Python 3"
    },
    "accelerator": "GPU"
  },
  "cells": [
    {
      "source": [
        "# Implementing a Learning Rate Finder from Scratch\n",
        "> Choosing the right learning rate is important when training Deep Learning models. Let's implement a Learning Rate Finder from scratch, taking inspiration from Leslie Smith's LR range test--a nifty technique to find optimal learning rates. \n",
        "\n",
        "- toc: false\n",
        "- badges: true\n",
        "- comments: true\n",
        "- categories: [machine-learning]\n",
        "- image: images/lrf-from-scratch.png\n",
        "- keywords: machine learning, ml, learning rate, learning rate finder, lr finder, lr_finder, lr_find, deep neural network, neural network, convolutional neural network, beginner concepts, fastai, fast.ai, pytorch"
      ],
      "cell_type": "markdown",
      "metadata": {}
    },
    {
      "cell_type": "code",
      "metadata": {
        "id": "SXzEGY2xrly7",
        "colab": {
          "base_uri": "https://localhost:8080/"
        },
        "outputId": "9aa2ba2a-e274-46ab-adbc-5a45e4f0357c"
      },
      "source": [
        "#hide\n",
        "!pip install -Uq fastbook\n",
        "from fastbook import *"
      ],
      "execution_count": null,
      "outputs": [
        {
          "output_type": "stream",
          "text": [
            "\u001b[K     |████████████████████████████████| 727kB 7.3MB/s \n",
            "\u001b[K     |████████████████████████████████| 1.1MB 15.4MB/s \n",
            "\u001b[K     |████████████████████████████████| 51kB 7.0MB/s \n",
            "\u001b[K     |████████████████████████████████| 194kB 29.4MB/s \n",
            "\u001b[K     |████████████████████████████████| 61kB 9.5MB/s \n",
            "\u001b[?25h"
          ],
          "name": "stdout"
        }
      ]
    },
    {
      "cell_type": "markdown",
      "metadata": {
        "id": "g9zzkgKSnGXB"
      },
      "source": [
        "## Introduction\n",
        "\n",
        "In this post we will implement a **learning rate finder** from scratch. A learning rate finder helps us find sensible learning rates for our models to train with, including minimum and maximum values to use in a **cyclical learning rate** policy. Both concepts were invented by Leslie Smith and I suggest you check out his [paper](https://arxiv.org/pdf/1506.01186.pdf){% fn 1 %}!\n",
        "\n",
        "We'll implement the learning rate finder (and cyclical learning rates in a future post) into our Deep Neural Network created from scratch in the 2-part series [Implementing a Deep Neural Network from Scratch]({% post_url 2020-12-28-Implementing-a-Deep-Neural-Network-from-Scratch-Part-1 %}). Check that out first if you haven't read it already!"
      ]
    },
    {
      "cell_type": "markdown",
      "metadata": {
        "id": "v12m5gkk4iAQ"
      },
      "source": [
        "## Understanding the Learning Rate\n",
        "\n",
        "Before we start, what _is_ the learning rate? The learning rate is just a value we multiply our gradients by in Stochastic Gradient Descent before updating our parameters with those values. Think of it like a \"weight\" that reduces the impact of each step change so as to ensure we are not over-shooting our loss function. If you imagine our loss function like a parabola, and our parameters starting somehwere along the parabola, descending along by a specific amount will bring us further \"down\" in the parabola, to it's minimum point eventually. If the step amount is too big however, we risk overshooting that minimum point. That's where the learning rate comes into play: it helps us achieve very small steps if desired.\n",
        "\n",
        "To refresh your memory, here is what happens in the optimization step of Stochastic Gradient Descent ([Part 1]({% post_url 2020-12-28-Implementing-a-Deep-Neural-Network-from-Scratch-Part-1 %}) of our DNN series explains this formula in more detail, so read that first):\n",
        "\n",
        "$ w := w - \\eta \\nabla Q({w}) $\n",
        "\n",
        "Our parameter $w$ is updated by subtracting its gradient calculated with respect to the loss function $\\nabla Q({w})$ after multiplying it by a weighing factor $\\eta$. That weighing factor $\\eta$ is our learning rate!\n",
        "\n",
        "It's even easier in code:\n",
        "\n",
        "```python\n",
        "# part of the .step() method in our SGD_Optimizer\n",
        "for p in self.parameters: p.data -= p.grad.data * self.lr\n",
        "```\n",
        "\n",
        "This is outlined in the `.step` method of our optimizer (check the setup code in the next section).\n",
        "As we saw towards the end of [Part 2]({% post_url 2021-01-01-Implementing-a-Deep-Neural-Network-from-Scratch-Part-2 %}) of our Implementing a Deep Neural Network from Scratch series, the learning rate has a _big_ impact on training for our model: the lower the learning rate, the more epochs required to reach a given accuracy, the higher the learning rate, the higher risk of overshooting (or never reaching) the minimum loss. There's a lot more factors at play that we cover in that series, but for now let's just consider the learning rate.\n",
        "\n",
        "Another aspect of learning rates is that a single value is rarely optimal for the duration of the training. We could say that its efficacy **degrades over time** (time measured in batches/epochs). That's why common techniques include decreasing the learning rate by a step-wise fixed amount or by an exponentially decreasing amount during the course of the training. The logic being that as the model is further into training and is approaching the minimum loss, it needs less pronounced updates (steps), and therefore would benefit from smaller increments.\n",
        "\n",
        "\n",
        "## The Learning Rate Finder\n",
        "\n",
        "The **learning rate finder**, or more appropriately **learning rate _range_ finder**, is a method outlined in a [paper](https://arxiv.org/pdf/1506.01186.pdf) by Leslie Smith written in 2015[^1]. The paper introduces the concept of **cyclical learning rates** (i.e. repeatedly cycling between learning rates inbetween a set minimum and a maximum has shown to be effective for training--a method we will implement from scratch in a future post!) whereby the minimum and maximum values to cycle through are found by a function that Leslie Smith defines as the \"_LR range test_\". Here's what the author himself has to say about it:\n",
        "\n",
        "> There is a simple way to estimate reasonable minimum\n",
        "and maximum boundary values with one training run of the\n",
        "network for a few epochs. It is a “LR range test”; run your\n",
        "model for several epochs while letting the learning rate increase linearly between low and high LR values. This test\n",
        "is enormously valuable whenever you are facing a new architecture or dataset.{% fn 1 %}\n",
        "\n",
        "\n",
        "So where does the learning rate finder come into play? Well, it helps us find how learning rates affect our training loss, helping us spot a \"sweet spot\" of ranges that maximize the loss. That extremes of that range will also be  minimum and maximum values to use in the cyclical learning rates policy Leslie Smith outlines in his paper -- before we can implement cyclical learning rates, we need to implement a learning rate range finder!\n",
        "\n",
        "To give you an idea of what we're trying to create, let's see [fast.ai](https://fastai1.fast.ai/callbacks.lr_finder.html)'s implementation, probably one of the first frameworks to implement this LR range test. fast.ai offers a convenient helper function called the Learning Rate Finder (`Learner.lr_finder()`) that helps us see the effect a variety of learning rates have on our model's training performance as well as suggest a `min_grad_lr` where the gradient of the training loss is steepest:\n",
        "\n",
        "![image.png](images/lr_finder.png)\n",
        "\n",
        "Let's implement something similar!"
      ]
    },
    {
      "cell_type": "markdown",
      "metadata": {
        "id": "-ObvXMp1DmJi"
      },
      "source": [
        "## Getting Started\n",
        "\n",
        "Below is a recap of all the preparatory steps to setup our data pipeline. In order, we'll download the data, generate a list of file paths, create training and validation tensor stacks from the file paths, convert those tensors from rank-2 (2D matrix) tensors (i.e. size: 28, 28) to rank-1 (1D vector) tensors (i.e. size: 784). We'll then generate labels corresponding to the digit index and merge the input tensors and labels into datasets to create DataLoader. This will provide us with minibatches of sample data to run our SGD along."
      ]
    },
    {
      "cell_type": "code",
      "metadata": {
        "id": "yvUq2zzr0yrm",
        "colab": {
          "base_uri": "https://localhost:8080/",
          "height": 17
        },
        "outputId": "9251f17e-3255-4436-e20b-d994f3b1c70e"
      },
      "source": [
        "#collapse\n",
        "# Requirements\n",
        "# !pip install -Uq fastbook # includes all the common imports (plt, fastai, pytorch, etc)\n",
        "\n",
        "# Download the data\n",
        "path = untar_data(URLs.MNIST)\n",
        "\n",
        "# Import the paths of our training and testing images\n",
        "training = { f'{num}' : (path/f'training/{num}').ls().sorted() for num in range(10) }\n",
        "testing = { f'{num}' : (path/f'testing/{num}').ls().sorted() for num in range(10) }\n",
        "\n",
        "# Prepare training tensor stacks\n",
        "training_tensors = [\n",
        "      torch.stack([\n",
        "            tensor(Image.open(digit)).float()/255 for digit in training[f'{num}']\n",
        "          ]) for num in range(10)\n",
        "      ]\n",
        "\n",
        "validation_tensors = [\n",
        "      torch.stack([\n",
        "            tensor(Image.open(digit)).float()/255 for digit in testing[f'{num}']\n",
        "          ]) for num in range(10)\n",
        "      ]\n",
        "\n",
        "\n",
        "# Convert our 2D image tensors (28, 28) into 1D vectors\n",
        "train_x = torch.cat(training_tensors).view(-1, 28*28)\n",
        "valid_x = torch.cat(validation_tensors).view(-1, 28*28)\n",
        "\n",
        "# Generate our labels based on the digit each image represents\n",
        "train_y = torch.from_numpy(np.concatenate([[i]*len(training[f'{i}']) for i in range(10)]))\n",
        "valid_y = torch.from_numpy(np.concatenate([[i]*len(testing[f'{i}']) for i in range(10)]))\n",
        "\n",
        "# Create datasets to feed into the dataloaders\n",
        "dset = list(zip(train_x, train_y))\n",
        "dset_valid = list(zip(valid_x, valid_y))\n",
        "\n",
        "# Setup our dataloders\n",
        "dl = DataLoader(dset, batch_size=256, shuffle=True)\n",
        "valid_dl = DataLoader(dset_valid, batch_size=256, shuffle=True)\n"
      ],
      "execution_count": null,
      "outputs": [
        {
          "output_type": "display_data",
          "data": {
            "text/html": [
              ""
            ],
            "text/plain": [
              "<IPython.core.display.HTML object>"
            ]
          },
          "metadata": {
            "tags": []
          }
        }
      ]
    },
    {
      "cell_type": "markdown",
      "metadata": {
        "id": "1cByk3hO4CT1"
      },
      "source": [
        "We'll also import the code that we created in our series on [Implementing a Deep Neural Network from Scratch](https://muttoni.github.io/blog/machine-learning/2020/12/28/Implementing-a-Deep-Neural-Network-from-Scratch-Part-1.html) in Python. The code we'll need is our general purpose `LinearModel`, our SGD optimizer `SGD_Optimizer` and our beloved `DeepClassifier`. Feel free to toggle the code below to see how each one works. "
      ]
    },
    {
      "cell_type": "code",
      "metadata": {
        "id": "FMYHyLoCHRzz"
      },
      "source": [
        "#collapse\n",
        "\n",
        "# General purpose Linear Model\n",
        "class LinearModel:\n",
        "  def __init__(self, inputs, outputs,):\n",
        "    self.input_size = inputs\n",
        "    self.output_size = outputs\n",
        "    self.weights, self.bias = self._init_params()\n",
        "\n",
        "  def parameters(self):\n",
        "    return self.weights, self.bias\n",
        "\n",
        "  def model(self, x):\n",
        "    return x@self.weights + self.bias\n",
        "\n",
        "  def _init_params(self):\n",
        "    weights = (torch.randn(self.input_size, self.output_size)).requires_grad_()\n",
        "    bias = (torch.randn(self.output_size)).requires_grad_()\n",
        "    return weights, bias\n"
      ],
      "execution_count": null,
      "outputs": []
    },
    {
      "cell_type": "code",
      "metadata": {
        "id": "LwoRgv3Ly5dH"
      },
      "source": [
        "#collapse\n",
        "\n",
        "# General purpose SGD Optimizer\n",
        "class SGD_Optimizer:\n",
        "  def __init__(self, parameters, lr):\n",
        "    self.parameters = list(parameters)\n",
        "    self.lr = lr \n",
        "  \n",
        "  def step(self):\n",
        "    for p in self.parameters: p.data -= p.grad.data * self.lr\n",
        "    for p in self.parameters: p.grad = None\n",
        "    "
      ],
      "execution_count": null,
      "outputs": []
    },
    {
      "cell_type": "code",
      "metadata": {
        "id": "lOjVl-QG91xy"
      },
      "source": [
        "#collapse\n",
        "\n",
        "# General Purpose Classifier\n",
        "class DeepClassifier:\n",
        "  \"\"\"\n",
        "  A multi-layer Neural Network using ReLU activations and SGD\n",
        "  params: layers to use (LinearModels)\n",
        "  methods: fit(train_dl, valid_dl, epochs, lr) and predict(image_tensor)\n",
        "  \"\"\"\n",
        "  def __init__(self, *layers):\n",
        "    self.accuracy_scores = []\n",
        "    self.training_losses = []\n",
        "    self.layers = layers\n",
        "\n",
        "  def fit(self, **kwargs):\n",
        "    self.train_dl = kwargs.get('train_dl')\n",
        "    self.valid_dl = kwargs.get('valid_dl')\n",
        "    self.epochs = kwargs.get('epochs', 5)\n",
        "    self.lr = kwargs.get('lr', 0.1)\n",
        "    self.verbose = kwargs.get('verbose', True)\n",
        "    self.optimizers = []\n",
        "    self.epoch_losses = []\n",
        "    self.last_layer_index = len(self.layers)-1\n",
        "\n",
        "    for layer in self.layers:\n",
        "      self.optimizers.append(SGD_Optimizer(layer.parameters(),self.lr))\n",
        "\n",
        "    for i in range(self.epochs):\n",
        "      for xb, yb in self.train_dl:\n",
        "        preds = self._forward(xb)\n",
        "        self._backward(preds, yb)\n",
        "  \n",
        "      self._validate_epoch(i)\n",
        "\n",
        "  def predict(self, image_tensor):\n",
        "    probabilities = self._forward(image_tensor).softmax(dim=1)\n",
        "    _, prediction = probabilities.max(-1)\n",
        "    return prediction, probabilities\n",
        "\n",
        "  def _forward(self, xb):\n",
        "    res = xb\n",
        "    for layer_idx, layer in enumerate(self.layers):\n",
        "      if layer_idx != self.last_layer_index:\n",
        "        res = layer.model(res)\n",
        "        res = self._ReLU(res)\n",
        "      else:\n",
        "        res = layer.model(res)\n",
        "    return res\n",
        "\n",
        "  def _backward(self, preds, yb):\n",
        "    loss = self._loss_function(preds, yb)\n",
        "    self.epoch_losses.append(loss)\n",
        "    loss.backward()\n",
        "    for opt in self.optimizers: opt.step()\n",
        "\n",
        "  def _batch_accuracy(self, xb, yb):\n",
        "    predictions = xb.softmax(dim=1)\n",
        "    _, max_indices = xb.max(-1)\n",
        "    corrects = max_indices == yb \n",
        "    return corrects.float().mean() \n",
        "\n",
        "  def _validate_epoch(self, i):\n",
        "    accs = [self._batch_accuracy(self._forward(xb), yb) for xb, yb in self.valid_dl]\n",
        "    score = round(torch.stack(accs).mean().item(), 4)\n",
        "    self.accuracy_scores.append(score)\n",
        "    epoch_loss = round(torch.stack(self.epoch_losses).mean().item(), 4)\n",
        "    self.epoch_losses = []\n",
        "    self.training_losses.append(epoch_loss)\n",
        "    self._print(f'Epoch #{i}', 'Loss:', epoch_loss, 'Accuracy:', score)\n",
        "\n",
        "  def _loss_function(self, predictions, targets):\n",
        "    log_sm_preds = torch.log_softmax(predictions, dim=1)\n",
        "    idx = range(len(predictions))\n",
        "    results = -log_sm_preds[idx, targets]\n",
        "    return results.mean()\n",
        "\n",
        "  def _ReLU(self, x):\n",
        "    return x.max(tensor(0.0))\n",
        "\n",
        "  def _print(self, *args):\n",
        "    if self.verbose:\n",
        "      print(*args)"
      ],
      "execution_count": null,
      "outputs": []
    },
    {
      "cell_type": "markdown",
      "metadata": {
        "id": "AOJMZTysGwAZ"
      },
      "source": [
        "**Note**: If you're looking for a walkthrough of the code above, make sure you read the 2 part series on implementing a deep neural network from scratch! I would especially focus on the second part. Here are the links: [Part 1]({% post_url 2020-12-28-Implementing-a-Deep-Neural-Network-from-Scratch-Part-1 %}), [Part 2]({% post_url 2021-01-01-Implementing-a-Deep-Neural-Network-from-Scratch-Part-2 %})."
      ]
    },
    {
      "cell_type": "markdown",
      "metadata": {
        "id": "4B4ottpekwH3"
      },
      "source": [
        "## Requirements\n",
        "\n",
        "Now that our code and model is setup, we need to recap what we need to add to our DeepClassifier in order to properly support a `lr_finder` method.\n",
        "\n",
        "**Our goal**: a method called `lr_finder` that when called performs a round of training (aka fitting) for a predetermined number of epochs, starting with a very small learning rate, increasing it exponentially every minibatch (why exponentially? So that we have an equal representation of small learning rate values vs large ones -- more on this later). We can sort out specifics later. \n",
        "\n",
        "\n",
        ">Warning: The `lr_finder` can't start with random parameters, it should start with the current parameter state of the model, _without affecting it_ during training! So we'll need to **clone** our parameters.\n",
        "\n",
        "\n",
        "We'll also need to update our code to keep track of training loss at every minibatch (across epochs), and store the respective learning rates used for each minibatch. \n",
        "\n"
      ]
    },
    {
      "cell_type": "markdown",
      "metadata": {
        "id": "F2djWMPLYEeX"
      },
      "source": [
        "Now, before we continue, I want to make a big **disclaimer**: the additions we'll make today are going to be \"patches\" added on to a codebase that is, to put it lightly, fragile. The code above was created for demonstration purposes only, and essentially contains the bare essentials to make a deep neural network classifier work properly. The sole use of this code, for me, is to tinker with it and try out ideas and concepts as I come across them.\n",
        "\n",
        "While I'm tempted to re-write everything from scratch and build it into a more modular/generalized framework, it would introduce abstractions that for the purposes of our learning process would make \"getting\" the concepts more difficult, as effective abstractions inevitably hide away the lower level workings of a piece of code.\n",
        "\n",
        "So I apologize for the entropy that we are about to introduce into this already \"entropic\" code. We might look into making it more robust in a future post. In the meantime, you are more than welcome to take this and refactor it to your liking!\n",
        "\n",
        "With the disclaimer out of the way, let's recap how we normally used this DeepClassifier. We would instantiate the class and pass in the desired layers. Like so:"
      ]
    },
    {
      "cell_type": "code",
      "metadata": {
        "id": "vEf-fLkbuJOi"
      },
      "source": [
        "my_nn = DeepClassifier(   # example usage\n",
        "  LinearModel(28*28, 20), # a layer with 28*28 inputs (pixels), 20 activations\n",
        "  LinearModel(20, 10)     # a layer with 20 inputs and 10 activations/outputs\n",
        ")"
      ],
      "execution_count": null,
      "outputs": []
    },
    {
      "cell_type": "markdown",
      "metadata": {
        "id": "b02o2OtWamky"
      },
      "source": [
        "Each layer contains the input and output parameter counts. Every layer's autput is ReLU'd automatically, except for the last one that uses Cross-Entropy Loss based on log and softmax. Read [Part 2]({% post_url 2021-01-01-Implementing-a-Deep-Neural-Network-from-Scratch-Part-2 %}) of the DNN from scratch series to see exactly how this works.\n",
        "\n",
        "We then call the fit method and pass in the data, the learning rate and the epochs to train for:"
      ]
    },
    {
      "cell_type": "code",
      "metadata": {
        "id": "DRoFx8wPb5-L"
      },
      "source": [
        "my_nn.fit(\n",
        "    train_dl=train_dl, \n",
        "    valid_dl=valid_dl,\n",
        "    lr=0.1,\n",
        "    epochs=100\n",
        ")"
      ],
      "execution_count": null,
      "outputs": []
    },
    {
      "source": [
        ">Note: Note the limitations here: the learning rate is fixed--the very purpose of a learning rate finder is that it helps us map the effect of a _range_ of learning rates. Furthermore, the data is linked with the `fit` method, meaning that if we don't call `.fit`, we won't have any data inside our classifier.\n",
        "\n",
        "\n",
        "So we must change our code to allow for data to be fed in at the instantiation stage of the DeepClassifier class. We'll also need to move some of the properties that we used to create in our `fit` method, at the instantiation step. First however, let's tweak our dependencies LinearModel and SGD_Optimizer."
      ],
      "cell_type": "markdown",
      "metadata": {}
    },
    {
      "cell_type": "markdown",
      "metadata": {
        "id": "vBr7VEYaWYil"
      },
      "source": [
        "### SGD_Optimizer\n",
        "\n",
        "Given our learning rate needs to change over the course of each batch, we'll first need to be able to pass in a custom learning rate to our SGD optimizer's `step` method (where the updates are multiplied by the learning rate, as seen above). In our original code, the learning rate was set on instantiation and never touched again. We'll change it so the `step` method accepts a keyworded argument called `lr`, otherwise it defaults to its parameter `self.lr`."
      ]
    },
    {
      "cell_type": "code",
      "metadata": {
        "id": "AVI1Hm1NWXFO"
      },
      "source": [
        "# General purpose SGD Optimizer\n",
        "class SGD_Optimizer:\n",
        "  def __init__(self, parameters, lr):\n",
        "    self.parameters = list(parameters)\n",
        "    self.lr = lr \n",
        "  \n",
        "  def step(self, **kwargs):        # add **kawrgs\n",
        "    lr = kwargs.get('lr', self.lr) # get 'lr' if set, otherwise set to self.lr\n",
        "    for p in self.parameters: p.data -= p.grad.data * lr\n",
        "    for p in self.parameters: p.grad = None"
      ],
      "execution_count": null,
      "outputs": []
    },
    {
      "cell_type": "markdown",
      "metadata": {
        "id": "8Av5I_TbgLaK"
      },
      "source": [
        "### LinearModel\n"
      ]
    },
    {
      "cell_type": "markdown",
      "metadata": {
        "id": "Gm8WqrCYhYh4"
      },
      "source": [
        "In our `LinearModel` we need to introduce some changes. We need two new methods that our `lr_finder` can use to copy and set parameters so as not to overwrite the actual model parameters. We'll introduce two new methods: `copy_parameters` (note the `parameters` method already acts as a `get`), and a `set_parameters`. These are quite self-explanatory and the only tricky thing is to make sure to clone and detach any copies from the gradient calculations, as well as reset gradient tracking when setting the parameters. See the code below:"
      ]
    },
    {
      "cell_type": "code",
      "metadata": {
        "id": "Mr9_ctdakTX3"
      },
      "source": [
        "#collapse_show\n",
        "# General purpose Linear Model\n",
        "class LinearModel:\n",
        "  def __init__(self, inputs, outputs,):\n",
        "    self.input_size = inputs\n",
        "    self.output_size = outputs\n",
        "    self.weights, self.bias = self._init_params()\n",
        "\n",
        "  def parameters(self):\n",
        "    return self.weights, self.bias\n",
        "\n",
        "  def copy_parameters(self):\n",
        "    return self.weights.clone().detach(), self.bias.clone().detach()\n",
        "\n",
        "  def set_parameters(self, parameters):\n",
        "    self.weights, self.bias = parameters\n",
        "    self.weights.requires_grad_()\n",
        "    self.bias.requires_grad_()\n",
        "\n",
        "  def model(self, x):\n",
        "    return x@self.weights + self.bias\n",
        "\n",
        "  def _init_params(self):\n",
        "    weights = (torch.randn(self.input_size, self.output_size)).requires_grad_()\n",
        "    bias = (torch.randn(self.output_size)).requires_grad_()\n",
        "    return weights, bias"
      ],
      "execution_count": null,
      "outputs": []
    },
    {
      "cell_type": "markdown",
      "metadata": {
        "id": "v11rUllyjf00"
      },
      "source": [
        "## DeepClassifier"
      ]
    },
    {
      "cell_type": "markdown",
      "metadata": {
        "id": "2yGPj68TkRap"
      },
      "source": [
        "### Prep Work"
      ]
    },
    {
      "cell_type": "markdown",
      "metadata": {
        "id": "km49Aae1i2jA"
      },
      "source": [
        "Now we can proceed with updating DeepClassifier. We'll start by by changing our ``__init__`` method as follows:"
      ]
    },
    {
      "cell_type": "code",
      "metadata": {
        "id": "ZEjxnx-Oeb-n"
      },
      "source": [
        "  def __init__(self, *layers, **kwargs): # added **kwargs\n",
        "    self.layers = layers\n",
        "    self.accuracy_scores = []\n",
        "    self.training_losses = []\n",
        "\n",
        "    # Moved all of the following from the 'fit' method\n",
        "    self.optimizers = []\n",
        "    self.epoch_losses = []\n",
        "    self.train_dl = kwargs.get('train_dl', None)\n",
        "    self.valid_dl = kwargs.get('valid_dl', None)\n",
        "    self.lr = kwargs.get('lr', 1e-2)\n",
        "    self.last_layer_index = len(self.layers)-1\n",
        "\n",
        "    # We'll use this Boolean to determine whether to save\n",
        "    # the individual batch losses in a list, instead of \n",
        "    # averaging them at every epoch. We need to do this \n",
        "    # as we'll need to plot them against each learning rate.\n",
        "    self.save_batch_losses = False\n",
        "\n",
        "    # if save_batch_losses is True, we save them here \n",
        "    self.batch_losses = []\n"
      ],
      "execution_count": null,
      "outputs": []
    },
    {
      "cell_type": "markdown",
      "metadata": {
        "id": "Zrv0LsGpfaE4"
      },
      "source": [
        "We essentially moved a bunch of stuff from the `fit` method to the `__init__` method so as to be able to access them from our upcoming lr_finder method. You can read the code above to see what changed."
      ]
    },
    {
      "cell_type": "markdown",
      "metadata": {
        "id": "e6W16RtsjqDk"
      },
      "source": [
        "The backward method will need to accept an optional `lr` and pass it on to the step method of our optimizers. This allows us to feed in a dynamic learning rate. at each step function, which is exactly what we need.\n",
        "\n",
        "We also have a `self.save_batch_losses` that flags whether our individual batch losses (that usually get aggregated and averaged per epoch) should be persisted at batch granularity in `self.batch_losses`. This is necessary with the lr_finder because we need to plot individual batch losses with individual learning rates that changed every batch."
      ]
    },
    {
      "cell_type": "code",
      "metadata": {
        "id": "2bxkme0xjo1r"
      },
      "source": [
        "  def _backward(self, preds, yb, **kwargs):\n",
        "    lr = kwargs.get('lr', self.lr)\n",
        "    loss = self._loss_function(preds, yb)\n",
        "    if self.save_batch_losses:\n",
        "      self.batch_losses.append(loss.item())\n",
        "    else:\n",
        "      self.epoch_losses.append(loss)\n",
        "    loss.backward()\n",
        "    for opt in self.optimizers: opt.step(lr=lr)"
      ],
      "execution_count": null,
      "outputs": []
    },
    {
      "cell_type": "markdown",
      "metadata": {
        "id": "PlZ3CNBukJrV"
      },
      "source": [
        "### Implementing lr_finder()\n",
        "\n",
        "Believe it or not, those are all the changes we need to make lr_finder work! Now we are to implement the new method. Here it is in all its glory, and we'll go line by line. "
      ]
    },
    {
      "cell_type": "code",
      "metadata": {
        "id": "3lJPXroJkeMs"
      },
      "source": [
        "#collapse_show\n",
        "\n",
        "  def lr_finder(self):\n",
        "    base_lr = 1e-6\n",
        "    max_lr = 1e+1\n",
        "    epochs = 3\n",
        "    current_lr = base_lr\n",
        "    self.old_params = [layer.copy_parameters() for layer in self.layers]\n",
        "    self.batch_losses = []\n",
        "    self.lr_finder_lrs = []\n",
        "    self.save_batch_losses = True\n",
        "\n",
        "    batch_size = self.train_dl.bs\n",
        "    samples = len(self.train_dl.dataset)\n",
        "    iters = epochs * round(samples / batch_size)\n",
        "    step_size = abs(math.log(max_lr/base_lr) / iters)\n",
        "\n",
        "    print(batch_size, samples, iters, step_size)\n",
        "    \n",
        "    for layer in self.layers:\n",
        "      self.optimizers.append(SGD_Optimizer(layer.parameters(), base_lr))\n",
        "\n",
        "    while current_lr <= max_lr:\n",
        "      for xb, yb in self.train_dl:\n",
        "        if current_lr > max_lr:\n",
        "          break\n",
        "        preds = self._forward(xb)\n",
        "        self._backward(preds, yb, lr=current_lr)\n",
        "        self.lr_finder_lrs.append(current_lr)\n",
        "        current_lr = math.e**(math.log(current_lr)+step_size*2)\n",
        "\n",
        "    # clean up\n",
        "    self.save_batch_losses = False\n",
        "    self.optimizers = []\n",
        "    for i in range(len(self.old_params)):\n",
        "      self.layers[i].set_parameters(self.old_params[i])"
      ],
      "execution_count": null,
      "outputs": []
    },
    {
      "cell_type": "markdown",
      "metadata": {
        "id": "Hau60uEJtr5i"
      },
      "source": [
        "Let's look at the code in detail:"
      ]
    },
    {
      "cell_type": "markdown",
      "metadata": {
        "id": "f6gsKKn5kkDL"
      },
      "source": [
        "```python\n",
        "    base_lr = 1e-7\n",
        "    max_lr = 1e+1\n",
        "    epochs = 3\n",
        "    current_lr = base_lr\n",
        "```\n",
        "\n",
        "Our brand new lr_finder method accepts a `base_lr` learning rate to start the range of experimentation. It will stop when it reaches `max_lr`. `epochs` is an arbitrary number that we set to determine how many epochs to run the finder for. We also set a `current_lr` to the minimum lr we want to test and this variable will be incremented at every step. The first three parameters are critical as they determine how many steps will be carried out, as the steps are determined by batch size, total sample size and epochs, like so:\n",
        "\n",
        "```python\n",
        "    batch_size = self.train_dl.bs\n",
        "    samples = len(self.train_dl.dataset)\n",
        "    iters = epochs * round(samples / batch_size)\n",
        "    step_size = abs(math.log(max_lr/base_lr) / iters)\n",
        "```\n",
        "\n",
        "In my particular implementation, the step size `step_size` is determined by the range of learning rates to try out, divided by the iterations the model will go through (number of epochs multiplied by the number of batches in our sample). \n",
        "\n",
        "Now you may wonder why we are dividing the maximum learning rate by the minimum learning rate, instead of subtracting. The reason is: logs! Since we are dealing with logs, rather than do: $\\frac{max\\_lr - min\\_lr}{iters}$, we do: $\\frac{log(\\frac{max\\_lr}{min\\_lr})}{iters}$. Rather than divide the learning rates linearly, which, when plotted on log scale, has the effect of condensing the majority of the learning rates towards the higher end, I opted to increment our step size exponentially. To do this we need to take the log so that we deal with exponents and can later increment the next learning rate by $e^{current\\_lr+step\\_size}$. This will ensure that when we plot our learning rates on a log scale, our iterations will be evenly spaced out.\n",
        "\n",
        "```python\n",
        "    self.old_params = [layer.copy_parameters() for layer in self.layers]\n",
        "    self.lr_finder_lrs = []\n",
        "    self.save_batch_losses = True\n",
        "```\n",
        "\n",
        "Next we save the old parameters so we can reset our model later. We create a list to store our learning rates and set the flag `save_batch_losses` to True, so that our _backward function knows to save them in our `batch_losses` list. The two lists `lr_finder_lrs` and `batch_losses` are the two lists that we will plot!\n",
        "\n",
        "```python\n",
        "\n",
        "    for layer in self.layers:\n",
        "      self.optimizers.append(SGD_Optimizer(layer.parameters(), base_lr))\n",
        "\n",
        "    while current_lr <= max_lr:\n",
        "      for xb, yb in self.train_dl:\n",
        "        if current_lr > max_lr:\n",
        "          break\n",
        "        preds = self._forward(xb)\n",
        "        self._backward(preds, yb, lr=current_lr)\n",
        "        self.lr_finder_lrs.append(current_lr)\n",
        "        current_lr = math.e**(math.log(current_lr)+step_size)\n",
        "\n",
        "```\n",
        "\n",
        "Next we proceed as if we were a `fit` method, by initiating optimizers for each layer and going through our training cycle. As you can see, the loop is a little different, where we don't worry about epochs, we just check that the `current_lr` is less than or equal to the `max_lr`. We then go through each batch, apply `_forward`, then apply `_backward` and then make sure to save our current learning rate and update the learning rate for the next batch. Since our step_size is exponent-based (i.e. we logged it at the beginning, giving us the exponent of $e$ that will give us that value), we need to increment the exponent of $e$ by that step size. We do this by taking the log of our current learning rate and incrementing that by the step_size which is already logarithmic. \n",
        "\n",
        "The formula is as follows:\n",
        "$ current\\_lr = e^{log(current\\_lr) + step\\_size}$\n",
        "\n",
        "Once our training rounds are complete, the last thing left to do is cleanup!\n",
        "\n",
        "```python\n",
        "    self.save_batch_losses = False\n",
        "    self.optimizers = []\n",
        "    for i in range(len(self.old_params)):\n",
        "      self.layers[i].set_parameters(self.old_params[i])\n",
        "```\n",
        "\n",
        "We reset our flag `save_batch_losses`, reset our optimizers and copy back the saved parameters into the model. Again, the reason we want to save the parameters is so that we can apply the lr_finder at any stage of our fitting cycles without it affecting our parameter state.\n",
        "\n",
        "Here is the updated DeepClassifier code:"
      ]
    },
    {
      "cell_type": "code",
      "metadata": {
        "id": "4JGND4BGn2xV"
      },
      "source": [
        "#collapse_show\n",
        "class DeepClassifier:\n",
        "  \"\"\"\n",
        "  A multi-layer Neural Network using ReLU activations and SGD\n",
        "  params: layers to use (LinearModels)\n",
        "  methods: \n",
        "    - fit(train_dl, valid_dl, epochs, lr)\n",
        "    - predict(image_tensor)\n",
        "    - lr_finder()\n",
        "  \"\"\"\n",
        "  def __init__(self, *layers, **kwargs):\n",
        "    self.layers = layers\n",
        "    self.accuracy_scores = []\n",
        "    self.training_losses = []\n",
        "    self.optimizers = []\n",
        "    self.epoch_losses = []\n",
        "    self.batch_losses = []\n",
        "    self.train_dl = kwargs.get('train_dl', None)\n",
        "    self.valid_dl = kwargs.get('valid_dl', None)\n",
        "    self.last_layer_index = len(self.layers)-1\n",
        "    self.save_batch_losses = False\n",
        "    self.lr = 0.1\n",
        "\n",
        "  def fit(self, **kwargs):\n",
        "    self.train_dl = kwargs.get('train_dl', self.train_dl)\n",
        "    self.valid_dl = kwargs.get('valid_dl', self.valid_dl)\n",
        "    self.epochs = kwargs.get('epochs', 5)\n",
        "    self.lr = kwargs.get('lr', 0.1)\n",
        "    self.verbose = kwargs.get('verbose', True)\n",
        "    self.optimizers = []\n",
        "\n",
        "    for layer in self.layers:\n",
        "      self.optimizers.append(SGD_Optimizer(layer.parameters(),self.lr))\n",
        "\n",
        "    for i in range(self.epochs):\n",
        "      for xb, yb in self.train_dl:\n",
        "        preds = self._forward(xb)\n",
        "        self._backward(preds, yb)\n",
        "  \n",
        "      self._validate_epoch(i)\n",
        "\n",
        "  def predict(self, image_tensor):\n",
        "    probabilities = self._forward(image_tensor).softmax(dim=1)\n",
        "    _, prediction = probabilities.max(-1)\n",
        "    return prediction, probabilities\n",
        "\n",
        "  def lr_finder(self):\n",
        "    base_lr = 1e-6\n",
        "    max_lr = 1e+1\n",
        "    epochs = 3\n",
        "    current_lr = base_lr\n",
        "    self.old_params = [layer.copy_parameters() for layer in self.layers]\n",
        "    self.lr_finder_lrs = []\n",
        "    self.save_batch_losses = True\n",
        "\n",
        "    batch_size = self.train_dl.bs\n",
        "    samples = len(self.train_dl.dataset)\n",
        "    iters = epochs * round(samples / batch_size)\n",
        "    step_size = abs(math.log(max_lr/base_lr) / iters)\n",
        "   \n",
        "    for layer in self.layers:\n",
        "      self.optimizers.append(SGD_Optimizer(layer.parameters(), base_lr))\n",
        "\n",
        "    while current_lr <= max_lr:\n",
        "      for xb, yb in self.train_dl:\n",
        "        if current_lr > max_lr:\n",
        "          break\n",
        "        preds = self._forward(xb)\n",
        "        self._backward(preds, yb, lr=current_lr)\n",
        "        self.lr_finder_lrs.append(current_lr)\n",
        "        current_lr = math.e**(math.log(current_lr)+step_size)\n",
        "\n",
        "    # clean up\n",
        "    self.save_batch_losses = False\n",
        "    self.optimizers = []\n",
        "    for i in range(len(self.old_params)):\n",
        "      self.layers[i].set_parameters(self.old_params[i])\n",
        "\n",
        "  def _forward(self, xb):\n",
        "    res = xb\n",
        "    for layer_idx, layer in enumerate(self.layers):\n",
        "      if layer_idx != self.last_layer_index:\n",
        "        res = layer.model(res)\n",
        "        res = self._ReLU(res)\n",
        "      else:\n",
        "        res = layer.model(res)\n",
        "    return res\n",
        "\n",
        "  def _backward(self, preds, yb, **kwargs):\n",
        "    lr = kwargs.get('lr', self.lr)\n",
        "    loss = self._loss_function(preds, yb)\n",
        "    if self.save_batch_losses:\n",
        "      self.batch_losses.append(loss.item())\n",
        "    else:\n",
        "      self.epoch_losses.append(loss)\n",
        "    loss.backward()\n",
        "    for opt in self.optimizers: opt.step(lr=lr)\n",
        "\n",
        "  def _batch_accuracy(self, xb, yb):\n",
        "    predictions = xb.softmax(dim=1)\n",
        "    _, max_indices = xb.max(-1)\n",
        "    corrects = max_indices == yb \n",
        "    return corrects.float().mean() \n",
        "\n",
        "  def _validate_epoch(self, i):\n",
        "    accs = [self._batch_accuracy(self._forward(xb), yb) for xb, yb in self.valid_dl]\n",
        "    score = round(torch.stack(accs).mean().item(), 4)\n",
        "    self.accuracy_scores.append(score)\n",
        "    epoch_loss = round(torch.stack(self.epoch_losses).mean().item(), 4)\n",
        "    self.epoch_losses = []\n",
        "    self.training_losses.append(epoch_loss)\n",
        "    self._print(f'Epoch #{i}', 'Loss:', epoch_loss, 'Accuracy:', score)\n",
        "\n",
        "  def _loss_function(self, predictions, targets):\n",
        "    log_sm_preds = torch.log_softmax(predictions, dim=1)\n",
        "    idx = range(len(predictions))\n",
        "    results = -log_sm_preds[idx, targets]\n",
        "    return results.mean()\n",
        "\n",
        "  def _ReLU(self, x):\n",
        "    return x.max(tensor(0.0))\n",
        "\n",
        "  def _print(self, *args):\n",
        "    if self.verbose:\n",
        "      print(*args)"
      ],
      "execution_count": null,
      "outputs": []
    },
    {
      "cell_type": "markdown",
      "metadata": {
        "id": "85wnm7aasG4V"
      },
      "source": [
        "## Demo"
      ]
    },
    {
      "cell_type": "markdown",
      "metadata": {
        "id": "Lx4O7rIyrS5H"
      },
      "source": [
        "Now let's try it out! We instantiate a new `DeepClassifier` by specifying the layers and passing in the data so we can run our `lr_finder` before running `fit` (where in our old code we would normally feed in our dataset)."
      ]
    },
    {
      "cell_type": "code",
      "metadata": {
        "id": "zL2Ue1-39QLO"
      },
      "source": [
        "my_nn = DeepClassifier(\n",
        "  LinearModel(28*28, 20),\n",
        "  LinearModel(20, 10),\n",
        "  train_dl=dl,\n",
        "  valid_dl=valid_dl\n",
        ")\n",
        "\n",
        "my_nn.lr_finder()"
      ],
      "execution_count": null,
      "outputs": []
    },
    {
      "cell_type": "markdown",
      "metadata": {
        "id": "f6RDNF1-re06"
      },
      "source": [
        "Now let's create a quick function to plot the results (this can easily be turned into a method as well, but beyond the scope of this post:"
      ]
    },
    {
      "cell_type": "code",
      "metadata": {
        "id": "LR8EKiKvM-Ig"
      },
      "source": [
        "def plot_lr_loss(my_nn):\n",
        "  import matplotlib.pyplot as plt\n",
        "\n",
        "  x = my_nn.lr_finder_lrs\n",
        "  y = my_nn.batch_losses\n",
        "\n",
        "  fig, ax = plt.subplots()\n",
        "\n",
        "  ax.plot(x, y, 'g-')\n",
        "\n",
        "  ax.set_xlabel('Learning Rates')\n",
        "  ax.set_ylabel('Training Loss', color='g')\n",
        "  plt.title(f\"Results with lr={my_nn.lr}\")\n",
        "  plt.xscale('log')\n",
        "  plt.show()\n"
      ],
      "execution_count": null,
      "outputs": []
    },
    {
      "cell_type": "code",
      "execution_count": null,
      "metadata": {},
      "outputs": [],
      "source": [
        "plot_lr_loss(my_nn)"
      ]
    },
    {
      "source": [
        "![LR Range Test Results](images/lr-range-test-results.png)"
      ],
      "cell_type": "markdown",
      "metadata": {
        "colab": {
          "base_uri": "https://localhost:8080/",
          "height": 299
        },
        "id": "ZZbCuwS_NS7h",
        "outputId": "2d56572d-2abc-4874-b001-37b38ee41c96"
      }
    },
    {
      "cell_type": "markdown",
      "metadata": {
        "id": "8bSxSjC-sCyZ"
      },
      "source": [
        "## Analyzing the lr_finder plot\n",
        "\n",
        "As rules of thumb, fastai recommends picking the LR where the slope is steepest, or pick the end of the slop minimum and divide it by 10. In our case it seems our point of steepest slope is between $10^{-3}$ and $10^{-2}$. We definitely don't want to pick anything beyond 5e-1 as it seems the loss is flattening before picking up again. We also probably don't want to pick anything before $10^{-4}$ as the loss stays flat meaning it would take a lot of epochs before we see any significant improvement. If I were to pick a learning rate I would probably go with $10^{-2}$ for the first couple cycles, and then move to a finer one (e.g. $10^{-3}$).\n",
        "\n",
        "## Conclusion\n",
        "\n",
        "Learning rates are a critical part of training a neural network using SGD and a good learning rate will not only help you get closest to the minimum loss, but will also speed up your training (i.e. less epochs to reach a specific accuracy). \n",
        "\n",
        "Experiment with lr_finder yourself! Suggestions: try adding weights to our step_size increments (e.g. *2) and try incrementing it linearly instead of logarithmically and see how it affects the plot. \n",
        "\n",
        "If you have suggestions for what to implement next, comment below! Hope you found this useful and all the best in your machine learning journey. \n",
        "\n",
        "**References**\n",
        "\n",
        "{{ 'Leslie N. Smith. (v6 2017, v1 2015). Cyclical Learning Rates for Training Neural Networks [Link](https://arxiv.org/abs/1506.01186)'  | fndetail: 1 }}\n"
      ]
    }
  ]
}