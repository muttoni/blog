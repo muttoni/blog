{
  "nbformat": 4,
  "nbformat_minor": 0,
  "metadata": {
    "colab": {
      "name": "2020-12-28-Implementing-a-Deep-Neural-Network-from-Scratch.ipynb",
      "provenance": [],
      "collapsed_sections": [],
      "toc_visible": true
    },
    "kernelspec": {
      "name": "python3",
      "display_name": "Python 3.8.5 64-bit",
      "metadata": {
        "interpreter": {
          "hash": "aee8b7b246df8f9039afb4144a1f6fd8d2ca17a180786b69acc140d282b71a49"
        }
      }
    },
    "widgets": {
      "application/vnd.jupyter.widget-state+json": {
        "a83a32c32065476baa74407ecdbaa1dc": {
          "model_module": "@jupyter-widgets/controls",
          "model_name": "VBoxModel",
          "state": {
            "_view_name": "VBoxView",
            "_dom_classes": [
              "widget-interact"
            ],
            "_model_name": "VBoxModel",
            "_view_module": "@jupyter-widgets/controls",
            "_model_module_version": "1.5.0",
            "_view_count": null,
            "_view_module_version": "1.5.0",
            "box_style": "",
            "layout": "IPY_MODEL_bb4d22992d364888905835f77f156233",
            "_model_module": "@jupyter-widgets/controls",
            "children": [
              "IPY_MODEL_90da5570ee014c81ae1536f4ccb6155c",
              "IPY_MODEL_38a8ea4f96294d95943392ce82d45934",
              "IPY_MODEL_3184fed9e42d42f882ac3e89e4138709"
            ]
          }
        },
        "bb4d22992d364888905835f77f156233": {
          "model_module": "@jupyter-widgets/base",
          "model_name": "LayoutModel",
          "state": {
            "_view_name": "LayoutView",
            "grid_template_rows": null,
            "right": null,
            "justify_content": null,
            "_view_module": "@jupyter-widgets/base",
            "overflow": null,
            "_model_module_version": "1.2.0",
            "_view_count": null,
            "flex_flow": null,
            "width": null,
            "min_width": null,
            "border": null,
            "align_items": null,
            "bottom": null,
            "_model_module": "@jupyter-widgets/base",
            "top": null,
            "grid_column": null,
            "overflow_y": null,
            "overflow_x": null,
            "grid_auto_flow": null,
            "grid_area": null,
            "grid_template_columns": null,
            "flex": null,
            "_model_name": "LayoutModel",
            "justify_items": null,
            "grid_row": null,
            "max_height": null,
            "align_content": null,
            "visibility": null,
            "align_self": null,
            "height": null,
            "min_height": null,
            "padding": null,
            "grid_auto_rows": null,
            "grid_gap": null,
            "max_width": null,
            "order": null,
            "_view_module_version": "1.2.0",
            "grid_template_areas": null,
            "object_position": null,
            "object_fit": null,
            "grid_auto_columns": null,
            "margin": null,
            "display": null,
            "left": null
          }
        },
        "90da5570ee014c81ae1536f4ccb6155c": {
          "model_module": "@jupyter-widgets/controls",
          "model_name": "FloatSliderModel",
          "state": {
            "_view_name": "FloatSliderView",
            "style": "IPY_MODEL_e3d9b918ec7b4effadc638db7d33a062",
            "_dom_classes": [],
            "description": "a",
            "step": 0.5,
            "_model_name": "FloatSliderModel",
            "orientation": "horizontal",
            "max": 4,
            "_view_module": "@jupyter-widgets/controls",
            "_model_module_version": "1.5.0",
            "value": 1,
            "_view_count": null,
            "disabled": false,
            "_view_module_version": "1.5.0",
            "min": -2,
            "continuous_update": true,
            "readout_format": ".2f",
            "description_tooltip": null,
            "readout": true,
            "_model_module": "@jupyter-widgets/controls",
            "layout": "IPY_MODEL_70d3577a4cb84998b1fc7fdd357cf86b"
          }
        },
        "38a8ea4f96294d95943392ce82d45934": {
          "model_module": "@jupyter-widgets/controls",
          "model_name": "FloatSliderModel",
          "state": {
            "_view_name": "FloatSliderView",
            "style": "IPY_MODEL_b9268c3c756f4e94a5ba621bd86ee833",
            "_dom_classes": [],
            "description": "b",
            "step": 0.25,
            "_model_name": "FloatSliderModel",
            "orientation": "horizontal",
            "max": 3,
            "_view_module": "@jupyter-widgets/controls",
            "_model_module_version": "1.5.0",
            "value": 0,
            "_view_count": null,
            "disabled": false,
            "_view_module_version": "1.5.0",
            "min": -2,
            "continuous_update": true,
            "readout_format": ".2f",
            "description_tooltip": null,
            "readout": true,
            "_model_module": "@jupyter-widgets/controls",
            "layout": "IPY_MODEL_bb192dc4ecc846269beb5b38b2f659dd"
          }
        },
        "3184fed9e42d42f882ac3e89e4138709": {
          "model_module": "@jupyter-widgets/output",
          "model_name": "OutputModel",
          "state": {
            "_view_name": "OutputView",
            "msg_id": "",
            "_dom_classes": [],
            "_model_name": "OutputModel",
            "outputs": [
              {
                "output_type": "display_data",
                "metadata": {
                  "tags": [],
                  "needs_background": "light"
                },
                "image/png": "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\n",
                "text/plain": "<Figure size 432x288 with 1 Axes>"
              }
            ],
            "_view_module": "@jupyter-widgets/output",
            "_model_module_version": "1.0.0",
            "_view_count": null,
            "_view_module_version": "1.0.0",
            "layout": "IPY_MODEL_85e8f491288148cf956c8e82b1b2c87b",
            "_model_module": "@jupyter-widgets/output"
          }
        },
        "e3d9b918ec7b4effadc638db7d33a062": {
          "model_module": "@jupyter-widgets/controls",
          "model_name": "SliderStyleModel",
          "state": {
            "_view_name": "StyleView",
            "handle_color": null,
            "_model_name": "SliderStyleModel",
            "description_width": "",
            "_view_module": "@jupyter-widgets/base",
            "_model_module_version": "1.5.0",
            "_view_count": null,
            "_view_module_version": "1.2.0",
            "_model_module": "@jupyter-widgets/controls"
          }
        },
        "70d3577a4cb84998b1fc7fdd357cf86b": {
          "model_module": "@jupyter-widgets/base",
          "model_name": "LayoutModel",
          "state": {
            "_view_name": "LayoutView",
            "grid_template_rows": null,
            "right": null,
            "justify_content": null,
            "_view_module": "@jupyter-widgets/base",
            "overflow": null,
            "_model_module_version": "1.2.0",
            "_view_count": null,
            "flex_flow": null,
            "width": null,
            "min_width": null,
            "border": null,
            "align_items": null,
            "bottom": null,
            "_model_module": "@jupyter-widgets/base",
            "top": null,
            "grid_column": null,
            "overflow_y": null,
            "overflow_x": null,
            "grid_auto_flow": null,
            "grid_area": null,
            "grid_template_columns": null,
            "flex": null,
            "_model_name": "LayoutModel",
            "justify_items": null,
            "grid_row": null,
            "max_height": null,
            "align_content": null,
            "visibility": null,
            "align_self": null,
            "height": null,
            "min_height": null,
            "padding": null,
            "grid_auto_rows": null,
            "grid_gap": null,
            "max_width": null,
            "order": null,
            "_view_module_version": "1.2.0",
            "grid_template_areas": null,
            "object_position": null,
            "object_fit": null,
            "grid_auto_columns": null,
            "margin": null,
            "display": null,
            "left": null
          }
        },
        "b9268c3c756f4e94a5ba621bd86ee833": {
          "model_module": "@jupyter-widgets/controls",
          "model_name": "SliderStyleModel",
          "state": {
            "_view_name": "StyleView",
            "handle_color": null,
            "_model_name": "SliderStyleModel",
            "description_width": "",
            "_view_module": "@jupyter-widgets/base",
            "_model_module_version": "1.5.0",
            "_view_count": null,
            "_view_module_version": "1.2.0",
            "_model_module": "@jupyter-widgets/controls"
          }
        },
        "bb192dc4ecc846269beb5b38b2f659dd": {
          "model_module": "@jupyter-widgets/base",
          "model_name": "LayoutModel",
          "state": {
            "_view_name": "LayoutView",
            "grid_template_rows": null,
            "right": null,
            "justify_content": null,
            "_view_module": "@jupyter-widgets/base",
            "overflow": null,
            "_model_module_version": "1.2.0",
            "_view_count": null,
            "flex_flow": null,
            "width": null,
            "min_width": null,
            "border": null,
            "align_items": null,
            "bottom": null,
            "_model_module": "@jupyter-widgets/base",
            "top": null,
            "grid_column": null,
            "overflow_y": null,
            "overflow_x": null,
            "grid_auto_flow": null,
            "grid_area": null,
            "grid_template_columns": null,
            "flex": null,
            "_model_name": "LayoutModel",
            "justify_items": null,
            "grid_row": null,
            "max_height": null,
            "align_content": null,
            "visibility": null,
            "align_self": null,
            "height": null,
            "min_height": null,
            "padding": null,
            "grid_auto_rows": null,
            "grid_gap": null,
            "max_width": null,
            "order": null,
            "_view_module_version": "1.2.0",
            "grid_template_areas": null,
            "object_position": null,
            "object_fit": null,
            "grid_auto_columns": null,
            "margin": null,
            "display": null,
            "left": null
          }
        },
        "85e8f491288148cf956c8e82b1b2c87b": {
          "model_module": "@jupyter-widgets/base",
          "model_name": "LayoutModel",
          "state": {
            "_view_name": "LayoutView",
            "grid_template_rows": null,
            "right": null,
            "justify_content": null,
            "_view_module": "@jupyter-widgets/base",
            "overflow": null,
            "_model_module_version": "1.2.0",
            "_view_count": null,
            "flex_flow": null,
            "width": null,
            "min_width": null,
            "border": null,
            "align_items": null,
            "bottom": null,
            "_model_module": "@jupyter-widgets/base",
            "top": null,
            "grid_column": null,
            "overflow_y": null,
            "overflow_x": null,
            "grid_auto_flow": null,
            "grid_area": null,
            "grid_template_columns": null,
            "flex": null,
            "_model_name": "LayoutModel",
            "justify_items": null,
            "grid_row": null,
            "max_height": null,
            "align_content": null,
            "visibility": null,
            "align_self": null,
            "height": "350px",
            "min_height": null,
            "padding": null,
            "grid_auto_rows": null,
            "grid_gap": null,
            "max_width": null,
            "order": null,
            "_view_module_version": "1.2.0",
            "grid_template_areas": null,
            "object_position": null,
            "object_fit": null,
            "grid_auto_columns": null,
            "margin": null,
            "display": null,
            "left": null
          }
        }
      }
    },
    "accelerator": "GPU"
  },
  "cells": [
    {
      "source": [
        "# Implementing a Deep Neural Network from Scratch - Part 1\n",
        "> In this series we'll build a Neural Network from the ground up, covering basic concepts along the way. In Part 1 we will cover some fundamentals, create a simple baseline algorithm and build our first model.\n",
        "\n",
        "- toc: true\n",
        "- badges: false\n",
        "- comments: true\n",
        "- categories: [machine-learning]\n",
        "- image: images/nn-from-scratch-part-1.png\n",
        "- sticky_rank: 1\n",
        "- keywords: machine learning, ml, deep neural network, neural network, convolutional neural network, beginner concepts, fastai, fast.ai, pytorch"
      ],
      "cell_type": "markdown",
      "metadata": {}
    },
    {
      "cell_type": "markdown",
      "metadata": {
        "id": "g9zzkgKSnGXB"
      },
      "source": [
        "## Introduction\n",
        "\n",
        "One of the best ways to truly understand an algorithm, an API, or really any practical concept, is to build it yourself. In this blog post, we will implement a Deep Neural Network Multi-Label Text Classifier from scratch using Python, debunking the impression that modern Machine Learning is an obscure black box full of mind-bendingly complicated math. \n",
        "\n",
        "Our goal will be to create a Neural Network that can distinguish all 10 handwritten digits (using the industry standard [MNIST](http://yann.lecun.com/exdb/mnist/) dataset). This is also known as a Multi-Label Classifier (a single-label classifier only has two labels, such as cat or dog, hotdog or not hotdog, etc). I'll be basing this post on Lesson 4 of the excellent [fast.ai tutorial](https://course.fast.ai/) on Deep Learning, where Jeremy Howard shows how to distinguish whether a digit is a 3 or a 7 (a single label classifier). We'll need to change some things to make it work for all ten digits (0-9).\n",
        "\n",
        "To truly test your understanding, I encourage you to try this yourself with a different type of dataset.\n",
        "\n",
        "## Terminology\n",
        "\n",
        "Most concepts that appear complicated are actually quite simple once you look at its building blocks. Complexity often arises from an aggregation of simplicity, and with Neural Networks this is exactly the case. The foundation of a Neural Network is collection of neurons. A neuron takes in a value, does a mathematical operation and outputs another value. That's it. The reason Neural Networks are powerful, is in the _how_: how the neurons work together, and how the output values in each neuron are calculated.\n",
        "\n",
        "If you remember from high school math, one of the simplest equations is that of a linear function (i.e. the equation of a straight line): \n",
        "\n",
        "$y = \\textbf{a}x + \\textbf{b}$\n",
        "\n",
        "$\\textbf{a}$ and $\\textbf{b}$ are constants (i.e. numbers like 2 or 3). For any value $x$ that we feed in, $\\textbf{a}$ influences that slope (or gradient) of the line, $\\textbf{b}$ determines the offset of the line along the $y$ axis.\n",
        "\n",
        "![](images/2xp1.png)\n",
        "\n",
        "[Here is an interactive example](https://www.mathsisfun.com/data/straight_line_graph.html) where you can see how $x$ is affected by changes in $\\textbf{a}$ and $\\textbf{b}$.\n"
      ]
    },
    {
      "cell_type": "markdown",
      "metadata": {
        "id": "cVF72WCU04CC"
      },
      "source": [
        "Guess what: each neuron in a Neural Network is a linear function almost identical to the above. The main differences lie in how we call each parameter and how the values of the function are affected once we start connecting neurons together. This is why we refer to the neurons as \"**linear units**\". From here on out, we'll call them linear units or LU(s).\n",
        "\n",
        "The function for a linear unit is equivalent to the one we saw earlier:\n",
        "\n",
        "$y = wx + b$\n",
        "\n",
        "Almost identical right? The only difference is that $a$ turned into a $w$. This is because at the heart of a linear unit, the input is affected by a **weight** $w$ and a **bias** $b$. Here's another way to look at it, visually:\n"
      ]
    },
    {
      "cell_type": "code",
      "metadata": {
        "colab": {
          "base_uri": "https://localhost:8080/",
          "height": 152
        },
        "id": "XpjLoqSUxnkF",
        "outputId": "2c06b989-a930-4ba2-eb7c-daad894be233"
      },
      "source": [
        "#hide_input\n",
        "gv('''\n",
        "bias->\"neuron aka L.U.\"->output\n",
        "input->weight->\"neuron aka L.U.\"\n",
        "''')"
      ],
      "execution_count": 3,
      "outputs": [
        {
          "output_type": "execute_result",
          "data": {
            "text/plain": [
              "<graphviz.files.Source at 0x7fb5ed2be470>"
            ],
            "image/svg+xml": "<?xml version=\"1.0\" encoding=\"UTF-8\" standalone=\"no\"?>\n<!DOCTYPE svg PUBLIC \"-//W3C//DTD SVG 1.1//EN\"\n \"http://www.w3.org/Graphics/SVG/1.1/DTD/svg11.dtd\">\n<!-- Generated by graphviz version 2.40.1 (20161225.0304)\n -->\n<!-- Title: G Pages: 1 -->\n<svg width=\"464pt\" height=\"98pt\"\n viewBox=\"0.00 0.00 464.37 98.00\" xmlns=\"http://www.w3.org/2000/svg\" xmlns:xlink=\"http://www.w3.org/1999/xlink\">\n<g id=\"graph0\" class=\"graph\" transform=\"scale(1 1) rotate(0) translate(4 94)\">\n<title>G</title>\n<polygon fill=\"#ffffff\" stroke=\"transparent\" points=\"-4,4 -4,-94 460.3691,-94 460.3691,4 -4,4\"/>\n<!-- bias -->\n<g id=\"node1\" class=\"node\">\n<title>bias</title>\n<ellipse fill=\"none\" stroke=\"#000000\" cx=\"133.4913\" cy=\"-72\" rx=\"27\" ry=\"18\"/>\n<text text-anchor=\"middle\" x=\"133.4913\" y=\"-68.3\" font-family=\"Times,serif\" font-size=\"14.00\" fill=\"#000000\">bias</text>\n</g>\n<!-- neuron aka L.U. -->\n<g id=\"node2\" class=\"node\">\n<title>neuron aka L.U.</title>\n<ellipse fill=\"none\" stroke=\"#000000\" cx=\"278.0317\" cy=\"-45\" rx=\"72.2875\" ry=\"18\"/>\n<text text-anchor=\"middle\" x=\"278.0317\" y=\"-41.3\" font-family=\"Times,serif\" font-size=\"14.00\" fill=\"#000000\">neuron aka L.U.</text>\n</g>\n<!-- bias&#45;&gt;neuron aka L.U. -->\n<g id=\"edge1\" class=\"edge\">\n<title>bias&#45;&gt;neuron aka L.U.</title>\n<path fill=\"none\" stroke=\"#000000\" d=\"M159.6665,-67.1105C173.8753,-64.4563 192.1638,-61.04 210.0954,-57.6904\"/>\n<polygon fill=\"#000000\" stroke=\"#000000\" points=\"210.8051,-61.1185 219.9924,-55.8417 209.5197,-54.2375 210.8051,-61.1185\"/>\n</g>\n<!-- output -->\n<g id=\"node3\" class=\"node\">\n<title>output</title>\n<ellipse fill=\"none\" stroke=\"#000000\" cx=\"421.2722\" cy=\"-45\" rx=\"35.194\" ry=\"18\"/>\n<text text-anchor=\"middle\" x=\"421.2722\" y=\"-41.3\" font-family=\"Times,serif\" font-size=\"14.00\" fill=\"#000000\">output</text>\n</g>\n<!-- neuron aka L.U.&#45;&gt;output -->\n<g id=\"edge2\" class=\"edge\">\n<title>neuron aka L.U.&#45;&gt;output</title>\n<path fill=\"none\" stroke=\"#000000\" d=\"M350.4912,-45C359.0795,-45 367.6516,-45 375.7136,-45\"/>\n<polygon fill=\"#000000\" stroke=\"#000000\" points=\"375.9765,-48.5001 385.9764,-45 375.9764,-41.5001 375.9765,-48.5001\"/>\n</g>\n<!-- input -->\n<g id=\"node4\" class=\"node\">\n<title>input</title>\n<ellipse fill=\"none\" stroke=\"#000000\" cx=\"30.5473\" cy=\"-18\" rx=\"30.5947\" ry=\"18\"/>\n<text text-anchor=\"middle\" x=\"30.5473\" y=\"-14.3\" font-family=\"Times,serif\" font-size=\"14.00\" fill=\"#000000\">input</text>\n</g>\n<!-- weight -->\n<g id=\"node5\" class=\"node\">\n<title>weight</title>\n<ellipse fill=\"none\" stroke=\"#000000\" cx=\"133.4913\" cy=\"-18\" rx=\"36.2938\" ry=\"18\"/>\n<text text-anchor=\"middle\" x=\"133.4913\" y=\"-14.3\" font-family=\"Times,serif\" font-size=\"14.00\" fill=\"#000000\">weight</text>\n</g>\n<!-- input&#45;&gt;weight -->\n<g id=\"edge3\" class=\"edge\">\n<title>input&#45;&gt;weight</title>\n<path fill=\"none\" stroke=\"#000000\" d=\"M61.1552,-18C69.2489,-18 78.1712,-18 86.9042,-18\"/>\n<polygon fill=\"#000000\" stroke=\"#000000\" points=\"87.0081,-21.5001 97.0081,-18 87.0081,-14.5001 87.0081,-21.5001\"/>\n</g>\n<!-- weight&#45;&gt;neuron aka L.U. -->\n<g id=\"edge4\" class=\"edge\">\n<title>weight&#45;&gt;neuron aka L.U.</title>\n<path fill=\"none\" stroke=\"#000000\" d=\"M167.7454,-24.3986C180.4294,-26.768 195.2974,-29.5453 209.9363,-32.2798\"/>\n<polygon fill=\"#000000\" stroke=\"#000000\" points=\"209.5319,-35.7648 220.0046,-34.1606 210.8173,-28.8838 209.5319,-35.7648\"/>\n</g>\n</g>\n</svg>\n"
          },
          "metadata": {
            "tags": []
          },
          "execution_count": 3
        }
      ]
    },
    {
      "cell_type": "markdown",
      "metadata": {
        "id": "m2F0-fMg3LJV"
      },
      "source": [
        "Why so much fuss about Neural Networks? Well, the power of neural networks is that theoretically they are able to approximate any function, at any level of accuracy. This is called the [Universal Approximation Theorem](https://en.wikipedia.org/wiki/Universal_approximation_theorem). If you're interested in diving deeper into how this works, I recommend reading [this post](http://neuralnetworksanddeeplearning.com/chap4.html) that visually (and interactively) shows how Neural Networks are able to approximate any function. \n",
        "\n",
        "We've made some bold claims: something that can replicate any known function with _any_ level of theoretical accuracy...and just thanks to a simple linear function? Well, yes! And no. As mentioned ealier, the real magic of a Neural Network lies not in how each neuron (linear unit) behaves independently, but how they behave as a whole. We'll see how this works as we build our Neural Network.\n",
        "\n",
        "By the way, if you need a little more context on the topics covered above, I highly recommend the [Kaggle course](https://www.kaggle.com/ryanholbrook/a-single-neuron) on the subject."
      ]
    },
    {
      "cell_type": "markdown",
      "metadata": {
        "id": "-ObvXMp1DmJi"
      },
      "source": [
        "## Getting Started\n",
        "\n",
        "Now that we've understood what lies at the foundation of a Neural Network, we can start implementing it. Let's begin by importing and taking a look at the data we will be using. "
      ]
    },
    {
      "cell_type": "code",
      "metadata": {
        "colab": {
          "base_uri": "https://localhost:8080/",
          "height": 17
        },
        "id": "S6kFh_pl2Qdw",
        "outputId": "69c4e0da-7d35-45eb-9c83-fa3392744fbb"
      },
      "source": [
        "path = untar_data(URLs.MNIST)"
      ],
      "execution_count": 2,
      "outputs": [
        {
          "output_type": "display_data",
          "data": {
            "text/html": [
              ""
            ],
            "text/plain": [
              "<IPython.core.display.HTML object>"
            ]
          },
          "metadata": {
            "tags": []
          }
        }
      ]
    },
    {
      "cell_type": "markdown",
      "metadata": {
        "id": "nGEix4MEF3Qr"
      },
      "source": [
        "Our data is made up of two directories: `training/` and `testing/`. In each folder, the PNGs of the digits (0 to 9) are grouped into folders themselves. The training dataset has a total of 60,000 reference images and the testing a total of 10,000 (so roughly a 15-16% validation split). \n",
        "\n",
        "```\n",
        "mnist_png/ (70,000 files) \n",
        "├── training/ (60,000 files)\n",
        "│   ├── 0/\n",
        "│   │   ├── 44897.png\n",
        "│   │   ├── 28230.png\n",
        "│   │   └── ...\n",
        "│   ├── 1/\n",
        "│   │   ├── 44680.png\n",
        "│   │   ├── 37659.png\n",
        "│   │   └── ...\n",
        "│   ├── ...\n",
        "│   └── 9/\n",
        "└── testing/ (10,000 files)\n",
        "    └── ... (same structure as training/)\n",
        "```\n",
        "\n",
        "The reason we need the two folders is that we'll \"learn\" how to recognize the digits using the larger training set, and measure our performance accuracy against the testing dataset. If we were to test our performance on the dataset we learn from, we would always inevitably get 100% accuracy as the model learns to distinguish individual files. This sounds great, but the reality is it would perform terribly in a production environment when it encounters images of digits it has never seen before.\n"
      ]
    },
    {
      "cell_type": "code",
      "metadata": {
        "id": "F82Pg4cZFuzw"
      },
      "source": [
        "# Importing the paths of our training and testing images\n",
        "training = { f'{num}' : (path/f'training/{num}').ls().sorted() for num in range(10) }\n",
        "testing = { f'{num}' : (path/f'testing/{num}').ls().sorted() for num in range(10) }"
      ],
      "execution_count": 4,
      "outputs": []
    },
    {
      "cell_type": "code",
      "metadata": {
        "colab": {
          "base_uri": "https://localhost:8080/",
          "height": 45
        },
        "id": "mwzC9y_2VgNn",
        "outputId": "7458bf11-1e01-4cef-ab2e-8b42e096f2d9"
      },
      "source": [
        "# Let's take a look at a random 0\n",
        "zero_path = training['0'][0]\n",
        "zero = Image.open(zero_path)\n",
        "zero"
      ],
      "execution_count": 6,
      "outputs": [
        {
          "output_type": "execute_result",
          "data": {
            "image/png": "[encoded data removed]",
            "text/plain": [
              "<PIL.PngImagePlugin.PngImageFile image mode=L size=28x28 at 0x7FB5EFCD7128>"
            ]
          },
          "metadata": {
            "tags": []
          },
          "execution_count": 6
        }
      ]
    },
    {
      "cell_type": "markdown",
      "metadata": {
        "id": "j0Sro8fDFkh4"
      },
      "source": [
        "In order to work with our images, we need to convert this image into a numerical representation. Usually, a 2D image is represented by a matrix array (i.e. a Python list, a Javascript array, etc). There are a couple Python libraries that have extended the standard list object to be a bit more flexible (e.g. a numpy array). The object we'll be using is a PyTorch tensor. PyTorch is a popular Deep Learning Python Library. While _tensor_ may sound like a fancy name, it's nothing more than an array that has a couple extra features. From here on out, when we refer to a tensor, we mean an array. Let's convert our zero to a tensor and visualize it numerically:"
      ]
    },
    {
      "cell_type": "code",
      "execution_count": null,
      "metadata": {},
      "outputs": [],
      "source": [
        "tensor(zero)"
      ]
    },
    {
      "source": [
        "![](images/zero_tensor_1.png)"
      ],
      "cell_type": "markdown",
      "metadata": {}
    },
    {
      "cell_type": "markdown",
      "metadata": {
        "id": "bcxoxlBDW2Da"
      },
      "source": [
        "Without being Neo from the matrix, you can make out the zero drawn as if in ascii text. This is because each value of the array represents a pixel value, in the case of grey scale, from 0 to 255. Any place there is no color data, we have 0s.\n",
        "\n",
        "Given that this is a 2D matrix, we can access specific parts of the tensor using notation such as `zero[5:10,5:10]` which will output the rows from index 5 (included) to 10 (excluded) and the same for the columns."
      ]
    },
    {
      "cell_type": "code",
      "metadata": {
        "colab": {
          "base_uri": "https://localhost:8080/"
        },
        "id": "j3xXMZ2lXfm-",
        "outputId": "34d55861-78ec-4947-9ebb-d4bf04997633"
      },
      "source": [
        "z_t = tensor(zero)\n",
        "z_t[6:10,10:15] # This will output rows 7-10 (index 6-9) and columns 11-15 (index 10-14)"
      ],
      "execution_count": 8,
      "outputs": [
        {
          "output_type": "execute_result",
          "data": {
            "text/plain": [
              "tensor([[  0,   0,   0,  54, 227],\n",
              "        [  0,  10,  60, 224, 252],\n",
              "        [  0, 163, 252, 252, 252],\n",
              "        [ 51, 238, 253, 253, 190]], dtype=torch.uint8)"
            ]
          },
          "metadata": {
            "tags": []
          },
          "execution_count": 8
        }
      ]
    },
    {
      "cell_type": "markdown",
      "metadata": {
        "id": "EAN7A3LyYEbW"
      },
      "source": [
        "Let's visualize the tensor a little better:"
      ]
    },
    {
      "cell_type": "code",
      "execution_count": null,
      "metadata": {},
      "outputs": [],
      "source": [
        "df = pd.DataFrame(z_t)\n",
        "df.style.set_properties(**{'font-size':'5pt'}).background_gradient('Greys')"
      ]
    },
    {
      "source": [
        "![](images/zero_tensor_2.png)"
      ],
      "cell_type": "markdown",
      "metadata": {}
    },
    {
      "cell_type": "markdown",
      "metadata": {
        "id": "_kskt9HeYZE4"
      },
      "source": [
        "This is the anatomy of our digits: 28 rows long by 28 columns wide, making a total of 784 pixels each. Each pixel is represented by a value from 0-255.\n",
        "\n",
        "Before we start, let's first ponder on how we could, without knowing _anything_ but the structure of the data, teach a computer how to differentiate between the digits. We'll do that in the next section, and use it as a baseline to measure our Neural Network against."
      ]
    },
    {
      "cell_type": "markdown",
      "metadata": {
        "id": "2yh6GgN-FSEq"
      },
      "source": [
        "## Establishing a Baseline\n",
        "\n",
        "We'll begin our implementation by implementing something that _isn't_ a neural network. It sounds counter-intuitive, but in order to get a good understanding of the performance of our model, we should always have a simple baseline with which to compare it against. Usually a good baseline is something simple, easy to create, and easy to understand. Seeing as how we're building everything from scratch, we may as well build our baseline from scratch as well. \n",
        "\n",
        "In our case, there are several ways to approach this problem without knowing a single thing about machine learning. One approach could be just comparing the pixel similarity of the digits. This can be done by counting the average number of non-0 pixels for each image, or measuring the average pixel value of each image, or the average sum of pixel values, etc). Let's pick comparing average pixel values as the \"algorithm\" for our baseline algorithm. \n",
        "\n",
        "### Average Pixel Value\n",
        "\n",
        "To calculate average pixel value, we will take the average value of each pixel coordinate across every respective digit's training image's tensor. For example, we take all the '5' image tensors, we look at the first coordinate (1,1) in each tensor and we take the average value. We repeat the process for each coordinate until we create a map of average values across the 28x28 grid of pixels. An easy way to do this is to create a tensor that \"houses\" all of the individual image tensors. This will take our tensor from 2 dimensions, to 3 (also called a rank-3 tensor). This allows us to work with all of the tensors as a single stack, and conduct mathematical operations such as `tensor.mean()` without looping. We'll see later why that's not just convenient, but very important for performance.\n",
        "\n",
        "Going into the third dimenion sounds complicated, but all we're really doing is nesting each of the digit's various PNGs' tensors into a larger tensor. We do this with PyTorch's `stack` method which does just that. While we're at it, we'll also normalize our pixel values to be from 0 to 1 by dividing by 255 after converting them to float.\n"
      ]
    },
    {
      "cell_type": "code",
      "metadata": {
        "colab": {
          "base_uri": "https://localhost:8080/"
        },
        "id": "yEwdPXTCgjp8",
        "outputId": "9448c699-7c08-4d8b-862d-dd91d0a4b0f8"
      },
      "source": [
        "# Generate training tensors for each digit in the training list:\n",
        "# For each digit from 0 to 9, we create a stacked tensor \n",
        "# containing the tensors for each PNG image, after converting\n",
        "# each pixel value to a float and dividing it by 255.\n",
        "\n",
        "training_tensors = [\n",
        "      torch.stack([\n",
        "            tensor(Image.open(digit)).float()/255 for digit in training[f'{num}']\n",
        "          ]) for num in range(10)\n",
        "      ]\n",
        "\n",
        "# Preview the shape of the stacked tensors of the \"zero\" digit PNGs\n",
        "training_tensors[0].shape"
      ],
      "execution_count": 5,
      "outputs": [
        {
          "output_type": "execute_result",
          "data": {
            "text/plain": [
              "torch.Size([5923, 28, 28])"
            ]
          },
          "metadata": {
            "tags": []
          },
          "execution_count": 5
        }
      ]
    },
    {
      "cell_type": "markdown",
      "metadata": {
        "id": "gO1Fq_Qzgay6"
      },
      "source": [
        "We now have a list of stacked tensors (i.e. a list of stacked tensors of each digit). Each stacked tensor has $n$ tensors for each PNG image (rows), and each row contains a 28x28 tensor representing that PNG's pixel values normalized from 0 to 1.\n",
        "\n",
        "We can check this by inspecting the first item in our list of `training_tensors`: the stacked tensor of \"zero\" PNGs has _shape_ `torch.Size([5923, 28, 28])`: because it has 5923 rows (equal to the number of training images), each containing a 28x28 tensor (equal to the pixels in each image). If you're having trouble picturing a 3D tensor in your head, think of it like an array of array of arrays (or a list of list of lists in Python). \n",
        "\n",
        "## Calculating Average Pixel values\n",
        "\n",
        "The convenient part of having used tensors, is that now we can quickly calculate the mean across a desired dimension (in our case: flatten each stack into a single 28x28 tensor containing the average values of each pixel in the stack). \n",
        ">Tip: Think of it like printing out all the PNG images for a specific digit and stacking each page one on top of the other. That's exactly what we did with out stacked tensor. And now, with special X-Ray vision, we are going to reduce the stack to a single page by taking the average value for each printed pixel across the stack of pages. \n"
      ]
    },
    {
      "cell_type": "code",
      "metadata": {
        "colab": {
          "base_uri": "https://localhost:8080/",
          "height": 227
        },
        "id": "XDfRNbNTdDmA",
        "outputId": "f2e51b78-d3dc-4d4a-d6a6-eaff1d1b4805"
      },
      "source": [
        "# Flattening the stacks to calculate the means\n",
        "training_means = [t.mean(0) for t in training_tensors]\n",
        "\n",
        "# Let's display the \"mean\" tensor of the digits\n",
        "f, axarr = plt.subplots(2,5)\n",
        "digit = 0\n",
        "for i in range(2):\n",
        "  for j in range(5):\n",
        "    axarr[i,j].imshow(training_means[digit], cmap=\"gray\")\n",
        "    digit += 1"
      ],
      "execution_count": 11,
      "outputs": [
        {
          "output_type": "display_data",
          "data": {
            "image/png": "[encoded data removed]",
            "text/plain": [
              "<Figure size 432x288 with 10 Axes>"
            ]
          },
          "metadata": {
            "tags": [],
            "needs_background": "light"
          }
        }
      ]
    },
    {
      "cell_type": "markdown",
      "metadata": {
        "id": "DovW3_BxnqHF"
      },
      "source": [
        "Pretty cool right? That is the \"average\" pixel value for each digit, representing in a way the _ideal_ digit according to our baseline algorithm that will compare the validation digits against this mean. The value we will be measuring is called _distance_. Our validation digits will of course be very different from these reference means, but hopefully the pixel values will be nearest in _distance_ to the mean pixel value of the correct digit! Let's see if that's the case...\n",
        "\n",
        "### Measuring Distance\n",
        "\n",
        "In order to measure the distance between our reference means and the validation digits, we need to subtract them. However we can't simply subtract them, as that would create negative numbers and our pixel values go from 0 to 1. \n",
        "\n",
        "To avoid dealing with negative numbers, there are two common measures of distance that get rid of negative numbers altogether:\n",
        "-  **mean absolute difference** (aka L1 Norm)\n",
        "-  **root mean squared error** (aka RMSE or L2 Norm). \n",
        "\n",
        "If these sound confusing you'll see how simple they are in just a second.\n",
        "\n",
        "**Mean Absolute Difference**: $mean( abs( a - b ) )$. For each prediction, we subtract our prediction from the actual value, turn that difference into a positive number (i.e. remove the negative sign if there is one) and then average all the these differences together together. \n",
        "\n",
        "**Root Mean Squared Error / RMSE**: $\\sqrt[]{mean((a-b)^2)}$. For each prediction, we subtract our prediction from the actual value, square the result (so as to turn it into a positive number) and then take the square root, so as to \"cancel out\" the squaring. \n",
        "\n",
        "In code, they are even easier:"
      ]
    },
    {
      "cell_type": "code",
      "metadata": {
        "id": "VBtdqucBrWLN"
      },
      "source": [
        "def mean_absolute_difference(a, b):\n",
        "    return (a - b).abs().mean()\n",
        "\n",
        "def rmse(a, b):\n",
        "    return ((a - b)**2).mean().sqrt()"
      ],
      "execution_count": 12,
      "outputs": []
    },
    {
      "cell_type": "markdown",
      "metadata": {
        "id": "uqAKH09fr7sm"
      },
      "source": [
        "Now that we've defined them, let's pick a random image from the validation set (e.g. the first image in the '5' in the testing list) and calculate its distance from the training set's reference mean. "
      ]
    },
    {
      "cell_type": "code",
      "metadata": {
        "colab": {
          "base_uri": "https://localhost:8080/"
        },
        "id": "0M6KafJ7eLGG",
        "outputId": "90dc1060-7c20-4a21-a3b1-5e2e0f0ad492"
      },
      "source": [
        "val_5 = tensor(Image.open(testing['5'][0])).float()/255\n",
        "# val_5.shape => torch.Size([28, 28])\n",
        "\n",
        "# Let's compare it to the reference mean of 5\n",
        "mean_absolute_difference(training_means[5], val_5), rmse(training_means[5], val_5)"
      ],
      "execution_count": 13,
      "outputs": [
        {
          "output_type": "execute_result",
          "data": {
            "text/plain": [
              "(tensor(0.1683), tensor(0.2988))"
            ]
          },
          "metadata": {
            "tags": []
          },
          "execution_count": 13
        }
      ]
    },
    {
      "cell_type": "code",
      "metadata": {
        "id": "GVx3N7jDI4PX"
      },
      "source": [
        "# Now let's compare it to all the other means\n",
        "mad_all = [mean_absolute_difference(training_means[num], val_5) for num in range(10)]\n",
        "rmse_all = [rmse(training_means[num], val_5) for num in range(10)]"
      ],
      "execution_count": 14,
      "outputs": []
    },
    {
      "cell_type": "code",
      "metadata": {
        "colab": {
          "base_uri": "https://localhost:8080/",
          "height": 297
        },
        "id": "5KF5jEdvsYlZ",
        "outputId": "0e478eac-cb9b-4b07-f940-5fa4de964008"
      },
      "source": [
        "#hide_input\n",
        "# Plot results for a visual inspection\n",
        "plt.subplot(1, 2, 1)\n",
        "plt.title(\"Mean Abs. Diff. for a random '5'\")\n",
        "plt.axhline(mad_all[5], color='red', linewidth=1)\n",
        "plt.xticks(range(0, 10))\n",
        "plt.xlabel('Digits')\n",
        "plt.bar(range(len(mad_all)), mad_all, align='center')    \n",
        "plt.plot()\n",
        "\n",
        "plt.subplot(1, 2, 2)\n",
        "plt.title(\"MRSE for a Random '5'\")\n",
        "plt.axhline(rmse_all[5], color='red', linewidth=1)\n",
        "plt.xticks(range(0, 10))\n",
        "plt.xlabel('Digits')\n",
        "plt.bar(range(len(rmse_all)), rmse_all, align='center')    \n",
        "plt.plot()\n",
        "\n",
        "plt.tight_layout()\n",
        "plt.show()"
      ],
      "execution_count": 15,
      "outputs": [
        {
          "output_type": "display_data",
          "data": {
            "image/png": "[encoded data removed]",
            "text/plain": [
              "<Figure size 432x288 with 2 Axes>"
            ]
          },
          "metadata": {
            "tags": [],
            "needs_background": "light"
          }
        }
      ]
    },
    {
      "cell_type": "markdown",
      "metadata": {
        "id": "I_dNMLRfuNk2"
      },
      "source": [
        "Remember, we want the lowest distance (either measured via Mean Absolute Difference, or RMSE) to be the one between our PNG and the digit's \"reference mean\" (i.e. the mean we calculated representing the average of all the training digits of that type). \n",
        "\n",
        "We can already see that for this particular 5 in our dataset, our distance measures are actually lower for other numbers (e.g. 3, 8). This isn't desired, but also isn't too surprising, as the handwritten digits are visually very similar. Let's see if this holds up on average for all the 5's, and whether our algorithm will perform better for other digits.\n",
        "\n",
        "We'll continue by loading all of our validation images:"
      ]
    },
    {
      "cell_type": "code",
      "metadata": {
        "colab": {
          "base_uri": "https://localhost:8080/"
        },
        "id": "4mFm4l1Xt0sx",
        "outputId": "3a3639ed-c544-4374-d336-ab5928ea21e9"
      },
      "source": [
        "validation_tensors = [\n",
        "      torch.stack([\n",
        "            tensor(Image.open(digit)).float()/255 for digit in testing[f'{num}']\n",
        "          ]) for num in range(10)\n",
        "      ]\n",
        "\n",
        "# Preview the shape of the stacked validation tensors of the \"zero\" digit\n",
        "validation_tensors[0].shape"
      ],
      "execution_count": 6,
      "outputs": [
        {
          "output_type": "execute_result",
          "data": {
            "text/plain": [
              "torch.Size([980, 28, 28])"
            ]
          },
          "metadata": {
            "tags": []
          },
          "execution_count": 6
        }
      ]
    },
    {
      "cell_type": "markdown",
      "metadata": {
        "id": "BisGKMDivWH_"
      },
      "source": [
        "We need to write a function that takes each tensor stack in our `validation_tensors` list (one for each digit), and for each tensor in the stack measures the distance from the corresponding mean. \n",
        "\n",
        "Thanks to PyTorch's efficient use of broadcasting, we can feed in a stack as $a$ and a single tensor as $b$ (or viceversa) and PyTorch will automatically stack the single tensor multiple times to match the length of the stack. This allows the computation to be done using low-level C on the GPU (i.e. in parallel) and is several orders of magnitude faster than a regular Python `for` loop. Thankfully, our distance function doesn't need to change a whole lot, the only change being to add along which axes to calculate the mean in our tensor stack (see commented code below). We'll need another couple of functions to help us deal with multiple digits and multiple tensor stacks and aggregate all the scores.\n",
        "\n",
        "You can read the source code below, but here's a quick explanation: for each stack of tensors (e.g. tensors of all of the '3' images) in our validation set, we calculate the distance from each digit's reference mean and check that the lowest distance is that of the correct digit's reference mean."
      ]
    },
    {
      "cell_type": "code",
      "metadata": {
        "id": "5dSL_yPUNL2V"
      },
      "source": [
        "def distance(a, b):\n",
        "  # Let's go with mean absolute error for now\n",
        "  return (a - b).abs().mean((-1,-2)) # the last two axes (e.g. 28x28)\n",
        "\n",
        "def is_correct(tensors, means, correct_index):\n",
        "  # make a list of the wrong digits' means indices\n",
        "  wrong_means = [i for i in range(10)]\n",
        "  wrong_means.pop(correct_index)\n",
        "\n",
        "  # calculate the distance from the correct reference mean\n",
        "  correct_distance = distance(tensors, means[correct_index])\n",
        "\n",
        "  # calculate and compare the distance to each wrong digit's reference mean\n",
        "  # and then checking that the distance is the lowest across all digits.\n",
        "  # each 'wdX' contains a tensor of Booleans -- eg tensor([True, False, ... ])\n",
        "  wd1 = correct_distance < distance(tensors, means[wrong_means[0]])\n",
        "  wd2 = correct_distance < distance(tensors, means[wrong_means[1]])\n",
        "  wd3 = correct_distance < distance(tensors, means[wrong_means[2]])\n",
        "  wd4 = correct_distance < distance(tensors, means[wrong_means[3]])\n",
        "  wd5 = correct_distance < distance(tensors, means[wrong_means[4]])\n",
        "  wd6 = correct_distance < distance(tensors, means[wrong_means[5]])\n",
        "  wd7 = correct_distance < distance(tensors, means[wrong_means[6]])\n",
        "  wd8 = correct_distance < distance(tensors, means[wrong_means[7]])\n",
        "  wd9 = correct_distance < distance(tensors, means[wrong_means[8]])\n",
        "  \n",
        "  # now we 'and' all the Boolean tensors together\n",
        "  wdf = torch.bitwise_and(wd1, \n",
        "                    torch.bitwise_and(wd2, \n",
        "                    torch.bitwise_and(wd3, \n",
        "                    torch.bitwise_and(wd4, \n",
        "                    torch.bitwise_and(wd5, \n",
        "                    torch.bitwise_and(wd6, \n",
        "                    torch.bitwise_and(wd7,\n",
        "                    torch.bitwise_and(wd8, wd9))))))))\n",
        "  \n",
        "  return  wdf.float().mean()\n",
        "\n",
        "def accuracy(stacks, means):\n",
        "  accuracy_map = [is_correct(stacks[i], means, i) for i in range(10)]\n",
        "  accuracy_tot = (sum(accuracy_map) / len(accuracy_map)).item()\n",
        "  return accuracy_tot, accuracy_map         "
      ],
      "execution_count": 17,
      "outputs": []
    },
    {
      "cell_type": "code",
      "metadata": {
        "colab": {
          "base_uri": "https://localhost:8080/",
          "height": 486
        },
        "id": "_S3OecMK3Y8g",
        "outputId": "78b28bfa-2d8a-4161-d953-da9109a53a4f"
      },
      "source": [
        "# Output our results!\n",
        "tot, map = accuracy(validation_tensors, training_means)\n",
        "print(\"Tot. Accuracy: {:.1%}\".format(tot))\n",
        "print(\"\\n\".join([\"Digit {} : {:.1%}\".format(i, map[i]) for i in range(10)]))\n",
        "\n",
        "# Plot results for a visual inspection\n",
        "plt.title(\"Baseline Performance Across Digits\")\n",
        "plt.axhline(tot, color='red', linewidth=2)\n",
        "plt.xticks(range(0, 10))\n",
        "plt.xlabel('Digits')\n",
        "plt.ylabel('Accuracy')\n",
        "plt.bar(range(len(map)), map, align='center')    \n",
        "plt.plot(tot)\n",
        "plt.show()"
      ],
      "execution_count": 18,
      "outputs": [
        {
          "output_type": "stream",
          "text": [
            "Tot. Accuracy: 66.1%\n",
            "Digit 0 : 81.5%\n",
            "Digit 1 : 99.8%\n",
            "Digit 2 : 42.3%\n",
            "Digit 3 : 60.9%\n",
            "Digit 4 : 66.8%\n",
            "Digit 5 : 32.6%\n",
            "Digit 6 : 78.7%\n",
            "Digit 7 : 76.5%\n",
            "Digit 8 : 44.3%\n",
            "Digit 9 : 77.6%\n"
          ],
          "name": "stdout"
        },
        {
          "output_type": "display_data",
          "data": {
            "image/png": "[encoded data removed]",
            "text/plain": [
              "<Figure size 432x288 with 1 Axes>"
            ]
          },
          "metadata": {
            "tags": [],
            "needs_background": "light"
          }
        }
      ]
    },
    {
      "cell_type": "markdown",
      "metadata": {
        "id": "jbCACCCPdKvU"
      },
      "source": [
        "It seems our simple mathematical comparison of average pixel values already achieves 66.1% overall accuracy across the validation set! This is impressive considering some digits have similar strokes (e.g. 3, 5 and 8). You can see from the bar chart above, some digits perform better than others, with the '1' digit recognition achieving near perfect accuracy (99.8%) in stark contrast to the '5' digit (32.6%). \n",
        "\n",
        "So we've covered terminology, we've established a simple baseline based on pixel arithmetic. Let's start building this darn deep neural network!"
      ]
    },
    {
      "cell_type": "markdown",
      "metadata": {
        "id": "zx2pQqMzgN_5"
      },
      "source": [
        "## Thinking Like a Neural Network\n",
        "\n",
        "While \"Deep Learning\" sounds sophisticated, the underlying learning process under the hood doesn't sound quite as futuristic: \"try, rinse, repeat\". However, the real magic lies in the details, more specifically in how it \"rinses\" each cycle. After every cycle, it will adjust its own parameters to be \"better\". We'll see how it does this in just a second. Now let's reflect on our simple baseline method.\n",
        "\n",
        "Our baseline approach uses a very deterministic, binary algorithm for deciding whether a digit is correct or not: it will compare pixel distance with each reference mean and pick the mean where the distance is lowest. Considering that the input pixels and reference pixels never change, for each image our model will either be correct 100% of the time, or it will fail 100% of the time. There is no feedback loop, no way for the model to adjust along the way and no \"randomness\".\n",
        "\n",
        "Remember that our Linear Units have _parameters_. More specifically, each Linear Unit has a _weight_ and a _bias_: \n",
        "\n",
        "$y = \\textbf{w}x +\\textbf{b}$\n",
        "\n",
        "The beauty of parameters is that they can be tweaked, and the output $y$ will be different, much like we saw in our linear equation at the beginning of the post. \n",
        "\n",
        "With this simple equation as the engine for its neurons, a Neural Network is able to approximate anything. The approximation process is possible due to the iterative nature of trying a set of parameters, adjusting them and trying again. But how, you may be wondering, does a model choose the new set of parameters? Is it a random choice? Is it decided by a function? The answer is an inclusive \"yes\": it starts off with random values and gradually adjusts them according to a function: **the loss function**. The loss function measures how accurate the prediction is. The **optimizer function** then updates the parameters so as to minimize the loss function. It does this by looking at the rate of change (the gradient, aka slope) of each parameter as it was fed into the loss function and updates them (also called \"to step\") in the direction that will minimize the loss function. And this process has a fancy name, called **Stochastic Gradient Descent**. \n",
        "- _Descent_ because we want to get to make our way to the lower end of the loss function, \n",
        "- _Gradient_ because we use the gradient of each parameter to find in what direction to update them to make that descent, and \n",
        "- _Stochastic_ because it involves a litte bit of randomness, meaning it's not deterministic.\n",
        "\n",
        "Let's summarize all these steps again:\n",
        "1. We initialize the parameters (weights and biases for each input) to random values\n",
        "2. Make a prediction using those parameters\n",
        "3. Measure the accuracy of the prediction using a **loss function**\n",
        "4. We calculate how to update our parameters so as to minimize the loss function (remember: lower is better) using the **gradients** of the parameters' change as a result of the loss function. This is done via the **optimizer** function.\n",
        "5. We update our parameters and predict again, repeating the cycle until we are satisfied or the model stops improving significantly."
      ]
    },
    {
      "cell_type": "code",
      "metadata": {
        "colab": {
          "base_uri": "https://localhost:8080/",
          "height": 152
        },
        "id": "Ci58kzTY3z8p",
        "outputId": "b916aff7-2ccd-4dfc-a506-e88d6bda07c1"
      },
      "source": [
        "#hide_input\n",
        "gv('''\n",
        "initialize->predict->\"measure loss\"->\"step based on gradient\"->\"stop\"\n",
        "\"step based on gradient\"->predict[label=repeat]\n",
        "''')"
      ],
      "execution_count": 19,
      "outputs": [
        {
          "output_type": "execute_result",
          "data": {
            "text/plain": [
              "<graphviz.files.Source at 0x7fb5e9741a58>"
            ],
            "image/svg+xml": "<?xml version=\"1.0\" encoding=\"UTF-8\" standalone=\"no\"?>\n<!DOCTYPE svg PUBLIC \"-//W3C//DTD SVG 1.1//EN\"\n \"http://www.w3.org/Graphics/SVG/1.1/DTD/svg11.dtd\">\n<!-- Generated by graphviz version 2.40.1 (20161225.0304)\n -->\n<!-- Title: G Pages: 1 -->\n<svg width=\"670pt\" height=\"83pt\"\n viewBox=\"0.00 0.00 670.16 83.00\" xmlns=\"http://www.w3.org/2000/svg\" xmlns:xlink=\"http://www.w3.org/1999/xlink\">\n<g id=\"graph0\" class=\"graph\" transform=\"scale(1 1) rotate(0) translate(4 79)\">\n<title>G</title>\n<polygon fill=\"#ffffff\" stroke=\"transparent\" points=\"-4,4 -4,-79 666.1592,-79 666.1592,4 -4,4\"/>\n<!-- initialize -->\n<g id=\"node1\" class=\"node\">\n<title>initialize</title>\n<ellipse fill=\"none\" stroke=\"#000000\" cx=\"42.2463\" cy=\"-18\" rx=\"42.4939\" ry=\"18\"/>\n<text text-anchor=\"middle\" x=\"42.2463\" y=\"-14.3\" font-family=\"Times,serif\" font-size=\"14.00\" fill=\"#000000\">initialize</text>\n</g>\n<!-- predict -->\n<g id=\"node2\" class=\"node\">\n<title>predict</title>\n<ellipse fill=\"none\" stroke=\"#000000\" cx=\"157.8893\" cy=\"-18\" rx=\"36.2938\" ry=\"18\"/>\n<text text-anchor=\"middle\" x=\"157.8893\" y=\"-14.3\" font-family=\"Times,serif\" font-size=\"14.00\" fill=\"#000000\">predict</text>\n</g>\n<!-- initialize&#45;&gt;predict -->\n<g id=\"edge1\" class=\"edge\">\n<title>initialize&#45;&gt;predict</title>\n<path fill=\"none\" stroke=\"#000000\" d=\"M84.6508,-18C93.2685,-18 102.3792,-18 111.1378,-18\"/>\n<polygon fill=\"#000000\" stroke=\"#000000\" points=\"111.2073,-21.5001 121.2073,-18 111.2072,-14.5001 111.2073,-21.5001\"/>\n</g>\n<!-- measure loss -->\n<g id=\"node3\" class=\"node\">\n<title>measure loss</title>\n<ellipse fill=\"none\" stroke=\"#000000\" cx=\"289.1309\" cy=\"-57\" rx=\"57.6901\" ry=\"18\"/>\n<text text-anchor=\"middle\" x=\"289.1309\" y=\"-53.3\" font-family=\"Times,serif\" font-size=\"14.00\" fill=\"#000000\">measure loss</text>\n</g>\n<!-- predict&#45;&gt;measure loss -->\n<g id=\"edge2\" class=\"edge\">\n<title>predict&#45;&gt;measure loss</title>\n<path fill=\"none\" stroke=\"#000000\" d=\"M189.3249,-27.3415C203.6432,-31.5963 220.9741,-36.7464 237.1485,-41.5528\"/>\n<polygon fill=\"#000000\" stroke=\"#000000\" points=\"236.4499,-44.9964 247.0326,-44.49 238.4439,-38.2864 236.4499,-44.9964\"/>\n</g>\n<!-- step based on gradient -->\n<g id=\"node4\" class=\"node\">\n<title>step based on gradient</title>\n<ellipse fill=\"none\" stroke=\"#000000\" cx=\"477.5675\" cy=\"-18\" rx=\"93.6835\" ry=\"18\"/>\n<text text-anchor=\"middle\" x=\"477.5675\" y=\"-14.3\" font-family=\"Times,serif\" font-size=\"14.00\" fill=\"#000000\">step based on gradient</text>\n</g>\n<!-- measure loss&#45;&gt;step based on gradient -->\n<g id=\"edge3\" class=\"edge\">\n<title>measure loss&#45;&gt;step based on gradient</title>\n<path fill=\"none\" stroke=\"#000000\" d=\"M337.658,-46.9565C357.7057,-42.8073 381.3951,-37.9044 403.5261,-33.3241\"/>\n<polygon fill=\"#000000\" stroke=\"#000000\" points=\"404.483,-36.7003 413.566,-31.2461 403.0642,-29.8456 404.483,-36.7003\"/>\n</g>\n<!-- step based on gradient&#45;&gt;predict -->\n<g id=\"edge5\" class=\"edge\">\n<title>step based on gradient&#45;&gt;predict</title>\n<path fill=\"none\" stroke=\"#000000\" d=\"M384.8792,-15.4434C338.7152,-14.5335 282.0534,-13.9629 231.286,-15 222.6715,-15.176 213.4918,-15.468 204.6452,-15.8026\"/>\n<polygon fill=\"#000000\" stroke=\"#000000\" points=\"204.3188,-12.3128 194.467,-16.2105 204.5992,-19.3072 204.3188,-12.3128\"/>\n<text text-anchor=\"middle\" x=\"289.1309\" y=\"-18.8\" font-family=\"Times,serif\" font-size=\"14.00\" fill=\"#000000\">repeat</text>\n</g>\n<!-- stop -->\n<g id=\"node5\" class=\"node\">\n<title>stop</title>\n<ellipse fill=\"none\" stroke=\"#000000\" cx=\"635.1592\" cy=\"-18\" rx=\"27\" ry=\"18\"/>\n<text text-anchor=\"middle\" x=\"635.1592\" y=\"-14.3\" font-family=\"Times,serif\" font-size=\"14.00\" fill=\"#000000\">stop</text>\n</g>\n<!-- step based on gradient&#45;&gt;stop -->\n<g id=\"edge4\" class=\"edge\">\n<title>step based on gradient&#45;&gt;stop</title>\n<path fill=\"none\" stroke=\"#000000\" d=\"M571.5148,-18C580.773,-18 589.7411,-18 597.8816,-18\"/>\n<polygon fill=\"#000000\" stroke=\"#000000\" points=\"598.0612,-21.5001 608.0612,-18 598.0612,-14.5001 598.0612,-21.5001\"/>\n</g>\n</g>\n</svg>\n"
          },
          "metadata": {
            "tags": []
          },
          "execution_count": 19
        }
      ]
    },
    {
      "cell_type": "markdown",
      "metadata": {
        "id": "qBjtMXZqOp4c"
      },
      "source": [
        "Let's begin by implementing _something_ that follows these rules. The reason I call it _something_ is that you'll see later why it's not exactly a Deep Neural Network. But it will help us learn along the way and take it step by step.\n",
        "\n",
        "\n",
        "\n"
      ]
    },
    {
      "cell_type": "markdown",
      "metadata": {
        "id": "JN1Gzo2LPtrM"
      },
      "source": [
        "## Primordial Neural Network"
      ]
    },
    {
      "cell_type": "markdown",
      "metadata": {
        "id": "F2eue2YB3yb4"
      },
      "source": [
        "Our first Neural Network will start with a parameter for each pixel value of the input image ($28 \\times 28 = 784$), and will be fed directly into our loss function to measure our prediction accuracy. That means that our output needs to be a list of 10 probabilities--each probability corresponding to the likelihood that our reference image corresponds to a specific digit. These probabilities will need to sum to 1, as the classification is mutually exclusive (i.e. a '3' can only be a '3'). Other multi-label classification approaches are inclusive, meaning each input could have multiple labels (e.g. deciding if an image contains a person and/or a car and/or any other object). \n",
        "\n",
        "How do we condense all of our parameters into a list of probabilities? Say hello to my little friend: **Softmax**.\n",
        "\n",
        "### The Softmax Function\n",
        "\n",
        "The beautify of the Softmax function is that it normalizes a group of values from 0 to 1 in a way so that each value is interrelated with the others: together they sum to 1. This is perfect for generating a list of interrelated probabilities. If we were creating non-mutually exclusive classification, we would use Softmax's cousin Sigmoid, that normalizes each value from 0 to 1 _independently_. I'll leave diving deeper on the topic of Softmax vs Sigmoid as homework--you can start with this brilliant [blog post](https://glassboxmedicine.com/2019/05/26/classification-sigmoid-vs-softmax/).\n",
        "\n",
        "\n",
        "Let's admire Softmax in all of its glory:\n",
        "\n",
        "$\\text{Softmax}(x_i) = \\frac{e^{x_i}}{\\sum_j{e^{x_j}}}$\n",
        "\n",
        "Don't worry, it's a lot simpler than it looks, and is even simpler once we code it.Here's a quick explanation of how our Softmax works in three steps:\n",
        "1. Given a list of values, we calculate the exponential for each value, that is: $e^{n}$. Where $n$ is our value and $e$ is Euler's number, a [special number in Mathematics](https://en.wikipedia.org/wiki/E_(mathematical_constant)), and at the heart of the exponential function.\n",
        "2. We sum the exponential values (the Sigma symbol $\\sum$ means _sum_).\n",
        "3. Take each value in Step 1. and divide it by the sum obtained in Step 2. \n",
        "\n",
        "As Jeremy Howard says: a mathematical concept often sounds complicated until you code it. So let's code it. Below is my quick softmax implementation:\n"
      ]
    },
    {
      "cell_type": "code",
      "metadata": {
        "id": "SZxqbpp7SMz4"
      },
      "source": [
        "# Quick softmax implementation, expecting a list of values (rank-1 tensor)\n",
        "def softmax(v):\n",
        "  \"\"\"\n",
        "  Given an input vector v, returns an output vector containing\n",
        "  the softmax values for each element in the vector\n",
        "  \"\"\"\n",
        "  exp_v = torch.exp(v.float())\n",
        "  exp_sum = exp_v.sum()\n",
        "  return exp_v / exp_sum"
      ],
      "execution_count": 20,
      "outputs": []
    },
    {
      "cell_type": "code",
      "metadata": {
        "colab": {
          "base_uri": "https://localhost:8080/"
        },
        "id": "alpyl-sY7SAv",
        "outputId": "fa720a5f-bc78-4158-953d-9d5a3d53cd94"
      },
      "source": [
        "# An softmax example with a list of values [1,2,3]\n",
        "softmax(tensor([1,2,3]))"
      ],
      "execution_count": 21,
      "outputs": [
        {
          "output_type": "execute_result",
          "data": {
            "text/plain": [
              "tensor([0.0900, 0.2447, 0.6652])"
            ]
          },
          "metadata": {
            "tags": []
          },
          "execution_count": 21
        }
      ]
    },
    {
      "cell_type": "markdown",
      "metadata": {
        "id": "u8DpHuuIZylH"
      },
      "source": [
        "### Datasets \n",
        "\n",
        "Now that we have Softmax in our toolbelt, we can move on with the implementation. Let's start by preparing our data. We'll take our tensor stacks. Let's reduce the dimensions of our data by transforming each image tensor from a matrix of 28x28 to a vector (a list) of size 28*28 (meaning each pixel is in a series, not in a 2D coordinate space)"
      ]
    },
    {
      "cell_type": "code",
      "metadata": {
        "id": "zEJCI1dy-16P"
      },
      "source": [
        "# Create a single list containing all the image tensors, as vectors\n",
        "train_x = torch.cat(training_tensors).view(-1, 28*28)\n",
        "valid_x = torch.cat(validation_tensors).view(-1, 28*28)"
      ],
      "execution_count": 11,
      "outputs": []
    },
    {
      "cell_type": "code",
      "metadata": {
        "colab": {
          "base_uri": "https://localhost:8080/"
        },
        "id": "O7GMulb9_EXx",
        "outputId": "80d71f37-f2eb-42a4-b908-304b5658b22b"
      },
      "source": [
        "train_x.shape, valid_x.shape"
      ],
      "execution_count": 23,
      "outputs": [
        {
          "output_type": "execute_result",
          "data": {
            "text/plain": [
              "(torch.Size([60000, 784]), torch.Size([10000, 784]))"
            ]
          },
          "metadata": {
            "tags": []
          },
          "execution_count": 23
        }
      ]
    },
    {
      "cell_type": "markdown",
      "metadata": {
        "id": "k_wtQncAZsku"
      },
      "source": [
        "As you can see from the output of `train_x.shape`, we went from a rank-3 tensor (60000, 28, 28) to a rank-2 tensor (60000, 784). We now want as many outputs from our model as number of labels (in our case digits). So we need to flag for each training image which is the correct digit. To do this we'll populate a tensor of length 10 as our corresponding target labels (also referred to as $y$ variables. In that case our inputs are usually referred to as $X$, representing our features) and add a \"1\" to flag the corresponding index in the tensor corresponding to our digit. You can see what it looks like for each digit below. \n",
        "\n",
        "Each row represents the correct label representation for each digit. For example, the first row is the output labels valid for _all_ the 'zero' tensors (index 0 is set to 1, and the rest are 0), the second being the output labels for _all_ the 'one' tensors (index 1 is set to 1 and the rest are 0), etc. In a way, the 1's location inside the indicates 100% probability that that index represents the correct digit. Ideally, we want our model to output the exact same output. "
      ]
    },
    {
      "cell_type": "code",
      "metadata": {
        "colab": {
          "base_uri": "https://localhost:8080/"
        },
        "id": "H7n7K4Ayrjj_",
        "outputId": "4740aab4-f6df-44d7-957f-aa431f4661a0"
      },
      "source": [
        "# Every digit's tensor stack will have a label\n",
        "# with the corresponding index flagged as '1'.\n",
        "\n",
        "[[0]*i + [1] + [0]*(9-i) for i in range(10)]"
      ],
      "execution_count": 2,
      "outputs": [
        {
          "output_type": "execute_result",
          "data": {
            "text/plain": [
              "[[1, 0, 0, 0, 0, 0, 0, 0, 0, 0],\n",
              " [0, 1, 0, 0, 0, 0, 0, 0, 0, 0],\n",
              " [0, 0, 1, 0, 0, 0, 0, 0, 0, 0],\n",
              " [0, 0, 0, 1, 0, 0, 0, 0, 0, 0],\n",
              " [0, 0, 0, 0, 1, 0, 0, 0, 0, 0],\n",
              " [0, 0, 0, 0, 0, 1, 0, 0, 0, 0],\n",
              " [0, 0, 0, 0, 0, 0, 1, 0, 0, 0],\n",
              " [0, 0, 0, 0, 0, 0, 0, 1, 0, 0],\n",
              " [0, 0, 0, 0, 0, 0, 0, 0, 1, 0],\n",
              " [0, 0, 0, 0, 0, 0, 0, 0, 0, 1]]"
            ]
          },
          "metadata": {},
          "execution_count": 2
        }
      ]
    },
    {
      "cell_type": "markdown",
      "metadata": {
        "id": "1g19CvJt_SZ-"
      },
      "source": [
        "Let's associate a target label for each tensor in our stack, with the '1' corresponding to the digit it represents. "
      ]
    },
    {
      "cell_type": "code",
      "metadata": {
        "id": "WQr0073d_FXO"
      },
      "source": [
        "# Label our training and validation sets with the index\n",
        "train_y = torch.from_numpy(np.concatenate([[[0]*i + [1] + [0]*(9-i)]*len(training[f'{i}']) for i in range(10)]))\n",
        "valid_y = torch.from_numpy(np.concatenate([[[0]*i + [1] + [0]*(9-i)]*len(testing[f'{i}']) for i in range(10)]))"
      ],
      "execution_count": 12,
      "outputs": []
    },
    {
      "cell_type": "code",
      "metadata": {
        "colab": {
          "base_uri": "https://localhost:8080/"
        },
        "id": "8CwXlpSQ_kEK",
        "outputId": "0480b386-e0a0-459e-ec70-27c858fe0eb7"
      },
      "source": [
        "train_y.shape, valid_y.shape, train_y[0]"
      ],
      "execution_count": 26,
      "outputs": [
        {
          "output_type": "execute_result",
          "data": {
            "text/plain": [
              "(torch.Size([60000, 10]),\n",
              " torch.Size([10000, 10]),\n",
              " tensor([1, 0, 0, 0, 0, 0, 0, 0, 0, 0]))"
            ]
          },
          "metadata": {
            "tags": []
          },
          "execution_count": 26
        }
      ]
    },
    {
      "cell_type": "markdown",
      "metadata": {
        "id": "z8NSGgYy_cNk"
      },
      "source": [
        "Let's now merge them into a _dataset_. A dataset contains both $X$ and $y$ variables so that the model knows what $y$ to compare the prediction of $X$ against. We'll populate a training dataset with which to train the parameters, and a validation dataset that the parameters will never \"learn\" from, with which to benchmark our training against. A model may be very good at learning the peculiarities of its training data but may end up performing very poorly on its validation data as the features learned are not generalizable. This phenomenon is referred to as **over-fitting**.\n"
      ]
    },
    {
      "cell_type": "code",
      "metadata": {
        "colab": {
          "base_uri": "https://localhost:8080/"
        },
        "id": "YvGTC-AbCSZC",
        "outputId": "51638254-56d7-4944-bc27-d04979f19628"
      },
      "source": [
        "# Let's turn our training and validation X (features) and y (targets)\n",
        "# into datasets by zipping them so as to create a list of tuples (image tensor vector, label )\n",
        "dset = list(zip(train_x, train_y))\n",
        "dset_valid = list(zip(valid_x, valid_y))\n",
        "\n",
        "x,y = dset[0]\n",
        "x.shape,y"
      ],
      "execution_count": 13,
      "outputs": [
        {
          "output_type": "execute_result",
          "data": {
            "text/plain": [
              "(torch.Size([784]), tensor([1, 0, 0, 0, 0, 0, 0, 0, 0, 0]))"
            ]
          },
          "metadata": {
            "tags": []
          },
          "execution_count": 13
        }
      ]
    },
    {
      "cell_type": "markdown",
      "metadata": {
        "id": "CKIf8EAuLMmq"
      },
      "source": [
        "### Parameters"
      ]
    },
    {
      "cell_type": "markdown",
      "metadata": {
        "id": "bI1GQvFXAT6l"
      },
      "source": [
        "What we'll do now is start defining functions that we'll end up merging into a single model class. The first function we'll need is a function that simply initiates random numbers, and these random numbers will be our weights and biases for each pixel.\n",
        "\n",
        "We'll use the `.requires_grad_()` in-place operation to ask PyTorch to track the gradients, as we'll need them later to backtrack and update our parameters according to the loss function."
      ]
    },
    {
      "cell_type": "code",
      "metadata": {
        "id": "8Y0zTAB2gi39"
      },
      "source": [
        "def init_params(sizeD1, sizeD2=0):\n",
        "  if sizeD2 == 0:\n",
        "    return (torch.randn(sizeD1)).requires_grad_()\n",
        "  else:\n",
        "    return (torch.randn(sizeD1, sizeD2)).requires_grad_()"
      ],
      "execution_count": 28,
      "outputs": []
    },
    {
      "cell_type": "code",
      "metadata": {
        "id": "Gpjyrifig5kd"
      },
      "source": [
        "weights = init_params(28*28, 10) # the 'w' of the linear equation\n",
        "bias = init_params(10) # the 'b' of the linear equation"
      ],
      "execution_count": 29,
      "outputs": []
    },
    {
      "cell_type": "code",
      "metadata": {
        "colab": {
          "base_uri": "https://localhost:8080/"
        },
        "id": "w2j7d2J-zGyp",
        "outputId": "aa9d4d30-a3a0-46d0-abde-5e09ffeedaaf"
      },
      "source": [
        "weights.shape, bias.shape"
      ],
      "execution_count": 44,
      "outputs": [
        {
          "output_type": "execute_result",
          "data": {
            "text/plain": [
              "(torch.Size([784, 10]), torch.Size([10]))"
            ]
          },
          "metadata": {
            "tags": []
          },
          "execution_count": 44
        }
      ]
    },
    {
      "cell_type": "markdown",
      "metadata": {
        "id": "0J2TGyCxLV3Z"
      },
      "source": [
        "### Linear Equation"
      ]
    },
    {
      "cell_type": "markdown",
      "metadata": {
        "id": "oaviLtDehxn8"
      },
      "source": [
        "Next we need a function that performs the famous Linear Unit (neuron) operation that we've been talking about since the beginning of the post. It's as simple as:"
      ]
    },
    {
      "cell_type": "code",
      "metadata": {
        "id": "VIKFK8j_BOt6"
      },
      "source": [
        "def linear_eq(x):\n",
        "  return x@weights + bias"
      ],
      "execution_count": 45,
      "outputs": []
    },
    {
      "cell_type": "markdown",
      "metadata": {
        "id": "HG1xqs-OBPsw"
      },
      "source": [
        "Next we'll feed our training data `train_x` into our linear equation, which will associate the parameters we created earlier via matrix multiplication. That's what the `@` stands for in our function above. This gives us a first set of predictions (`preds`) that should perform quite poorly, more or less as well as picking the digits at random. "
      ]
    },
    {
      "cell_type": "code",
      "metadata": {
        "colab": {
          "base_uri": "https://localhost:8080/"
        },
        "id": "AOdvriDghOGy",
        "outputId": "37def302-5bc3-4aa0-9d46-294392ad5f47"
      },
      "source": [
        "# Calculate predictions on all the tensors\n",
        "preds = linear_eq(train_x)\n",
        "preds"
      ],
      "execution_count": 32,
      "outputs": [
        {
          "output_type": "execute_result",
          "data": {
            "text/plain": [
              "tensor([[-11.9867,  -4.2706,   4.6806,  ...,  -1.3517,  -0.0395,  13.5840],\n",
              "        [ -6.6797,  -4.4483,   1.4827,  ...,  -8.9409,   2.2570,  10.0881],\n",
              "        [-22.7994,   2.2295,  11.1160,  ...,  -1.8488,  25.5523,  22.3240],\n",
              "        ...,\n",
              "        [-16.7386,   4.0141,   3.9273,  ...,   1.5960,   9.7961,  12.3801],\n",
              "        [-14.1562,  -3.5679,   1.7541,  ...,   1.6506,  16.5308,  10.3213],\n",
              "        [-11.3688,   4.5965,   5.7170,  ...,  10.0353,   4.4967,   9.5438]], grad_fn=<AddBackward0>)"
            ]
          },
          "metadata": {
            "tags": []
          },
          "execution_count": 32
        }
      ]
    },
    {
      "cell_type": "code",
      "metadata": {
        "colab": {
          "base_uri": "https://localhost:8080/"
        },
        "id": "C6LAgIAPhYsG",
        "outputId": "9f348273-6227-45e1-db32-3bbaf3dd8acc"
      },
      "source": [
        "# Check accuracy\n",
        "_, max_indices = preds.max(-1) # get the index of max value along 2nd dimension\n",
        "_, tag_indices = train_y.max(-1) # get index of flag in our label tensors\n",
        "\n",
        "corrects = max_indices == tag_indices # check whether they match\n",
        "corrects.float().mean() # calculate mean"
      ],
      "execution_count": 33,
      "outputs": [
        {
          "output_type": "execute_result",
          "data": {
            "text/plain": [
              "tensor(0.1204)"
            ]
          },
          "metadata": {
            "tags": []
          },
          "execution_count": 33
        }
      ]
    },
    {
      "cell_type": "markdown",
      "metadata": {
        "id": "2K5qy_aH2zQt"
      },
      "source": [
        "We see here that randomly initialized parameters will perform more or less like...well...a random choice. In our test above we got a 12% performance rate versus a random chance of 10% (choosing a random number from 1 to 10). This is expected and a good sense check that our model parameters are initialized randomly. Now comes the fun part. Let's create a loss function against which it can measure itself. After that, we'll see how can create an optimizer function that will decide how to update the parameters to minimize the loss function, so as to continuously improve cycle after cycle.\n",
        "\n",
        "We'll first softmax our parameters so that they are between 0 and 1, and we'll check whether the outputs match the targets. \n"
      ]
    },
    {
      "cell_type": "code",
      "metadata": {
        "id": "Rzgp8Qtd09fd"
      },
      "source": [
        "# We'll use PyTorch's built in softmax function \n",
        "# so we can work in multiple dimensions easily.\n",
        "# It works exactly like our own softmax()\n",
        "def loss_function(predictions, targets):\n",
        "  sm = nn.Softmax(dim=-1) # instantiate PyTorch's softmax in the 2nd dimension\n",
        "  predictions = sm(predictions) # calculate the softmax across the 2nd dimension\n",
        "  return torch.where(targets==1, 1-predictions, predictions).mean(-1)\n"
      ],
      "execution_count": 49,
      "outputs": []
    },
    {
      "cell_type": "code",
      "metadata": {
        "id": "w-wXp0QYAfr3",
        "colab": {
          "base_uri": "https://localhost:8080/"
        },
        "outputId": "d441ff31-13ca-4495-fabf-849f7df29630"
      },
      "source": [
        "loss_function(preds, train_y)"
      ],
      "execution_count": 50,
      "outputs": [
        {
          "output_type": "stream",
          "text": [
            "torch.Size([60000, 10])\n"
          ],
          "name": "stdout"
        },
        {
          "output_type": "execute_result",
          "data": {
            "text/plain": [
              "tensor([0.2000, 0.2000, 0.2000,  ..., 0.0141, 0.1996, 0.1299], grad_fn=<MeanBackward1>)"
            ]
          },
          "metadata": {
            "tags": []
          },
          "execution_count": 50
        }
      ]
    },
    {
      "cell_type": "markdown",
      "metadata": {
        "id": "HR3Kiv_CDky1"
      },
      "source": [
        "### The Optimizer\n",
        "\n",
        "Once our model instantiates random parameter values, makes a prediction and measures the first prediction against the loss function, we now have \"report card\" for how it performed. Staying with that analogy, now is the time to read our report card (our \"grades\" are the distances from the target value) and fix our parameters so we get a better grade the next time around, using the teacher's feedback (our gradients).\n",
        "\n"
      ]
    },
    {
      "cell_type": "markdown",
      "metadata": {
        "id": "k8tpjNUQEmys"
      },
      "source": [
        "We first need to get our gradients, and then update our parameters using a simple formula in Stochastic Gradient Descent. This is what the formula looks like for each parameter $w$:\n",
        "\n",
        "$ w := w - \\eta \\nabla Q({w}) $\n",
        "\n",
        "As usual, this looks super complicated until you see it in code:"
      ]
    },
    {
      "cell_type": "code",
      "metadata": {
        "id": "bgiJCmhREpQN"
      },
      "source": [
        "# Compute the loss\n",
        "loss = loss_function(preds, yb)\n",
        "\n",
        "# Get the gradients\n",
        "loss.mean().backward()\n",
        "\n",
        "# Optimize our parameters\n",
        "for p in [weights, bias]:\n",
        "    p.data -= p.grad*lr # this line is the formula above\n",
        "    p.grad.zero_()"
      ],
      "execution_count": null,
      "outputs": []
    },
    {
      "cell_type": "markdown",
      "metadata": {
        "id": "xdFpcsetGnai"
      },
      "source": [
        "All we're doing is just subtracting the gradient! To get the gradient, `p.grad`, we need to use PyTorch's `.backward()` functionality on the output of our `loss_function`, $Q$, so it can calculate the gradients for all the parameters in our weight and bias tensors as a result of the loss function. This is done automatically thanks to the fact that we added `.requires_grad_()` earlier to our parameters.\n",
        "\n",
        "If you have a keen eye, you'll see in the code that we muliply the `p.grad` by a value called `lr`. This is the **learning rate**, $\\eta$ in the formula. This is just a weighing factor we use to reduce the amount of movement along the loss function from one update to the next. Typical values range from 0.001 to 0.1. Why is it important to not go too much in one direction? If you imagine a loss function like a parabola, our optimal point is at the bottom of the parabola. If we overshoot, we could be bouncing around from one side of the parabola to the other. A smaller step-based approach helps prevent that."
      ]
    },
    {
      "cell_type": "markdown",
      "metadata": {
        "id": "Dcm32XgYK_JI"
      },
      "source": [
        "### Batches"
      ]
    },
    {
      "cell_type": "markdown",
      "metadata": {
        "id": "vupJ_NWnEtNb"
      },
      "source": [
        "Before we combine everything together into a model, let's introduce the concept of **batches**. Rather than measure predictions across all the dataset before estimating our performance, research has found that doing it with batches of training data is significantly faster and yields good results. This is also referred to as _mini-batches_. It's a compromise between having to run your function against _all_ the values in the training dataset every time (therefore requiring a lot of resources when you have millions of items to process), or doing it for each single item in the dataset, which would be fast, but would not be representative of the group. Either extremes are bad for different reasons, so a good compromise is selecting a random batch of samples every time, and running the prediction-loss-step cycle on that batch thereby updating the parameters. A good batch size is small enough to be performant and large enough to be somewhat representative of the overall dataset. When we complete a round of batches (i.e. all of our samples are used in training exactly once), we have completed an **epoch**. \n",
        "\n",
        "For batching, we'll use fast.ai's DataLoader. While it offers a lot of additional functionality, all we'll use it for is as an iterator that will split up our inputs into batches to feed into the model until all the samples are fed through. \n",
        "\n"
      ]
    },
    {
      "cell_type": "code",
      "metadata": {
        "id": "seaLcowimGcR"
      },
      "source": [
        "dl = DataLoader(dset, batch_size=128, shuffle=True)\n",
        "valid_dl = DataLoader(dset_valid, batch_size=128, shuffle=True)"
      ],
      "execution_count": 14,
      "outputs": []
    },
    {
      "cell_type": "markdown",
      "metadata": {
        "id": "D17mPc6bLdXz"
      },
      "source": [
        "### Our MNIST Model"
      ]
    },
    {
      "cell_type": "markdown",
      "metadata": {
        "id": "FOWT7tGhIuVf"
      },
      "source": [
        "Now that our dataset is conveniently split up into batches, we can combine all the different functionality we saw up until now and create an MNIST Model class to train. Below is a (naive and specific) implementation of a Model specifically trained to deal with the characteristics of our MNIST task.\n",
        "\n",
        "Our class has the following characteristics (feel free to skip ahead and just read the source code directly)\n",
        "\n",
        "#### Inputs\n",
        "\n",
        "This is what the model needs to instantiate:\n",
        "- `train_dl`: our training DataLoader\n",
        "- `valid_dl`: our validation DataLoader\n",
        "- `epochs`: the number of epochs (complete rounds of the training data to perform)\n",
        "- `lr`: our learning rate\n",
        "- `verbose`: which just flags whether we want to print out feedback.\n",
        "\n",
        "#### Functions\n",
        "\n",
        "These are the functions our model uses to perform the operations. They are prefixed with an `_` to differentiate them from our methods.\n",
        "- `_print()`: is just a simple print function that only prints if flag `verbose` is true.\n",
        "- `_init_params()`: our initializes parameters.\n",
        "- `_linear_eq()`: our linear equation above.\n",
        "- `_loss_function()`: our loss function above.\n",
        "- `_calc_grad()`: takes the input training data, runs it through `_linear_eq` to get predictions and calculates the loss via the `_loss_function`. Then calls `.backwards()` on the loss results to get the gradients.\n",
        "- `_batch_accuracy()`: softmaxes a prediction and compares it against the corresponding label. That is, the index with the max value in the vector (highest probability) should be the same as the index with the '1' flag in our label vector. True if it's the case, False otherwise. Then returns the mean result, representing our batch accuracy. This is used in our `_validate_epoch` function and only used with validation data.\n",
        "- `_validate_epoch()`: once a training epoch is complete, we run our model through each batch of our validation data and cumulatively aggregate accuracies of each batch obtained via `_batch_accuracy` into an overall epoch score.\n",
        "\n",
        "#### Methods\n",
        "\n",
        "Our model has two main methods: `train` and `predict`. \n",
        "- `train`: for each epoch, for each batch performs the training (via `_calc_grad`), the optimizing and validates each epoch (via `_validate_epoch`). \n",
        "- `predict`: similar to _batch_accuracy but only works on a single input image. It expects an image tensor as input and runs the tensor through its current parameters, outputting its predicted digit as well as the probabilities for other digits."
      ]
    },
    {
      "cell_type": "code",
      "metadata": {
        "id": "aqg5hImga71j"
      },
      "source": [
        "#collapse_show\n",
        "class MNISTLinearRegression:\n",
        "  def __init__(self, train_dl, valid_dl, epochs, lr, verbose):\n",
        "    self.lr = lr\n",
        "    self.train_dl = train_dl\n",
        "    self.valid_dl = valid_dl\n",
        "    self.epochs = epochs\n",
        "    self.weights, self.bias = self._init_params()\n",
        "    self.softmax = nn.Softmax(dim=-1)\n",
        "    self.accuracy_scores = []\n",
        "    self.verbose = verbose\n",
        "\n",
        "  def train(self):\n",
        "    for i in range(self.epochs):\n",
        "      for xb, yb in self.train_dl:\n",
        "        self._calc_grad(xb, yb)\n",
        "        for p in [self.weights, self.bias]:\n",
        "            p.data -= p.grad*self.lr\n",
        "            p.grad.zero_()\n",
        "\n",
        "      self._validate_epoch(i)\n",
        "\n",
        "  def predict(self, image_tensor):\n",
        "    probabilities = self.softmax(self._linear_eq(image_tensor))\n",
        "    _, prediction = probabilities.max(-1)\n",
        "    #self._print(\"Predicted digit: {} (with {:.2%} confidence)\".format(1,0.9))\n",
        "    # Return digit and vector of probabilities\n",
        "    return prediction, probabilities\n",
        "\n",
        "  def _calc_grad(self, xb, yb):\n",
        "    preds = self._linear_eq(xb)\n",
        "    loss = self._loss_function(preds, yb)\n",
        "    loss.mean().backward()\n",
        "\n",
        "  def _batch_accuracy(self, xb, yb):\n",
        "    predictions = self.softmax(xb) # calculate the softmax across the 2nd dimension\n",
        "    _, max_indices = xb.max(-1) # get the index of max value along 2nd dimension\n",
        "    _, tag_indices = yb.max(-1) # get index of flag in our label tensors\n",
        "    corrects = max_indices == tag_indices # check whether they match\n",
        "    return corrects.float().mean() # calculate mean\n",
        "\n",
        "  def _validate_epoch(self, i):\n",
        "    accs = [self._batch_accuracy(self._linear_eq(xb), yb) for xb,yb in self.valid_dl]\n",
        "    score = round(torch.stack(accs).mean().item(), 4)\n",
        "    self.accuracy_scores.append(score)\n",
        "    self._print(f'Epoch #{i}', score)\n",
        "\n",
        "  def _linear_eq(self, x):\n",
        "    return x@self.weights + self.bias\n",
        "\n",
        "  def _loss_function(self, predictions, targets):\n",
        "    predictions = self.softmax(predictions) # calculate the softmax across the 2nd dimension\n",
        "    return torch.where(targets==1, 1-predictions, predictions).mean(-1)\n",
        "\n",
        "  def _print(self, *args):\n",
        "    if self.verbose:\n",
        "      print(*args)\n",
        "\n",
        "  # Linear regression using SGD\n",
        "  def _init_params(*args):\n",
        "    return (torch.randn(28*28, 10)).requires_grad_(), (torch.randn(10)).requires_grad_()\n",
        "\n",
        "\n"
      ],
      "execution_count": 7,
      "outputs": []
    },
    {
      "cell_type": "markdown",
      "metadata": {
        "id": "oGIUdcMHPxqE"
      },
      "source": [
        "Now that we've created it, let's try it in action!"
      ]
    },
    {
      "cell_type": "code",
      "metadata": {
        "id": "1Wvrk9NJIqD8"
      },
      "source": [
        "model = MNISTLinearRegression(dl, valid_dl, 50, 1, True)"
      ],
      "execution_count": 19,
      "outputs": []
    },
    {
      "cell_type": "code",
      "metadata": {
        "colab": {
          "base_uri": "https://localhost:8080/"
        },
        "id": "VARTm-4Amb2Y",
        "outputId": "97266aa4-5c0b-4321-c419-f89625eb724c"
      },
      "source": [
        "model.train()"
      ],
      "execution_count": 20,
      "outputs": [
        {
          "output_type": "stream",
          "text": [
            "Epoch #0 0.225\n",
            "Epoch #1 0.2896\n",
            "Epoch #2 0.335\n",
            "Epoch #3 0.3665\n",
            "Epoch #4 0.4239\n",
            "Epoch #5 0.4645\n",
            "Epoch #6 0.486\n",
            "Epoch #7 0.5055\n",
            "Epoch #8 0.5214\n",
            "Epoch #9 0.5243\n",
            "Epoch #10 0.5343\n",
            "Epoch #11 0.5356\n",
            "Epoch #12 0.5389\n",
            "Epoch #13 0.5466\n",
            "Epoch #14 0.5463\n",
            "Epoch #15 0.5468\n",
            "Epoch #16 0.5506\n",
            "Epoch #17 0.5522\n",
            "Epoch #18 0.553\n",
            "Epoch #19 0.5556\n",
            "Epoch #20 0.5578\n",
            "Epoch #21 0.5579\n",
            "Epoch #22 0.5573\n",
            "Epoch #23 0.5617\n",
            "Epoch #24 0.5599\n",
            "Epoch #25 0.5615\n",
            "Epoch #26 0.5599\n",
            "Epoch #27 0.5615\n",
            "Epoch #28 0.5604\n",
            "Epoch #29 0.5602\n",
            "Epoch #30 0.5666\n",
            "Epoch #31 0.5702\n",
            "Epoch #32 0.5837\n",
            "Epoch #33 0.6356\n",
            "Epoch #34 0.6464\n",
            "Epoch #35 0.6619\n",
            "Epoch #36 0.677\n",
            "Epoch #37 0.6907\n",
            "Epoch #38 0.6961\n",
            "Epoch #39 0.7083\n",
            "Epoch #40 0.7107\n",
            "Epoch #41 0.7188\n",
            "Epoch #42 0.7252\n",
            "Epoch #43 0.7276\n",
            "Epoch #44 0.7353\n",
            "Epoch #45 0.7479\n",
            "Epoch #46 0.7646\n",
            "Epoch #47 0.7808\n",
            "Epoch #48 0.7929\n",
            "Epoch #49 0.8005\n"
          ],
          "name": "stdout"
        }
      ]
    },
    {
      "cell_type": "markdown",
      "metadata": {
        "id": "XG6Dyf_HkpJR"
      },
      "source": [
        "Not bad! After 50 epochs we reached 80% accuracy, way ahead of our baseline! I tried running this multiple times and the results vary, depending on the initial parameters and the learning rate.\n",
        "\n",
        "Remember the example '5' we used earlier in the post to try out our baseline average pixel value approach? If you remember, it didn't even work properly as the distance to the reference means '3' and '8' was closer! Let's take that same image and see what our model predicts. "
      ]
    },
    {
      "cell_type": "code",
      "metadata": {
        "colab": {
          "base_uri": "https://localhost:8080/"
        },
        "id": "4lQvQA8Gjzxg",
        "outputId": "a1c22abc-967f-4f85-ffe3-900c1843ca4a"
      },
      "source": [
        "val_5 = (tensor(Image.open(testing['5'][0])).float()/255).view(-1, 28*28)\n",
        "a = model.predict(val_5)\n",
        "a"
      ],
      "execution_count": 38,
      "outputs": [
        {
          "output_type": "execute_result",
          "data": {
            "text/plain": [
              "(tensor([5]),\n",
              " tensor([[1.6423e-13, 7.6946e-22, 1.9228e-15, 2.0405e-04, 1.1598e-18, 9.9980e-01, 6.9507e-23, 2.2210e-20, 5.8148e-25, 1.8752e-18]], grad_fn=<SoftmaxBackward>))"
            ]
          },
          "metadata": {
            "tags": []
          },
          "execution_count": 38
        }
      ]
    },
    {
      "cell_type": "markdown",
      "metadata": {
        "id": "IOQ2JNyFP5Kz"
      },
      "source": [
        "Yay. It works! It correctly predicted the '5' digit, with probability 99.98%. "
      ]
    },
    {
      "cell_type": "markdown",
      "metadata": {
        "id": "x_GB56zgJvF0"
      },
      "source": [
        "## Activating our network!\n",
        "\n",
        "You may have noticed that we called our model a \"MNISTLinearRegressor\". I have to break it to you, what we've done up to now is create a linear regressor with a self-correcting capability through Stochastic Gradient Descent..._not_ a neural network. That being said, we've gotten some pretty impressive results with just this linear classifier. However, a neural network is non-linear. How do we break the linearity? That is what we'll tack in **Part 2** (to be published soon)!"
      ]
    }
  ]
}